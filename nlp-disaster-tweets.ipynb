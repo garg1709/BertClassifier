{
 "cells": [
  {
   "cell_type": "code",
   "execution_count": 1,
   "id": "96707559",
   "metadata": {
    "_cell_guid": "b1076dfc-b9ad-4769-8c92-a6c4dae69d19",
    "_uuid": "8f2839f25d086af736a60e9eeb907d3b93b6e0e5",
    "execution": {
     "iopub.execute_input": "2023-05-21T11:48:10.495192Z",
     "iopub.status.busy": "2023-05-21T11:48:10.494639Z",
     "iopub.status.idle": "2023-05-21T11:48:10.512745Z",
     "shell.execute_reply": "2023-05-21T11:48:10.511776Z"
    },
    "papermill": {
     "duration": 0.05935,
     "end_time": "2023-05-21T11:48:10.515549",
     "exception": false,
     "start_time": "2023-05-21T11:48:10.456199",
     "status": "completed"
    },
    "tags": []
   },
   "outputs": [
    {
     "name": "stdout",
     "output_type": "stream",
     "text": [
      "/kaggle/input/GloveWordEmbeddings/glove.twitter.27B.200d.txt\n",
      "/kaggle/input/GloveWordEmbeddings/glove.6B.200d.txt\n",
      "/kaggle/input/GloveWordEmbeddings/glove.twitter.27B.25d.txt\n",
      "/kaggle/input/GloveWordEmbeddings/glove.twitter.27B.50d.txt\n",
      "/kaggle/input/GloveWordEmbeddings/glove.6B.50d.txt\n",
      "/kaggle/input/GloveWordEmbeddings/glove.twitter.27B.100d.txt\n",
      "/kaggle/input/GloveWordEmbeddings/glove.6B.300d.txt\n",
      "/kaggle/input/GloveWordEmbeddings/glove.840B.300d.txt\n",
      "/kaggle/input/GloveWordEmbeddings/glove.6B.100d.txt\n",
      "/kaggle/input/GloveWordEmbeddings/glove.42B.300d.txt\n",
      "/kaggle/input/nlp-getting-started/sample_submission.csv\n",
      "/kaggle/input/nlp-getting-started/train.csv\n",
      "/kaggle/input/nlp-getting-started/test.csv\n"
     ]
    }
   ],
   "source": [
    "# This Python 3 environment comes with many helpful analytics libraries installed\n",
    "# It is defined by the kaggle/python Docker image: https://github.com/kaggle/docker-python\n",
    "# For example, here's several helpful packages to load\n",
    "\n",
    "import numpy as np # linear algebra\n",
    "import pandas as pd # data processing, CSV file I/O (e.g. pd.read_csv)\n",
    "\n",
    "# Input data files are available in the read-only \"../input/\" directory\n",
    "# For example, running this (by clicking run or pressing Shift+Enter) will list all files under the input directory\n",
    "\n",
    "import os\n",
    "for dirname, _, filenames in os.walk('/kaggle/input'):\n",
    "    for filename in filenames:\n",
    "        print(os.path.join(dirname, filename))\n",
    "\n",
    "# You can write up to 20GB to the current directory (/kaggle/working/) that gets preserved as output when you create a version using \"Save & Run All\" \n",
    "# You can also write temporary files to /kaggle/temp/, but they won't be saved outside of the current session"
   ]
  },
  {
   "cell_type": "code",
   "execution_count": 2,
   "id": "73a5665f",
   "metadata": {
    "execution": {
     "iopub.execute_input": "2023-05-21T11:48:10.587428Z",
     "iopub.status.busy": "2023-05-21T11:48:10.586608Z",
     "iopub.status.idle": "2023-05-21T11:48:18.665107Z",
     "shell.execute_reply": "2023-05-21T11:48:18.664110Z"
    },
    "papermill": {
     "duration": 8.116546,
     "end_time": "2023-05-21T11:48:18.667651",
     "exception": false,
     "start_time": "2023-05-21T11:48:10.551105",
     "status": "completed"
    },
    "tags": []
   },
   "outputs": [],
   "source": [
    "import pandas as pd\n",
    "import numpy as np\n",
    "import os\n",
    "import matplotlib\n",
    "import matplotlib.pyplot as plt\n",
    "import matplotlib.patches as mpatches\n",
    "import seaborn as sns\n",
    "\n",
    "from nltk.corpus import stopwords\n",
    "from nltk.util import ngrams\n",
    "\n",
    "from wordcloud import WordCloud\n",
    "\n",
    "from sklearn.feature_extraction.text import CountVectorizer, TfidfVectorizer\n",
    "from sklearn.model_selection import train_test_split\n",
    "from sklearn.decomposition import PCA, TruncatedSVD\n",
    "from sklearn.metrics import classification_report,confusion_matrix\n",
    "\n",
    "from collections import defaultdict\n",
    "from collections import Counter\n",
    "plt.style.use('ggplot')\n",
    "stop=set(stopwords.words('english'))\n",
    "\n",
    "import re\n",
    "from nltk.tokenize import word_tokenize\n",
    "import gensim\n",
    "import string\n",
    "\n",
    "import tensorflow as tf\n",
    "from tqdm import tqdm\n",
    "from tensorflow.keras.preprocessing.text import Tokenizer\n",
    "from tensorflow.keras.preprocessing.sequence import pad_sequences\n",
    "from tensorflow.keras.models import Sequential\n",
    "from tensorflow.keras.layers import Embedding, LSTM,Dense, SpatialDropout1D, Dropout\n",
    "from tensorflow.keras.initializers import Constant\n",
    "from tensorflow.keras.optimizers import Adam\n",
    "\n",
    "import torch\n",
    "\n",
    "import warnings\n",
    "warnings.simplefilter('ignore')"
   ]
  },
  {
   "cell_type": "code",
   "execution_count": 3,
   "id": "5aef1288",
   "metadata": {
    "execution": {
     "iopub.execute_input": "2023-05-21T11:48:18.740068Z",
     "iopub.status.busy": "2023-05-21T11:48:18.738674Z",
     "iopub.status.idle": "2023-05-21T11:48:18.781476Z",
     "shell.execute_reply": "2023-05-21T11:48:18.780570Z"
    },
    "papermill": {
     "duration": 0.08089,
     "end_time": "2023-05-21T11:48:18.783730",
     "exception": false,
     "start_time": "2023-05-21T11:48:18.702840",
     "status": "completed"
    },
    "tags": []
   },
   "outputs": [],
   "source": [
    "df_train = pd.read_csv('../input/nlp-getting-started/train.csv')"
   ]
  },
  {
   "cell_type": "code",
   "execution_count": 4,
   "id": "7b183803",
   "metadata": {
    "execution": {
     "iopub.execute_input": "2023-05-21T11:48:18.856433Z",
     "iopub.status.busy": "2023-05-21T11:48:18.855464Z",
     "iopub.status.idle": "2023-05-21T11:48:18.874011Z",
     "shell.execute_reply": "2023-05-21T11:48:18.873084Z"
    },
    "papermill": {
     "duration": 0.05654,
     "end_time": "2023-05-21T11:48:18.876093",
     "exception": false,
     "start_time": "2023-05-21T11:48:18.819553",
     "status": "completed"
    },
    "tags": []
   },
   "outputs": [
    {
     "data": {
      "text/html": [
       "<div>\n",
       "<style scoped>\n",
       "    .dataframe tbody tr th:only-of-type {\n",
       "        vertical-align: middle;\n",
       "    }\n",
       "\n",
       "    .dataframe tbody tr th {\n",
       "        vertical-align: top;\n",
       "    }\n",
       "\n",
       "    .dataframe thead th {\n",
       "        text-align: right;\n",
       "    }\n",
       "</style>\n",
       "<table border=\"1\" class=\"dataframe\">\n",
       "  <thead>\n",
       "    <tr style=\"text-align: right;\">\n",
       "      <th></th>\n",
       "      <th>id</th>\n",
       "      <th>keyword</th>\n",
       "      <th>location</th>\n",
       "      <th>text</th>\n",
       "      <th>target</th>\n",
       "    </tr>\n",
       "  </thead>\n",
       "  <tbody>\n",
       "    <tr>\n",
       "      <th>0</th>\n",
       "      <td>1</td>\n",
       "      <td>NaN</td>\n",
       "      <td>NaN</td>\n",
       "      <td>Our Deeds are the Reason of this #earthquake M...</td>\n",
       "      <td>1</td>\n",
       "    </tr>\n",
       "    <tr>\n",
       "      <th>1</th>\n",
       "      <td>4</td>\n",
       "      <td>NaN</td>\n",
       "      <td>NaN</td>\n",
       "      <td>Forest fire near La Ronge Sask. Canada</td>\n",
       "      <td>1</td>\n",
       "    </tr>\n",
       "    <tr>\n",
       "      <th>2</th>\n",
       "      <td>5</td>\n",
       "      <td>NaN</td>\n",
       "      <td>NaN</td>\n",
       "      <td>All residents asked to 'shelter in place' are ...</td>\n",
       "      <td>1</td>\n",
       "    </tr>\n",
       "    <tr>\n",
       "      <th>3</th>\n",
       "      <td>6</td>\n",
       "      <td>NaN</td>\n",
       "      <td>NaN</td>\n",
       "      <td>13,000 people receive #wildfires evacuation or...</td>\n",
       "      <td>1</td>\n",
       "    </tr>\n",
       "    <tr>\n",
       "      <th>4</th>\n",
       "      <td>7</td>\n",
       "      <td>NaN</td>\n",
       "      <td>NaN</td>\n",
       "      <td>Just got sent this photo from Ruby #Alaska as ...</td>\n",
       "      <td>1</td>\n",
       "    </tr>\n",
       "  </tbody>\n",
       "</table>\n",
       "</div>"
      ],
      "text/plain": [
       "   id keyword location                                               text  \\\n",
       "0   1     NaN      NaN  Our Deeds are the Reason of this #earthquake M...   \n",
       "1   4     NaN      NaN             Forest fire near La Ronge Sask. Canada   \n",
       "2   5     NaN      NaN  All residents asked to 'shelter in place' are ...   \n",
       "3   6     NaN      NaN  13,000 people receive #wildfires evacuation or...   \n",
       "4   7     NaN      NaN  Just got sent this photo from Ruby #Alaska as ...   \n",
       "\n",
       "   target  \n",
       "0       1  \n",
       "1       1  \n",
       "2       1  \n",
       "3       1  \n",
       "4       1  "
      ]
     },
     "execution_count": 4,
     "metadata": {},
     "output_type": "execute_result"
    }
   ],
   "source": [
    "df_train.head()"
   ]
  },
  {
   "cell_type": "code",
   "execution_count": 5,
   "id": "090d86ea",
   "metadata": {
    "execution": {
     "iopub.execute_input": "2023-05-21T11:48:18.947488Z",
     "iopub.status.busy": "2023-05-21T11:48:18.946746Z",
     "iopub.status.idle": "2023-05-21T11:48:18.968019Z",
     "shell.execute_reply": "2023-05-21T11:48:18.967134Z"
    },
    "papermill": {
     "duration": 0.059525,
     "end_time": "2023-05-21T11:48:18.970153",
     "exception": false,
     "start_time": "2023-05-21T11:48:18.910628",
     "status": "completed"
    },
    "tags": []
   },
   "outputs": [],
   "source": [
    "df_test = pd.read_csv('../input/nlp-getting-started/test.csv')"
   ]
  },
  {
   "cell_type": "code",
   "execution_count": 6,
   "id": "874b3747",
   "metadata": {
    "execution": {
     "iopub.execute_input": "2023-05-21T11:48:19.042222Z",
     "iopub.status.busy": "2023-05-21T11:48:19.041219Z",
     "iopub.status.idle": "2023-05-21T11:48:19.052127Z",
     "shell.execute_reply": "2023-05-21T11:48:19.051149Z"
    },
    "papermill": {
     "duration": 0.049353,
     "end_time": "2023-05-21T11:48:19.054295",
     "exception": false,
     "start_time": "2023-05-21T11:48:19.004942",
     "status": "completed"
    },
    "tags": []
   },
   "outputs": [
    {
     "data": {
      "text/html": [
       "<div>\n",
       "<style scoped>\n",
       "    .dataframe tbody tr th:only-of-type {\n",
       "        vertical-align: middle;\n",
       "    }\n",
       "\n",
       "    .dataframe tbody tr th {\n",
       "        vertical-align: top;\n",
       "    }\n",
       "\n",
       "    .dataframe thead th {\n",
       "        text-align: right;\n",
       "    }\n",
       "</style>\n",
       "<table border=\"1\" class=\"dataframe\">\n",
       "  <thead>\n",
       "    <tr style=\"text-align: right;\">\n",
       "      <th></th>\n",
       "      <th>id</th>\n",
       "      <th>keyword</th>\n",
       "      <th>location</th>\n",
       "      <th>text</th>\n",
       "    </tr>\n",
       "  </thead>\n",
       "  <tbody>\n",
       "    <tr>\n",
       "      <th>0</th>\n",
       "      <td>0</td>\n",
       "      <td>NaN</td>\n",
       "      <td>NaN</td>\n",
       "      <td>Just happened a terrible car crash</td>\n",
       "    </tr>\n",
       "    <tr>\n",
       "      <th>1</th>\n",
       "      <td>2</td>\n",
       "      <td>NaN</td>\n",
       "      <td>NaN</td>\n",
       "      <td>Heard about #earthquake is different cities, s...</td>\n",
       "    </tr>\n",
       "    <tr>\n",
       "      <th>2</th>\n",
       "      <td>3</td>\n",
       "      <td>NaN</td>\n",
       "      <td>NaN</td>\n",
       "      <td>there is a forest fire at spot pond, geese are...</td>\n",
       "    </tr>\n",
       "    <tr>\n",
       "      <th>3</th>\n",
       "      <td>9</td>\n",
       "      <td>NaN</td>\n",
       "      <td>NaN</td>\n",
       "      <td>Apocalypse lighting. #Spokane #wildfires</td>\n",
       "    </tr>\n",
       "    <tr>\n",
       "      <th>4</th>\n",
       "      <td>11</td>\n",
       "      <td>NaN</td>\n",
       "      <td>NaN</td>\n",
       "      <td>Typhoon Soudelor kills 28 in China and Taiwan</td>\n",
       "    </tr>\n",
       "  </tbody>\n",
       "</table>\n",
       "</div>"
      ],
      "text/plain": [
       "   id keyword location                                               text\n",
       "0   0     NaN      NaN                 Just happened a terrible car crash\n",
       "1   2     NaN      NaN  Heard about #earthquake is different cities, s...\n",
       "2   3     NaN      NaN  there is a forest fire at spot pond, geese are...\n",
       "3   9     NaN      NaN           Apocalypse lighting. #Spokane #wildfires\n",
       "4  11     NaN      NaN      Typhoon Soudelor kills 28 in China and Taiwan"
      ]
     },
     "execution_count": 6,
     "metadata": {},
     "output_type": "execute_result"
    }
   ],
   "source": [
    "df_test.head()"
   ]
  },
  {
   "cell_type": "code",
   "execution_count": 7,
   "id": "466f1c57",
   "metadata": {
    "execution": {
     "iopub.execute_input": "2023-05-21T11:48:19.126170Z",
     "iopub.status.busy": "2023-05-21T11:48:19.125125Z",
     "iopub.status.idle": "2023-05-21T11:48:19.131891Z",
     "shell.execute_reply": "2023-05-21T11:48:19.130827Z"
    },
    "papermill": {
     "duration": 0.045897,
     "end_time": "2023-05-21T11:48:19.135239",
     "exception": false,
     "start_time": "2023-05-21T11:48:19.089342",
     "status": "completed"
    },
    "tags": []
   },
   "outputs": [
    {
     "name": "stdout",
     "output_type": "stream",
     "text": [
      "There are 7613 rows and 5 columns in the train dataset\n",
      "There are 3263 rows and 4 columns in the test dataset\n"
     ]
    }
   ],
   "source": [
    "print(\"There are {} rows and {} columns in the train dataset\".format\n",
    "      (df_train.shape[0],df_train.shape[1]))\n",
    "print(\"There are {} rows and {} columns in the test dataset\".format\n",
    "      (df_test.shape[0],df_test.shape[1]))"
   ]
  },
  {
   "cell_type": "code",
   "execution_count": 8,
   "id": "7e2735fb",
   "metadata": {
    "execution": {
     "iopub.execute_input": "2023-05-21T11:48:19.205959Z",
     "iopub.status.busy": "2023-05-21T11:48:19.205650Z",
     "iopub.status.idle": "2023-05-21T11:48:19.231024Z",
     "shell.execute_reply": "2023-05-21T11:48:19.229996Z"
    },
    "papermill": {
     "duration": 0.063138,
     "end_time": "2023-05-21T11:48:19.233234",
     "exception": false,
     "start_time": "2023-05-21T11:48:19.170096",
     "status": "completed"
    },
    "tags": []
   },
   "outputs": [
    {
     "name": "stdout",
     "output_type": "stream",
     "text": [
      "<class 'pandas.core.frame.DataFrame'>\n",
      "RangeIndex: 7613 entries, 0 to 7612\n",
      "Data columns (total 5 columns):\n",
      " #   Column    Non-Null Count  Dtype \n",
      "---  ------    --------------  ----- \n",
      " 0   id        7613 non-null   int64 \n",
      " 1   keyword   7552 non-null   object\n",
      " 2   location  5080 non-null   object\n",
      " 3   text      7613 non-null   object\n",
      " 4   target    7613 non-null   int64 \n",
      "dtypes: int64(2), object(3)\n",
      "memory usage: 297.5+ KB\n"
     ]
    }
   ],
   "source": [
    "df_train.info()"
   ]
  },
  {
   "cell_type": "code",
   "execution_count": 9,
   "id": "f4216a73",
   "metadata": {
    "execution": {
     "iopub.execute_input": "2023-05-21T11:48:19.306019Z",
     "iopub.status.busy": "2023-05-21T11:48:19.305174Z",
     "iopub.status.idle": "2023-05-21T11:48:19.408401Z",
     "shell.execute_reply": "2023-05-21T11:48:19.407315Z"
    },
    "papermill": {
     "duration": 0.141811,
     "end_time": "2023-05-21T11:48:19.410841",
     "exception": false,
     "start_time": "2023-05-21T11:48:19.269030",
     "status": "completed"
    },
    "tags": []
   },
   "outputs": [],
   "source": [
    "lst_train = []\n",
    "for i in range(len(df_train)):\n",
    "    lst_train.append(len(df_train['text'][i]))\n",
    "\n",
    "lst_test = []\n",
    "for i in range(len(df_test)):\n",
    "    lst_test.append(len(df_test['text'][i]))\n",
    "\n",
    "def Average(lst):\n",
    "    return sum(lst)/len(lst)"
   ]
  },
  {
   "cell_type": "code",
   "execution_count": 10,
   "id": "cddb5298",
   "metadata": {
    "execution": {
     "iopub.execute_input": "2023-05-21T11:48:19.483742Z",
     "iopub.status.busy": "2023-05-21T11:48:19.482760Z",
     "iopub.status.idle": "2023-05-21T11:48:19.489467Z",
     "shell.execute_reply": "2023-05-21T11:48:19.488185Z"
    },
    "papermill": {
     "duration": 0.0455,
     "end_time": "2023-05-21T11:48:19.491626",
     "exception": false,
     "start_time": "2023-05-21T11:48:19.446126",
     "status": "completed"
    },
    "tags": []
   },
   "outputs": [
    {
     "name": "stdout",
     "output_type": "stream",
     "text": [
      "The Average Number of words in all the sentences of our train dataset are 101.03743596479706\n",
      "The Average Number of words in all the sentences of our test dataset are 102.10818265399939\n"
     ]
    }
   ],
   "source": [
    "print(\"The Average Number of words in all the sentences of our train dataset are {}\".format(Average(lst_train)))\n",
    "print(\"The Average Number of words in all the sentences of our test dataset are {}\".format(Average(lst_test)))"
   ]
  },
  {
   "cell_type": "code",
   "execution_count": 11,
   "id": "63b5b3eb",
   "metadata": {
    "execution": {
     "iopub.execute_input": "2023-05-21T11:48:19.563391Z",
     "iopub.status.busy": "2023-05-21T11:48:19.562468Z",
     "iopub.status.idle": "2023-05-21T11:48:19.837848Z",
     "shell.execute_reply": "2023-05-21T11:48:19.836733Z"
    },
    "papermill": {
     "duration": 0.313849,
     "end_time": "2023-05-21T11:48:19.840260",
     "exception": false,
     "start_time": "2023-05-21T11:48:19.526411",
     "status": "completed"
    },
    "tags": []
   },
   "outputs": [
    {
     "data": {
      "text/plain": [
       "Text(0.5, 1.0, 'Proportion of examples in our dataset')"
      ]
     },
     "execution_count": 11,
     "metadata": {},
     "output_type": "execute_result"
    },
    {
     "data": {
      "image/png": "[encoded data removed]",
      "text/plain": [
       "<Figure size 432x288 with 1 Axes>"
      ]
     },
     "metadata": {},
     "output_type": "display_data"
    }
   ],
   "source": [
    "#df_train['target'].value_counts()\n",
    "\n",
    "real_tweet = df_train[df_train['target']==1].shape[0]\n",
    "fake_tweet = df_train[df_train['target']==0].shape[0]\n",
    "\n",
    "plt.bar(10, real_tweet, 3, label=\"Real\", color='blue')\n",
    "plt.bar(15, fake_tweet, 3, label=\"Fake\", color='Red')\n",
    "plt.legend()\n",
    "plt.ylabel('Number of examples')\n",
    "plt.title('Proportion of examples in our dataset')"
   ]
  },
  {
   "cell_type": "markdown",
   "id": "a3de9af4",
   "metadata": {
    "papermill": {
     "duration": 0.035746,
     "end_time": "2023-05-21T11:48:19.912365",
     "exception": false,
     "start_time": "2023-05-21T11:48:19.876619",
     "status": "completed"
    },
    "tags": []
   },
   "source": [
    "The method below is created to take out all the words from the training and test dataset based on the target column."
   ]
  },
  {
   "cell_type": "code",
   "execution_count": 12,
   "id": "b53803d5",
   "metadata": {
    "execution": {
     "iopub.execute_input": "2023-05-21T11:48:19.985127Z",
     "iopub.status.busy": "2023-05-21T11:48:19.984738Z",
     "iopub.status.idle": "2023-05-21T11:48:19.990335Z",
     "shell.execute_reply": "2023-05-21T11:48:19.989382Z"
    },
    "papermill": {
     "duration": 0.044296,
     "end_time": "2023-05-21T11:48:19.992432",
     "exception": false,
     "start_time": "2023-05-21T11:48:19.948136",
     "status": "completed"
    },
    "tags": []
   },
   "outputs": [],
   "source": [
    "def create_corpus(target):\n",
    "    corpus=[]\n",
    "\n",
    "    for x in df_train[df_train['target']==target]['text'].str.split():\n",
    "        for i in x:\n",
    "            corpus.append(i)\n",
    "    return corpus"
   ]
  },
  {
   "cell_type": "markdown",
   "id": "f86ecebe",
   "metadata": {
    "papermill": {
     "duration": 0.035242,
     "end_time": "2023-05-21T11:48:20.062983",
     "exception": false,
     "start_time": "2023-05-21T11:48:20.027741",
     "status": "completed"
    },
    "tags": []
   },
   "source": [
    "The below piece of code helps us to extract all the stopwords from our training\n",
    "dataset, for all the tweets which has Target=0. A bar chart is created post that to show the frequency of each stopword in the dataset."
   ]
  },
  {
   "cell_type": "code",
   "execution_count": 13,
   "id": "4c01a172",
   "metadata": {
    "execution": {
     "iopub.execute_input": "2023-05-21T11:48:20.136275Z",
     "iopub.status.busy": "2023-05-21T11:48:20.135574Z",
     "iopub.status.idle": "2023-05-21T11:48:20.166180Z",
     "shell.execute_reply": "2023-05-21T11:48:20.165266Z"
    },
    "papermill": {
     "duration": 0.070043,
     "end_time": "2023-05-21T11:48:20.168364",
     "exception": false,
     "start_time": "2023-05-21T11:48:20.098321",
     "status": "completed"
    },
    "tags": []
   },
   "outputs": [],
   "source": [
    "corpus = create_corpus(1)\n",
    "\n",
    "dic = defaultdict(int)\n",
    "for word in corpus:\n",
    "    if word in stop:\n",
    "        dic[word]+=1\n",
    "        \n",
    "top = sorted(dic.items(), key=lambda x:x[1],reverse=True)[:10]"
   ]
  },
  {
   "cell_type": "code",
   "execution_count": 14,
   "id": "84aafefe",
   "metadata": {
    "execution": {
     "iopub.execute_input": "2023-05-21T11:48:20.241187Z",
     "iopub.status.busy": "2023-05-21T11:48:20.240858Z",
     "iopub.status.idle": "2023-05-21T11:48:20.483743Z",
     "shell.execute_reply": "2023-05-21T11:48:20.482800Z"
    },
    "papermill": {
     "duration": 0.281863,
     "end_time": "2023-05-21T11:48:20.486030",
     "exception": false,
     "start_time": "2023-05-21T11:48:20.204167",
     "status": "completed"
    },
    "tags": []
   },
   "outputs": [
    {
     "data": {
      "text/plain": [
       "<BarContainer object of 10 artists>"
      ]
     },
     "execution_count": 14,
     "metadata": {},
     "output_type": "execute_result"
    },
    {
     "data": {
      "image/png": "[encoded data removed]",
      "text/plain": [
       "<Figure size 1296x432 with 1 Axes>"
      ]
     },
     "metadata": {},
     "output_type": "display_data"
    }
   ],
   "source": [
    "plt.rcParams['figure.figsize'] = (18.0, 6.0)\n",
    "x,y = zip(*top)\n",
    "plt.bar(x,y, color='green')"
   ]
  },
  {
   "cell_type": "markdown",
   "id": "59d254a7",
   "metadata": {
    "papermill": {
     "duration": 0.035625,
     "end_time": "2023-05-21T11:48:20.558113",
     "exception": false,
     "start_time": "2023-05-21T11:48:20.522488",
     "status": "completed"
    },
    "tags": []
   },
   "source": [
    "Just like how we analyzed the stopwords for Target=0, we can perform the same steps for the tweets with Target=1."
   ]
  },
  {
   "cell_type": "code",
   "execution_count": 15,
   "id": "ab86af17",
   "metadata": {
    "execution": {
     "iopub.execute_input": "2023-05-21T11:48:20.631749Z",
     "iopub.status.busy": "2023-05-21T11:48:20.630844Z",
     "iopub.status.idle": "2023-05-21T11:48:20.918259Z",
     "shell.execute_reply": "2023-05-21T11:48:20.917240Z"
    },
    "papermill": {
     "duration": 0.326514,
     "end_time": "2023-05-21T11:48:20.920474",
     "exception": false,
     "start_time": "2023-05-21T11:48:20.593960",
     "status": "completed"
    },
    "tags": []
   },
   "outputs": [
    {
     "data": {
      "text/plain": [
       "<BarContainer object of 10 artists>"
      ]
     },
     "execution_count": 15,
     "metadata": {},
     "output_type": "execute_result"
    },
    {
     "data": {
      "image/png": "[encoded data removed]",
      "text/plain": [
       "<Figure size 1296x432 with 1 Axes>"
      ]
     },
     "metadata": {},
     "output_type": "display_data"
    }
   ],
   "source": [
    "corpus = create_corpus(0)\n",
    "\n",
    "dic = defaultdict(int) \n",
    "# Creates a dictionary of all words and doesn't return an error for words which\n",
    "# are missing.\n",
    "\n",
    "for word in corpus:\n",
    "    if word in stop:\n",
    "        dic[word]+=1\n",
    "\n",
    "top=sorted(dic.items(), key=lambda x:x[1],reverse=True)[:10] \n",
    "    \n",
    "\n",
    "plt.rcParams['figure.figsize'] = (18.0, 6.0)\n",
    "x,y=zip(*top)\n",
    "plt.bar(x,y)"
   ]
  },
  {
   "cell_type": "markdown",
   "id": "15a7bfb0",
   "metadata": {
    "papermill": {
     "duration": 0.03654,
     "end_time": "2023-05-21T11:48:20.994298",
     "exception": false,
     "start_time": "2023-05-21T11:48:20.957758",
     "status": "completed"
    },
    "tags": []
   },
   "source": [
    "We can analyze anything just the way we analyzed stopwords. Let's see how and what all punctuations are there in our training dataset for both Targets 1 & 0."
   ]
  },
  {
   "cell_type": "code",
   "execution_count": 16,
   "id": "34b3eccd",
   "metadata": {
    "execution": {
     "iopub.execute_input": "2023-05-21T11:48:21.069056Z",
     "iopub.status.busy": "2023-05-21T11:48:21.068141Z",
     "iopub.status.idle": "2023-05-21T11:48:21.397082Z",
     "shell.execute_reply": "2023-05-21T11:48:21.395970Z"
    },
    "papermill": {
     "duration": 0.36884,
     "end_time": "2023-05-21T11:48:21.399576",
     "exception": false,
     "start_time": "2023-05-21T11:48:21.030736",
     "status": "completed"
    },
    "tags": []
   },
   "outputs": [
    {
     "data": {
      "text/plain": [
       "<BarContainer object of 18 artists>"
      ]
     },
     "execution_count": 16,
     "metadata": {},
     "output_type": "execute_result"
    },
    {
     "data": {
      "image/png": "[encoded data removed]",
      "text/plain": [
       "<Figure size 1152x360 with 1 Axes>"
      ]
     },
     "metadata": {},
     "output_type": "display_data"
    }
   ],
   "source": [
    "plt.figure(figsize=(16,5))\n",
    "corpus = create_corpus(1)\n",
    "\n",
    "dic = defaultdict(int)\n",
    "special = string.punctuation # Returns all sets of punctuations in python.\n",
    "for i in (corpus):\n",
    "    if i in special:\n",
    "        dic[i]+=1\n",
    "        \n",
    "x,y=zip(*dic.items())\n",
    "plt.bar(x,y, color='green')"
   ]
  },
  {
   "cell_type": "code",
   "execution_count": 17,
   "id": "d6cd3c20",
   "metadata": {
    "execution": {
     "iopub.execute_input": "2023-05-21T11:48:21.480072Z",
     "iopub.status.busy": "2023-05-21T11:48:21.479683Z",
     "iopub.status.idle": "2023-05-21T11:48:21.815750Z",
     "shell.execute_reply": "2023-05-21T11:48:21.814817Z"
    },
    "papermill": {
     "duration": 0.380325,
     "end_time": "2023-05-21T11:48:21.818297",
     "exception": false,
     "start_time": "2023-05-21T11:48:21.437972",
     "status": "completed"
    },
    "tags": []
   },
   "outputs": [
    {
     "data": {
      "text/plain": [
       "<BarContainer object of 20 artists>"
      ]
     },
     "execution_count": 17,
     "metadata": {},
     "output_type": "execute_result"
    },
    {
     "data": {
      "image/png": "[encoded data removed]",
      "text/plain": [
       "<Figure size 1152x360 with 1 Axes>"
      ]
     },
     "metadata": {},
     "output_type": "display_data"
    }
   ],
   "source": [
    "plt.figure(figsize=(16,5))\n",
    "corpus = create_corpus(0)\n",
    "\n",
    "dic = defaultdict(int)\n",
    "special = string.punctuation\n",
    "for i in (corpus):\n",
    "    if i in special:\n",
    "        dic[i]+=1\n",
    "        \n",
    "x,y=zip(*dic.items())\n",
    "plt.bar(x,y)"
   ]
  },
  {
   "cell_type": "code",
   "execution_count": 18,
   "id": "5a867ccb",
   "metadata": {
    "execution": {
     "iopub.execute_input": "2023-05-21T11:48:21.895269Z",
     "iopub.status.busy": "2023-05-21T11:48:21.894547Z",
     "iopub.status.idle": "2023-05-21T11:48:22.109485Z",
     "shell.execute_reply": "2023-05-21T11:48:22.108305Z"
    },
    "papermill": {
     "duration": 0.256096,
     "end_time": "2023-05-21T11:48:22.112552",
     "exception": false,
     "start_time": "2023-05-21T11:48:21.856456",
     "status": "completed"
    },
    "tags": []
   },
   "outputs": [
    {
     "data": {
      "text/plain": [
       "<Figure size 1152x360 with 0 Axes>"
      ]
     },
     "metadata": {},
     "output_type": "display_data"
    }
   ],
   "source": [
    "corpus = create_corpus(1) \n",
    "# Switch between 0 and 1 to see different word counts for Target=0/1.\n",
    "\n",
    "plt.figure(figsize=(16,5))\n",
    "counter = Counter(corpus)\n",
    "most = counter.most_common()\n",
    "x=[]\n",
    "y=[]\n",
    "for word,count in most[:40]:\n",
    "    if (word not in stop) :\n",
    "        x.append(word)\n",
    "        y.append(count)"
   ]
  },
  {
   "cell_type": "code",
   "execution_count": 19,
   "id": "4d5da47b",
   "metadata": {
    "execution": {
     "iopub.execute_input": "2023-05-21T11:48:22.189702Z",
     "iopub.status.busy": "2023-05-21T11:48:22.189005Z",
     "iopub.status.idle": "2023-05-21T11:48:22.541218Z",
     "shell.execute_reply": "2023-05-21T11:48:22.539962Z"
    },
    "papermill": {
     "duration": 0.39262,
     "end_time": "2023-05-21T11:48:22.543717",
     "exception": false,
     "start_time": "2023-05-21T11:48:22.151097",
     "status": "completed"
    },
    "tags": []
   },
   "outputs": [
    {
     "data": {
      "text/plain": [
       "<AxesSubplot:>"
      ]
     },
     "execution_count": 19,
     "metadata": {},
     "output_type": "execute_result"
    },
    {
     "data": {
      "image/png": "[encoded data removed]",
      "text/plain": [
       "<Figure size 1296x432 with 1 Axes>"
      ]
     },
     "metadata": {},
     "output_type": "display_data"
    }
   ],
   "source": [
    "sns.barplot(x=y, y=x)"
   ]
  },
  {
   "cell_type": "markdown",
   "id": "e8a440d6",
   "metadata": {
    "papermill": {
     "duration": 0.0374,
     "end_time": "2023-05-21T11:48:22.636939",
     "exception": false,
     "start_time": "2023-05-21T11:48:22.599539",
     "status": "completed"
    },
    "tags": []
   },
   "source": [
    "We can see that there is a lot of unnecessary junk data present in our dataset. We can clean all of that if we want to make a good Sentiment Classifier.\n",
    "Also, we can look at Bigrams to identify what all junk values are occuring the most in our dataset. The function to extract the same is given below."
   ]
  },
  {
   "cell_type": "code",
   "execution_count": 20,
   "id": "0b145e42",
   "metadata": {
    "execution": {
     "iopub.execute_input": "2023-05-21T11:48:22.714305Z",
     "iopub.status.busy": "2023-05-21T11:48:22.713925Z",
     "iopub.status.idle": "2023-05-21T11:48:22.720822Z",
     "shell.execute_reply": "2023-05-21T11:48:22.719858Z"
    },
    "papermill": {
     "duration": 0.047519,
     "end_time": "2023-05-21T11:48:22.722882",
     "exception": false,
     "start_time": "2023-05-21T11:48:22.675363",
     "status": "completed"
    },
    "tags": []
   },
   "outputs": [],
   "source": [
    "def get_top_tweet_bigrams(corpus, n=None):\n",
    "    vec = CountVectorizer(ngram_range=(2, 2)).fit(corpus)\n",
    "    bag_of_words = vec.transform(corpus)\n",
    "    sum_words = bag_of_words.sum(axis=0) \n",
    "    words_freq = [(word, sum_words[0, idx]) for word, idx in vec.vocabulary_.items()]\n",
    "    words_freq =sorted(words_freq, key = lambda x: x[1], reverse=True)\n",
    "    return words_freq[:n]"
   ]
  },
  {
   "cell_type": "code",
   "execution_count": 21,
   "id": "097ca8d0",
   "metadata": {
    "execution": {
     "iopub.execute_input": "2023-05-21T11:48:22.798688Z",
     "iopub.status.busy": "2023-05-21T11:48:22.797773Z",
     "iopub.status.idle": "2023-05-21T11:48:23.721781Z",
     "shell.execute_reply": "2023-05-21T11:48:23.720842Z"
    },
    "papermill": {
     "duration": 0.9641,
     "end_time": "2023-05-21T11:48:23.723952",
     "exception": false,
     "start_time": "2023-05-21T11:48:22.759852",
     "status": "completed"
    },
    "tags": []
   },
   "outputs": [
    {
     "data": {
      "text/plain": [
       "<AxesSubplot:>"
      ]
     },
     "execution_count": 21,
     "metadata": {},
     "output_type": "execute_result"
    },
    {
     "data": {
      "image/png": "[encoded data removed]",
      "text/plain": [
       "<Figure size 1152x360 with 1 Axes>"
      ]
     },
     "metadata": {},
     "output_type": "display_data"
    }
   ],
   "source": [
    "plt.figure(figsize=(16,5))\n",
    "top_tweet_bigrams = get_top_tweet_bigrams(df_train['text'])[:10]\n",
    "x,y=map(list,zip(*top_tweet_bigrams))\n",
    "sns.barplot(x=y,y=x)"
   ]
  },
  {
   "cell_type": "markdown",
   "id": "856d6f08",
   "metadata": {
    "papermill": {
     "duration": 0.039648,
     "end_time": "2023-05-21T11:48:23.801643",
     "exception": false,
     "start_time": "2023-05-21T11:48:23.761995",
     "status": "completed"
    },
    "tags": []
   },
   "source": [
    "We can now move on to Data Cleaning and Pre-Processing."
   ]
  },
  {
   "cell_type": "markdown",
   "id": "2fb08e5a",
   "metadata": {
    "papermill": {
     "duration": 0.037585,
     "end_time": "2023-05-21T11:48:23.876811",
     "exception": false,
     "start_time": "2023-05-21T11:48:23.839226",
     "status": "completed"
    },
    "tags": []
   },
   "source": [
    "The below piece of code removes the URLs from our tweets. This is very important as we don't want unnecessary URLs as they play no part in the Sentiment of our dataset."
   ]
  },
  {
   "cell_type": "code",
   "execution_count": 22,
   "id": "037af2c2",
   "metadata": {
    "execution": {
     "iopub.execute_input": "2023-05-21T11:48:23.955259Z",
     "iopub.status.busy": "2023-05-21T11:48:23.954268Z",
     "iopub.status.idle": "2023-05-21T11:48:23.960011Z",
     "shell.execute_reply": "2023-05-21T11:48:23.958878Z"
    },
    "papermill": {
     "duration": 0.047537,
     "end_time": "2023-05-21T11:48:23.962213",
     "exception": false,
     "start_time": "2023-05-21T11:48:23.914676",
     "status": "completed"
    },
    "tags": []
   },
   "outputs": [],
   "source": [
    "def remove_URL(text):\n",
    "    url = re.compile(r'https?://\\S+|www\\.\\S+')\n",
    "    return url.sub(r'',text)"
   ]
  },
  {
   "cell_type": "code",
   "execution_count": 23,
   "id": "4e33cd78",
   "metadata": {
    "execution": {
     "iopub.execute_input": "2023-05-21T11:48:24.038969Z",
     "iopub.status.busy": "2023-05-21T11:48:24.038106Z",
     "iopub.status.idle": "2023-05-21T11:48:24.086866Z",
     "shell.execute_reply": "2023-05-21T11:48:24.085906Z"
    },
    "papermill": {
     "duration": 0.089507,
     "end_time": "2023-05-21T11:48:24.089136",
     "exception": false,
     "start_time": "2023-05-21T11:48:23.999629",
     "status": "completed"
    },
    "tags": []
   },
   "outputs": [],
   "source": [
    "df_train['text'] = df_train['text'].apply(lambda x: remove_URL(x))\n",
    "df_test['text'] = df_test['text'].apply(lambda x: remove_URL(x))"
   ]
  },
  {
   "cell_type": "markdown",
   "id": "fd9f2ba9",
   "metadata": {
    "papermill": {
     "duration": 0.037054,
     "end_time": "2023-05-21T11:48:24.163715",
     "exception": false,
     "start_time": "2023-05-21T11:48:24.126661",
     "status": "completed"
    },
    "tags": []
   },
   "source": [
    "The below function helps us to remove any unwanted HTML tags that might be present in our dataset."
   ]
  },
  {
   "cell_type": "code",
   "execution_count": 24,
   "id": "e745739e",
   "metadata": {
    "execution": {
     "iopub.execute_input": "2023-05-21T11:48:24.240581Z",
     "iopub.status.busy": "2023-05-21T11:48:24.239592Z",
     "iopub.status.idle": "2023-05-21T11:48:24.245118Z",
     "shell.execute_reply": "2023-05-21T11:48:24.244160Z"
    },
    "papermill": {
     "duration": 0.046072,
     "end_time": "2023-05-21T11:48:24.247224",
     "exception": false,
     "start_time": "2023-05-21T11:48:24.201152",
     "status": "completed"
    },
    "tags": []
   },
   "outputs": [],
   "source": [
    "def remove_html(text):\n",
    "    html=re.compile(r'<.*?>')\n",
    "    return html.sub(r'',text)"
   ]
  },
  {
   "cell_type": "code",
   "execution_count": 25,
   "id": "b99975fa",
   "metadata": {
    "execution": {
     "iopub.execute_input": "2023-05-21T11:48:24.323882Z",
     "iopub.status.busy": "2023-05-21T11:48:24.322998Z",
     "iopub.status.idle": "2023-05-21T11:48:24.347689Z",
     "shell.execute_reply": "2023-05-21T11:48:24.346826Z"
    },
    "papermill": {
     "duration": 0.065197,
     "end_time": "2023-05-21T11:48:24.349817",
     "exception": false,
     "start_time": "2023-05-21T11:48:24.284620",
     "status": "completed"
    },
    "tags": []
   },
   "outputs": [],
   "source": [
    "df_train['text'] = df_train['text'].apply(lambda x: remove_html(x))\n",
    "df_test['text'] = df_test['text'].apply(lambda x: remove_html(x))"
   ]
  },
  {
   "cell_type": "markdown",
   "id": "d04aba66",
   "metadata": {
    "papermill": {
     "duration": 0.037508,
     "end_time": "2023-05-21T11:48:24.424958",
     "exception": false,
     "start_time": "2023-05-21T11:48:24.387450",
     "status": "completed"
    },
    "tags": []
   },
   "source": [
    "The function below helps us to remove the emojis present, if any in our dataset."
   ]
  },
  {
   "cell_type": "code",
   "execution_count": 26,
   "id": "23b6a649",
   "metadata": {
    "execution": {
     "iopub.execute_input": "2023-05-21T11:48:24.502897Z",
     "iopub.status.busy": "2023-05-21T11:48:24.501870Z",
     "iopub.status.idle": "2023-05-21T11:48:24.509232Z",
     "shell.execute_reply": "2023-05-21T11:48:24.508323Z"
    },
    "papermill": {
     "duration": 0.049053,
     "end_time": "2023-05-21T11:48:24.511532",
     "exception": false,
     "start_time": "2023-05-21T11:48:24.462479",
     "status": "completed"
    },
    "tags": []
   },
   "outputs": [],
   "source": [
    "# Reference : https://gist.github.com/slowkow/7a7f61f495e3dbb7e3d767f97bd7304b\n",
    "def remove_emoji(text):\n",
    "    emoji_pattern = re.compile(\"[\"\n",
    "                               u\"\\U0001F600-\\U0001F64F\"  # emoticons\n",
    "                               u\"\\U0001F300-\\U0001F5FF\"  # symbols & pictographs\n",
    "                               u\"\\U0001F680-\\U0001F6FF\"  # transport & map symbols\n",
    "                               u\"\\U0001F1E0-\\U0001F1FF\"  # flags (iOS)\n",
    "                               u\"\\U00002500-\\U00002BEF\"  # chinese char\n",
    "                               u\"\\U00002702-\\U000027B0\"\n",
    "                               u\"\\U00002702-\\U000027B0\"\n",
    "                               u\"\\U000024C2-\\U0001F251\"\n",
    "                               u\"\\U0001f926-\\U0001f937\"\n",
    "                               u\"\\U00010000-\\U0010ffff\"\n",
    "                               u\"\\u2640-\\u2642\"\n",
    "                               u\"\\u2600-\\u2B55\"\n",
    "                               u\"\\u200d\"\n",
    "                               u\"\\u23cf\"\n",
    "                               u\"\\u23e9\"\n",
    "                               u\"\\u231a\"\n",
    "                               u\"\\ufe0f\"  # dingbats\n",
    "                               u\"\\u3030\"\n",
    "                               \"]+\", flags=re.UNICODE)\n",
    "    return emoji_pattern.sub(r'', text)"
   ]
  },
  {
   "cell_type": "code",
   "execution_count": 27,
   "id": "94b2fa6c",
   "metadata": {
    "execution": {
     "iopub.execute_input": "2023-05-21T11:48:24.587949Z",
     "iopub.status.busy": "2023-05-21T11:48:24.587228Z",
     "iopub.status.idle": "2023-05-21T11:48:24.688662Z",
     "shell.execute_reply": "2023-05-21T11:48:24.687737Z"
    },
    "papermill": {
     "duration": 0.142024,
     "end_time": "2023-05-21T11:48:24.691024",
     "exception": false,
     "start_time": "2023-05-21T11:48:24.549000",
     "status": "completed"
    },
    "tags": []
   },
   "outputs": [],
   "source": [
    "df_train['text'] = df_train['text'].apply(lambda x: remove_emoji(x))\n",
    "df_test['text'] = df_test['text'].apply(lambda x: remove_emoji(x))"
   ]
  },
  {
   "cell_type": "markdown",
   "id": "07e36da4",
   "metadata": {
    "papermill": {
     "duration": 0.03704,
     "end_time": "2023-05-21T11:48:24.765822",
     "exception": false,
     "start_time": "2023-05-21T11:48:24.728782",
     "status": "completed"
    },
    "tags": []
   },
   "source": [
    "Use below function to remove Punctuations."
   ]
  },
  {
   "cell_type": "code",
   "execution_count": 28,
   "id": "af6b5540",
   "metadata": {
    "execution": {
     "iopub.execute_input": "2023-05-21T11:48:24.842482Z",
     "iopub.status.busy": "2023-05-21T11:48:24.842130Z",
     "iopub.status.idle": "2023-05-21T11:48:24.847215Z",
     "shell.execute_reply": "2023-05-21T11:48:24.846169Z"
    },
    "papermill": {
     "duration": 0.046099,
     "end_time": "2023-05-21T11:48:24.849403",
     "exception": false,
     "start_time": "2023-05-21T11:48:24.803304",
     "status": "completed"
    },
    "tags": []
   },
   "outputs": [],
   "source": [
    "def remove_punct(text):\n",
    "    table=str.maketrans('','',string.punctuation)\n",
    "    return text.translate(table)"
   ]
  },
  {
   "cell_type": "code",
   "execution_count": 29,
   "id": "41d1ef3a",
   "metadata": {
    "execution": {
     "iopub.execute_input": "2023-05-21T11:48:24.925981Z",
     "iopub.status.busy": "2023-05-21T11:48:24.925093Z",
     "iopub.status.idle": "2023-05-21T11:48:25.009657Z",
     "shell.execute_reply": "2023-05-21T11:48:25.008663Z"
    },
    "papermill": {
     "duration": 0.125515,
     "end_time": "2023-05-21T11:48:25.012379",
     "exception": false,
     "start_time": "2023-05-21T11:48:24.886864",
     "status": "completed"
    },
    "tags": []
   },
   "outputs": [],
   "source": [
    "df_train['text'] = df_train['text'].apply(lambda x: remove_punct(x))\n",
    "df_test['text'] = df_test['text'].apply(lambda x: remove_punct(x))"
   ]
  },
  {
   "cell_type": "markdown",
   "id": "f663267e",
   "metadata": {
    "papermill": {
     "duration": 0.038217,
     "end_time": "2023-05-21T11:48:25.088817",
     "exception": false,
     "start_time": "2023-05-21T11:48:25.050600",
     "status": "completed"
    },
    "tags": []
   },
   "source": [
    "Below piece of code is used to remove the stopwords."
   ]
  },
  {
   "cell_type": "code",
   "execution_count": 30,
   "id": "f8d6b0ab",
   "metadata": {
    "execution": {
     "iopub.execute_input": "2023-05-21T11:48:25.166853Z",
     "iopub.status.busy": "2023-05-21T11:48:25.165737Z",
     "iopub.status.idle": "2023-05-21T11:48:25.601660Z",
     "shell.execute_reply": "2023-05-21T11:48:25.600647Z"
    },
    "papermill": {
     "duration": 0.477458,
     "end_time": "2023-05-21T11:48:25.604302",
     "exception": false,
     "start_time": "2023-05-21T11:48:25.126844",
     "status": "completed"
    },
    "tags": []
   },
   "outputs": [],
   "source": [
    "stop_words = stopwords.words('english')\n",
    "more_stopwords = ['u', 'im', 'c']\n",
    "stop_words = stop_words + more_stopwords\n",
    "\n",
    "def remove_stopwords(text):\n",
    "    text = ' '.join(word for word in text.split(' ') if word not in stop_words)\n",
    "    return text\n",
    "\n",
    "\n",
    "df_train['text'] = df_train['text'].apply(lambda x: remove_stopwords(x))\n",
    "df_test['text'] = df_test['text'].apply(lambda x: remove_stopwords(x))"
   ]
  },
  {
   "cell_type": "code",
   "execution_count": 31,
   "id": "9528b3c3",
   "metadata": {
    "execution": {
     "iopub.execute_input": "2023-05-21T11:48:25.683122Z",
     "iopub.status.busy": "2023-05-21T11:48:25.681408Z",
     "iopub.status.idle": "2023-05-21T11:48:25.689374Z",
     "shell.execute_reply": "2023-05-21T11:48:25.688400Z"
    },
    "papermill": {
     "duration": 0.049272,
     "end_time": "2023-05-21T11:48:25.691578",
     "exception": false,
     "start_time": "2023-05-21T11:48:25.642306",
     "status": "completed"
    },
    "tags": []
   },
   "outputs": [],
   "source": [
    "def clean_text(text):\n",
    "    '''Make text lowercase, remove text in square brackets,remove links,remove punctuation\n",
    "    and remove words containing numbers.'''\n",
    "    text = str(text).lower()\n",
    "    text = re.sub('\\[.*?\\]', '', text)\n",
    "    text = re.sub('https?://\\S+|www\\.\\S+', '', text)\n",
    "    text = re.sub('<.*?>+', '', text)\n",
    "    text = re.sub('[%s]' % re.escape(string.punctuation), '', text)\n",
    "    text = re.sub('\\n', '', text)\n",
    "    text = re.sub('\\w*\\d\\w*', '', text)\n",
    "    return text"
   ]
  },
  {
   "cell_type": "code",
   "execution_count": 32,
   "id": "a401111c",
   "metadata": {
    "execution": {
     "iopub.execute_input": "2023-05-21T11:48:25.768053Z",
     "iopub.status.busy": "2023-05-21T11:48:25.767714Z",
     "iopub.status.idle": "2023-05-21T11:48:26.084569Z",
     "shell.execute_reply": "2023-05-21T11:48:26.083498Z"
    },
    "papermill": {
     "duration": 0.358045,
     "end_time": "2023-05-21T11:48:26.087536",
     "exception": false,
     "start_time": "2023-05-21T11:48:25.729491",
     "status": "completed"
    },
    "tags": []
   },
   "outputs": [],
   "source": [
    "df_train['text'] = df_train['text'].apply(lambda x: clean_text(x))\n",
    "df_test['text'] = df_test['text'].apply(lambda x: clean_text(x))"
   ]
  },
  {
   "cell_type": "code",
   "execution_count": 33,
   "id": "bacf629f",
   "metadata": {
    "execution": {
     "iopub.execute_input": "2023-05-21T11:48:26.171053Z",
     "iopub.status.busy": "2023-05-21T11:48:26.169404Z",
     "iopub.status.idle": "2023-05-21T11:48:26.294210Z",
     "shell.execute_reply": "2023-05-21T11:48:26.293059Z"
    },
    "papermill": {
     "duration": 0.166956,
     "end_time": "2023-05-21T11:48:26.296462",
     "exception": false,
     "start_time": "2023-05-21T11:48:26.129506",
     "status": "completed"
    },
    "tags": []
   },
   "outputs": [
    {
     "name": "stdout",
     "output_type": "stream",
     "text": [
      "CPU times: user 6 µs, sys: 0 ns, total: 6 µs\n",
      "Wall time: 10 µs\n"
     ]
    }
   ],
   "source": [
    "%%time\n",
    "\n",
    "def clean(tweet): \n",
    "            \n",
    "    # Special characters\n",
    "    tweet = re.sub(r\"\\x89Û_\", \"\", tweet)\n",
    "    tweet = re.sub(r\"\\x89ÛÒ\", \"\", tweet)\n",
    "    tweet = re.sub(r\"\\x89ÛÓ\", \"\", tweet)\n",
    "    tweet = re.sub(r\"\\x89ÛÏWhen\", \"When\", tweet)\n",
    "    tweet = re.sub(r\"\\x89ÛÏ\", \"\", tweet)\n",
    "    tweet = re.sub(r\"China\\x89Ûªs\", \"China's\", tweet)\n",
    "    tweet = re.sub(r\"let\\x89Ûªs\", \"let's\", tweet)\n",
    "    tweet = re.sub(r\"\\x89Û÷\", \"\", tweet)\n",
    "    tweet = re.sub(r\"\\x89Ûª\", \"\", tweet)\n",
    "    tweet = re.sub(r\"\\x89Û\\x9d\", \"\", tweet)\n",
    "    tweet = re.sub(r\"å_\", \"\", tweet)\n",
    "    tweet = re.sub(r\"\\x89Û¢\", \"\", tweet)\n",
    "    tweet = re.sub(r\"\\x89Û¢åÊ\", \"\", tweet)\n",
    "    tweet = re.sub(r\"fromåÊwounds\", \"from wounds\", tweet)\n",
    "    tweet = re.sub(r\"åÊ\", \"\", tweet)\n",
    "    tweet = re.sub(r\"åÈ\", \"\", tweet)\n",
    "    tweet = re.sub(r\"JapÌ_n\", \"Japan\", tweet)    \n",
    "    tweet = re.sub(r\"Ì©\", \"e\", tweet)\n",
    "    tweet = re.sub(r\"å¨\", \"\", tweet)\n",
    "    tweet = re.sub(r\"SuruÌ¤\", \"Suruc\", tweet)\n",
    "    tweet = re.sub(r\"åÇ\", \"\", tweet)\n",
    "    tweet = re.sub(r\"å£3million\", \"3 million\", tweet)\n",
    "    tweet = re.sub(r\"åÀ\", \"\", tweet)\n",
    "    \n",
    "    # Contractions\n",
    "    tweet = re.sub(r\"he's\", \"he is\", tweet)\n",
    "    tweet = re.sub(r\"there's\", \"there is\", tweet)\n",
    "    tweet = re.sub(r\"We're\", \"We are\", tweet)\n",
    "    tweet = re.sub(r\"That's\", \"That is\", tweet)\n",
    "    tweet = re.sub(r\"won't\", \"will not\", tweet)\n",
    "    tweet = re.sub(r\"they're\", \"they are\", tweet)\n",
    "    tweet = re.sub(r\"Can't\", \"Cannot\", tweet)\n",
    "    tweet = re.sub(r\"wasn't\", \"was not\", tweet)\n",
    "    tweet = re.sub(r\"don\\x89Ûªt\", \"do not\", tweet)\n",
    "    tweet = re.sub(r\"aren't\", \"are not\", tweet)\n",
    "    tweet = re.sub(r\"isn't\", \"is not\", tweet)\n",
    "    tweet = re.sub(r\"What's\", \"What is\", tweet)\n",
    "    tweet = re.sub(r\"haven't\", \"have not\", tweet)\n",
    "    tweet = re.sub(r\"hasn't\", \"has not\", tweet)\n",
    "    tweet = re.sub(r\"There's\", \"There is\", tweet)\n",
    "    tweet = re.sub(r\"He's\", \"He is\", tweet)\n",
    "    tweet = re.sub(r\"It's\", \"It is\", tweet)\n",
    "    tweet = re.sub(r\"You're\", \"You are\", tweet)\n",
    "    tweet = re.sub(r\"I'M\", \"I am\", tweet)\n",
    "    tweet = re.sub(r\"shouldn't\", \"should not\", tweet)\n",
    "    tweet = re.sub(r\"wouldn't\", \"would not\", tweet)\n",
    "    tweet = re.sub(r\"i'm\", \"I am\", tweet)\n",
    "    tweet = re.sub(r\"I\\x89Ûªm\", \"I am\", tweet)\n",
    "    tweet = re.sub(r\"I'm\", \"I am\", tweet)\n",
    "    tweet = re.sub(r\"Isn't\", \"is not\", tweet)\n",
    "    tweet = re.sub(r\"Here's\", \"Here is\", tweet)\n",
    "    tweet = re.sub(r\"you've\", \"you have\", tweet)\n",
    "    tweet = re.sub(r\"you\\x89Ûªve\", \"you have\", tweet)\n",
    "    tweet = re.sub(r\"we're\", \"we are\", tweet)\n",
    "    tweet = re.sub(r\"what's\", \"what is\", tweet)\n",
    "    tweet = re.sub(r\"couldn't\", \"could not\", tweet)\n",
    "    tweet = re.sub(r\"we've\", \"we have\", tweet)\n",
    "    tweet = re.sub(r\"it\\x89Ûªs\", \"it is\", tweet)\n",
    "    tweet = re.sub(r\"doesn\\x89Ûªt\", \"does not\", tweet)\n",
    "    tweet = re.sub(r\"It\\x89Ûªs\", \"It is\", tweet)\n",
    "    tweet = re.sub(r\"Here\\x89Ûªs\", \"Here is\", tweet)\n",
    "    tweet = re.sub(r\"who's\", \"who is\", tweet)\n",
    "    tweet = re.sub(r\"I\\x89Ûªve\", \"I have\", tweet)\n",
    "    tweet = re.sub(r\"y'all\", \"you all\", tweet)\n",
    "    tweet = re.sub(r\"can\\x89Ûªt\", \"cannot\", tweet)\n",
    "    tweet = re.sub(r\"would've\", \"would have\", tweet)\n",
    "    tweet = re.sub(r\"it'll\", \"it will\", tweet)\n",
    "    tweet = re.sub(r\"we'll\", \"we will\", tweet)\n",
    "    tweet = re.sub(r\"wouldn\\x89Ûªt\", \"would not\", tweet)\n",
    "    tweet = re.sub(r\"We've\", \"We have\", tweet)\n",
    "    tweet = re.sub(r\"he'll\", \"he will\", tweet)\n",
    "    tweet = re.sub(r\"Y'all\", \"You all\", tweet)\n",
    "    tweet = re.sub(r\"Weren't\", \"Were not\", tweet)\n",
    "    tweet = re.sub(r\"Didn't\", \"Did not\", tweet)\n",
    "    tweet = re.sub(r\"they'll\", \"they will\", tweet)\n",
    "    tweet = re.sub(r\"they'd\", \"they would\", tweet)\n",
    "    tweet = re.sub(r\"DON'T\", \"DO NOT\", tweet)\n",
    "    tweet = re.sub(r\"That\\x89Ûªs\", \"That is\", tweet)\n",
    "    tweet = re.sub(r\"they've\", \"they have\", tweet)\n",
    "    tweet = re.sub(r\"i'd\", \"I would\", tweet)\n",
    "    tweet = re.sub(r\"should've\", \"should have\", tweet)\n",
    "    tweet = re.sub(r\"You\\x89Ûªre\", \"You are\", tweet)\n",
    "    tweet = re.sub(r\"where's\", \"where is\", tweet)\n",
    "    tweet = re.sub(r\"Don\\x89Ûªt\", \"Do not\", tweet)\n",
    "    tweet = re.sub(r\"we'd\", \"we would\", tweet)\n",
    "    tweet = re.sub(r\"i'll\", \"I will\", tweet)\n",
    "    tweet = re.sub(r\"weren't\", \"were not\", tweet)\n",
    "    tweet = re.sub(r\"They're\", \"They are\", tweet)\n",
    "    tweet = re.sub(r\"Can\\x89Ûªt\", \"Cannot\", tweet)\n",
    "    tweet = re.sub(r\"you\\x89Ûªll\", \"you will\", tweet)\n",
    "    tweet = re.sub(r\"I\\x89Ûªd\", \"I would\", tweet)\n",
    "    tweet = re.sub(r\"let's\", \"let us\", tweet)\n",
    "    tweet = re.sub(r\"it's\", \"it is\", tweet)\n",
    "    tweet = re.sub(r\"can't\", \"cannot\", tweet)\n",
    "    tweet = re.sub(r\"don't\", \"do not\", tweet)\n",
    "    tweet = re.sub(r\"you're\", \"you are\", tweet)\n",
    "    tweet = re.sub(r\"i've\", \"I have\", tweet)\n",
    "    tweet = re.sub(r\"that's\", \"that is\", tweet)\n",
    "    tweet = re.sub(r\"i'll\", \"I will\", tweet)\n",
    "    tweet = re.sub(r\"doesn't\", \"does not\", tweet)\n",
    "    tweet = re.sub(r\"i'd\", \"I would\", tweet)\n",
    "    tweet = re.sub(r\"didn't\", \"did not\", tweet)\n",
    "    tweet = re.sub(r\"ain't\", \"am not\", tweet)\n",
    "    tweet = re.sub(r\"you'll\", \"you will\", tweet)\n",
    "    tweet = re.sub(r\"I've\", \"I have\", tweet)\n",
    "    tweet = re.sub(r\"Don't\", \"do not\", tweet)\n",
    "    tweet = re.sub(r\"I'll\", \"I will\", tweet)\n",
    "    tweet = re.sub(r\"I'd\", \"I would\", tweet)\n",
    "    tweet = re.sub(r\"Let's\", \"Let us\", tweet)\n",
    "    tweet = re.sub(r\"you'd\", \"You would\", tweet)\n",
    "    tweet = re.sub(r\"It's\", \"It is\", tweet)\n",
    "    tweet = re.sub(r\"Ain't\", \"am not\", tweet)\n",
    "    tweet = re.sub(r\"Haven't\", \"Have not\", tweet)\n",
    "    tweet = re.sub(r\"Could've\", \"Could have\", tweet)\n",
    "    tweet = re.sub(r\"youve\", \"you have\", tweet)  \n",
    "    tweet = re.sub(r\"donå«t\", \"do not\", tweet)   \n",
    "            \n",
    "    # Character entity references\n",
    "    tweet = re.sub(r\"&gt;\", \">\", tweet)\n",
    "    tweet = re.sub(r\"&lt;\", \"<\", tweet)\n",
    "    tweet = re.sub(r\"&amp;\", \"&\", tweet)\n",
    "    \n",
    "    # Typos, slang and informal abbreviations\n",
    "    tweet = re.sub(r\"w/e\", \"whatever\", tweet)\n",
    "    tweet = re.sub(r\"w/\", \"with\", tweet)\n",
    "    tweet = re.sub(r\"USAgov\", \"USA government\", tweet)\n",
    "    tweet = re.sub(r\"recentlu\", \"recently\", tweet)\n",
    "    tweet = re.sub(r\"Ph0tos\", \"Photos\", tweet)\n",
    "    tweet = re.sub(r\"amirite\", \"am I right\", tweet)\n",
    "    tweet = re.sub(r\"exp0sed\", \"exposed\", tweet)\n",
    "    tweet = re.sub(r\"<3\", \"love\", tweet)\n",
    "    tweet = re.sub(r\"amageddon\", \"armageddon\", tweet)\n",
    "    tweet = re.sub(r\"Trfc\", \"Traffic\", tweet)\n",
    "    tweet = re.sub(r\"8/5/2015\", \"2015-08-05\", tweet)\n",
    "    tweet = re.sub(r\"WindStorm\", \"Wind Storm\", tweet)\n",
    "    tweet = re.sub(r\"8/6/2015\", \"2015-08-06\", tweet)\n",
    "    tweet = re.sub(r\"10:38PM\", \"10:38 PM\", tweet)\n",
    "    tweet = re.sub(r\"10:30pm\", \"10:30 PM\", tweet)\n",
    "    tweet = re.sub(r\"16yr\", \"16 year\", tweet)\n",
    "    tweet = re.sub(r\"lmao\", \"laughing my ass off\", tweet)   \n",
    "    tweet = re.sub(r\"TRAUMATISED\", \"traumatized\", tweet)\n",
    "    \n",
    "    # Hashtags and usernames\n",
    "    tweet = re.sub(r\"IranDeal\", \"Iran Deal\", tweet)\n",
    "    tweet = re.sub(r\"ArianaGrande\", \"Ariana Grande\", tweet)\n",
    "    tweet = re.sub(r\"camilacabello97\", \"camila cabello\", tweet) \n",
    "    tweet = re.sub(r\"RondaRousey\", \"Ronda Rousey\", tweet)     \n",
    "    tweet = re.sub(r\"MTVHottest\", \"MTV Hottest\", tweet)\n",
    "    tweet = re.sub(r\"TrapMusic\", \"Trap Music\", tweet)\n",
    "    tweet = re.sub(r\"ProphetMuhammad\", \"Prophet Muhammad\", tweet)\n",
    "    tweet = re.sub(r\"PantherAttack\", \"Panther Attack\", tweet)\n",
    "    tweet = re.sub(r\"StrategicPatience\", \"Strategic Patience\", tweet)\n",
    "    tweet = re.sub(r\"socialnews\", \"social news\", tweet)\n",
    "    tweet = re.sub(r\"NASAHurricane\", \"NASA Hurricane\", tweet)\n",
    "    tweet = re.sub(r\"onlinecommunities\", \"online communities\", tweet)\n",
    "    tweet = re.sub(r\"humanconsumption\", \"human consumption\", tweet)\n",
    "    tweet = re.sub(r\"Typhoon-Devastated\", \"Typhoon Devastated\", tweet)\n",
    "    tweet = re.sub(r\"Meat-Loving\", \"Meat Loving\", tweet)\n",
    "    tweet = re.sub(r\"facialabuse\", \"facial abuse\", tweet)\n",
    "    tweet = re.sub(r\"LakeCounty\", \"Lake County\", tweet)\n",
    "    tweet = re.sub(r\"BeingAuthor\", \"Being Author\", tweet)\n",
    "    tweet = re.sub(r\"withheavenly\", \"with heavenly\", tweet)\n",
    "    tweet = re.sub(r\"thankU\", \"thank you\", tweet)\n",
    "    tweet = re.sub(r\"iTunesMusic\", \"iTunes Music\", tweet)\n",
    "    tweet = re.sub(r\"OffensiveContent\", \"Offensive Content\", tweet)\n",
    "    tweet = re.sub(r\"WorstSummerJob\", \"Worst Summer Job\", tweet)\n",
    "    tweet = re.sub(r\"HarryBeCareful\", \"Harry Be Careful\", tweet)\n",
    "    tweet = re.sub(r\"NASASolarSystem\", \"NASA Solar System\", tweet)\n",
    "    tweet = re.sub(r\"animalrescue\", \"animal rescue\", tweet)\n",
    "    tweet = re.sub(r\"KurtSchlichter\", \"Kurt Schlichter\", tweet)\n",
    "    tweet = re.sub(r\"aRmageddon\", \"armageddon\", tweet)\n",
    "    tweet = re.sub(r\"Throwingknifes\", \"Throwing knives\", tweet)\n",
    "    tweet = re.sub(r\"GodsLove\", \"God's Love\", tweet)\n",
    "    tweet = re.sub(r\"bookboost\", \"book boost\", tweet)\n",
    "    tweet = re.sub(r\"ibooklove\", \"I book love\", tweet)\n",
    "    tweet = re.sub(r\"NestleIndia\", \"Nestle India\", tweet)\n",
    "    tweet = re.sub(r\"realDonaldTrump\", \"Donald Trump\", tweet)\n",
    "    tweet = re.sub(r\"DavidVonderhaar\", \"David Vonderhaar\", tweet)\n",
    "    tweet = re.sub(r\"CecilTheLion\", \"Cecil The Lion\", tweet)\n",
    "    tweet = re.sub(r\"weathernetwork\", \"weather network\", tweet)\n",
    "    tweet = re.sub(r\"withBioterrorism&use\", \"with Bioterrorism & use\", tweet)\n",
    "    tweet = re.sub(r\"Hostage&2\", \"Hostage & 2\", tweet)\n",
    "    tweet = re.sub(r\"GOPDebate\", \"GOP Debate\", tweet)\n",
    "    tweet = re.sub(r\"RickPerry\", \"Rick Perry\", tweet)\n",
    "    tweet = re.sub(r\"frontpage\", \"front page\", tweet)\n",
    "    tweet = re.sub(r\"NewsInTweets\", \"News In Tweets\", tweet)\n",
    "    tweet = re.sub(r\"ViralSpell\", \"Viral Spell\", tweet)\n",
    "    tweet = re.sub(r\"til_now\", \"until now\", tweet)\n",
    "    tweet = re.sub(r\"volcanoinRussia\", \"volcano in Russia\", tweet)\n",
    "    tweet = re.sub(r\"ZippedNews\", \"Zipped News\", tweet)\n",
    "    tweet = re.sub(r\"MicheleBachman\", \"Michele Bachman\", tweet)\n",
    "    tweet = re.sub(r\"53inch\", \"53 inch\", tweet)\n",
    "    tweet = re.sub(r\"KerrickTrial\", \"Kerrick Trial\", tweet)\n",
    "    tweet = re.sub(r\"abstorm\", \"Alberta Storm\", tweet)\n",
    "    tweet = re.sub(r\"Beyhive\", \"Beyonce hive\", tweet)\n",
    "    tweet = re.sub(r\"IDFire\", \"Idaho Fire\", tweet)\n",
    "    tweet = re.sub(r\"DETECTADO\", \"Detected\", tweet)\n",
    "    tweet = re.sub(r\"RockyFire\", \"Rocky Fire\", tweet)\n",
    "    tweet = re.sub(r\"Listen/Buy\", \"Listen / Buy\", tweet)\n",
    "    tweet = re.sub(r\"NickCannon\", \"Nick Cannon\", tweet)\n",
    "    tweet = re.sub(r\"FaroeIslands\", \"Faroe Islands\", tweet)\n",
    "    tweet = re.sub(r\"yycstorm\", \"Calgary Storm\", tweet)\n",
    "    tweet = re.sub(r\"IDPs:\", \"Internally Displaced People :\", tweet)\n",
    "    tweet = re.sub(r\"ArtistsUnited\", \"Artists United\", tweet)\n",
    "    tweet = re.sub(r\"ClaytonBryant\", \"Clayton Bryant\", tweet)\n",
    "    tweet = re.sub(r\"jimmyfallon\", \"jimmy fallon\", tweet)\n",
    "    tweet = re.sub(r\"justinbieber\", \"justin bieber\", tweet)  \n",
    "    tweet = re.sub(r\"UTC2015\", \"UTC 2015\", tweet)\n",
    "    tweet = re.sub(r\"Time2015\", \"Time 2015\", tweet)\n",
    "    tweet = re.sub(r\"djicemoon\", \"dj icemoon\", tweet)\n",
    "    tweet = re.sub(r\"LivingSafely\", \"Living Safely\", tweet)\n",
    "    tweet = re.sub(r\"FIFA16\", \"Fifa 2016\", tweet)\n",
    "    tweet = re.sub(r\"thisiswhywecanthavenicethings\", \"this is why we cannot have nice things\", tweet)\n",
    "    tweet = re.sub(r\"bbcnews\", \"bbc news\", tweet)\n",
    "    tweet = re.sub(r\"UndergroundRailraod\", \"Underground Railraod\", tweet)\n",
    "    tweet = re.sub(r\"c4news\", \"c4 news\", tweet)\n",
    "    tweet = re.sub(r\"OBLITERATION\", \"obliteration\", tweet)\n",
    "    tweet = re.sub(r\"MUDSLIDE\", \"mudslide\", tweet)\n",
    "    tweet = re.sub(r\"NoSurrender\", \"No Surrender\", tweet)\n",
    "    tweet = re.sub(r\"NotExplained\", \"Not Explained\", tweet)\n",
    "    tweet = re.sub(r\"greatbritishbakeoff\", \"great british bake off\", tweet)\n",
    "    tweet = re.sub(r\"LondonFire\", \"London Fire\", tweet)\n",
    "    tweet = re.sub(r\"KOTAWeather\", \"KOTA Weather\", tweet)\n",
    "    tweet = re.sub(r\"LuchaUnderground\", \"Lucha Underground\", tweet)\n",
    "    tweet = re.sub(r\"KOIN6News\", \"KOIN 6 News\", tweet)\n",
    "    tweet = re.sub(r\"LiveOnK2\", \"Live On K2\", tweet)\n",
    "    tweet = re.sub(r\"9NewsGoldCoast\", \"9 News Gold Coast\", tweet)\n",
    "    tweet = re.sub(r\"nikeplus\", \"nike plus\", tweet)\n",
    "    tweet = re.sub(r\"david_cameron\", \"David Cameron\", tweet)\n",
    "    tweet = re.sub(r\"peterjukes\", \"Peter Jukes\", tweet)\n",
    "    tweet = re.sub(r\"JamesMelville\", \"James Melville\", tweet)\n",
    "    tweet = re.sub(r\"megynkelly\", \"Megyn Kelly\", tweet)\n",
    "    tweet = re.sub(r\"cnewslive\", \"C News Live\", tweet)\n",
    "    tweet = re.sub(r\"JamaicaObserver\", \"Jamaica Observer\", tweet)\n",
    "    tweet = re.sub(r\"TweetLikeItsSeptember11th2001\", \"Tweet like it is september 11th 2001\", tweet)\n",
    "    tweet = re.sub(r\"cbplawyers\", \"cbp lawyers\", tweet)\n",
    "    tweet = re.sub(r\"fewmoretweets\", \"few more tweets\", tweet)\n",
    "    tweet = re.sub(r\"BlackLivesMatter\", \"Black Lives Matter\", tweet)\n",
    "    tweet = re.sub(r\"cjoyner\", \"Chris Joyner\", tweet)\n",
    "    tweet = re.sub(r\"ENGvAUS\", \"England vs Australia\", tweet)\n",
    "    tweet = re.sub(r\"ScottWalker\", \"Scott Walker\", tweet)\n",
    "    tweet = re.sub(r\"MikeParrActor\", \"Michael Parr\", tweet)\n",
    "    tweet = re.sub(r\"4PlayThursdays\", \"Foreplay Thursdays\", tweet)\n",
    "    tweet = re.sub(r\"TGF2015\", \"Tontitown Grape Festival\", tweet)\n",
    "    tweet = re.sub(r\"realmandyrain\", \"Mandy Rain\", tweet)\n",
    "    tweet = re.sub(r\"GraysonDolan\", \"Grayson Dolan\", tweet)\n",
    "    tweet = re.sub(r\"ApolloBrown\", \"Apollo Brown\", tweet)\n",
    "    tweet = re.sub(r\"saddlebrooke\", \"Saddlebrooke\", tweet)\n",
    "    tweet = re.sub(r\"TontitownGrape\", \"Tontitown Grape\", tweet)\n",
    "    tweet = re.sub(r\"AbbsWinston\", \"Abbs Winston\", tweet)\n",
    "    tweet = re.sub(r\"ShaunKing\", \"Shaun King\", tweet)\n",
    "    tweet = re.sub(r\"MeekMill\", \"Meek Mill\", tweet)\n",
    "    tweet = re.sub(r\"TornadoGiveaway\", \"Tornado Giveaway\", tweet)\n",
    "    tweet = re.sub(r\"GRupdates\", \"GR updates\", tweet)\n",
    "    tweet = re.sub(r\"SouthDowns\", \"South Downs\", tweet)\n",
    "    tweet = re.sub(r\"braininjury\", \"brain injury\", tweet)\n",
    "    tweet = re.sub(r\"auspol\", \"Australian politics\", tweet)\n",
    "    tweet = re.sub(r\"PlannedParenthood\", \"Planned Parenthood\", tweet)\n",
    "    tweet = re.sub(r\"calgaryweather\", \"Calgary Weather\", tweet)\n",
    "    tweet = re.sub(r\"weallheartonedirection\", \"we all heart one direction\", tweet)\n",
    "    tweet = re.sub(r\"edsheeran\", \"Ed Sheeran\", tweet)\n",
    "    tweet = re.sub(r\"TrueHeroes\", \"True Heroes\", tweet)\n",
    "    tweet = re.sub(r\"S3XLEAK\", \"sex leak\", tweet)\n",
    "    tweet = re.sub(r\"ComplexMag\", \"Complex Magazine\", tweet)\n",
    "    tweet = re.sub(r\"TheAdvocateMag\", \"The Advocate Magazine\", tweet)\n",
    "    tweet = re.sub(r\"CityofCalgary\", \"City of Calgary\", tweet)\n",
    "    tweet = re.sub(r\"EbolaOutbreak\", \"Ebola Outbreak\", tweet)\n",
    "    tweet = re.sub(r\"SummerFate\", \"Summer Fate\", tweet)\n",
    "    tweet = re.sub(r\"RAmag\", \"Royal Academy Magazine\", tweet)\n",
    "    tweet = re.sub(r\"offers2go\", \"offers to go\", tweet)\n",
    "    tweet = re.sub(r\"foodscare\", \"food scare\", tweet)\n",
    "    tweet = re.sub(r\"MNPDNashville\", \"Metropolitan Nashville Police Department\", tweet)\n",
    "    tweet = re.sub(r\"TfLBusAlerts\", \"TfL Bus Alerts\", tweet)\n",
    "    tweet = re.sub(r\"GamerGate\", \"Gamer Gate\", tweet)\n",
    "    tweet = re.sub(r\"IHHen\", \"Humanitarian Relief\", tweet)\n",
    "    tweet = re.sub(r\"spinningbot\", \"spinning bot\", tweet)\n",
    "    tweet = re.sub(r\"ModiMinistry\", \"Modi Ministry\", tweet)\n",
    "    tweet = re.sub(r\"TAXIWAYS\", \"taxi ways\", tweet)\n",
    "    tweet = re.sub(r\"Calum5SOS\", \"Calum Hood\", tweet)\n",
    "    tweet = re.sub(r\"po_st\", \"po.st\", tweet)\n",
    "    tweet = re.sub(r\"scoopit\", \"scoop.it\", tweet)\n",
    "    tweet = re.sub(r\"UltimaLucha\", \"Ultima Lucha\", tweet)\n",
    "    tweet = re.sub(r\"JonathanFerrell\", \"Jonathan Ferrell\", tweet)\n",
    "    tweet = re.sub(r\"aria_ahrary\", \"Aria Ahrary\", tweet)\n",
    "    tweet = re.sub(r\"rapidcity\", \"Rapid City\", tweet)\n",
    "    tweet = re.sub(r\"OutBid\", \"outbid\", tweet)\n",
    "    tweet = re.sub(r\"lavenderpoetrycafe\", \"lavender poetry cafe\", tweet)\n",
    "    tweet = re.sub(r\"EudryLantiqua\", \"Eudry Lantiqua\", tweet)\n",
    "    tweet = re.sub(r\"15PM\", \"15 PM\", tweet)\n",
    "    tweet = re.sub(r\"OriginalFunko\", \"Funko\", tweet)\n",
    "    tweet = re.sub(r\"rightwaystan\", \"Richard Tan\", tweet)\n",
    "    tweet = re.sub(r\"CindyNoonan\", \"Cindy Noonan\", tweet)\n",
    "    tweet = re.sub(r\"RT_America\", \"RT America\", tweet)\n",
    "    tweet = re.sub(r\"narendramodi\", \"Narendra Modi\", tweet)\n",
    "    tweet = re.sub(r\"BakeOffFriends\", \"Bake Off Friends\", tweet)\n",
    "    tweet = re.sub(r\"TeamHendrick\", \"Hendrick Motorsports\", tweet)\n",
    "    tweet = re.sub(r\"alexbelloli\", \"Alex Belloli\", tweet)\n",
    "    tweet = re.sub(r\"itsjustinstuart\", \"Justin Stuart\", tweet)\n",
    "    tweet = re.sub(r\"gunsense\", \"gun sense\", tweet)\n",
    "    tweet = re.sub(r\"DebateQuestionsWeWantToHear\", \"debate questions we want to hear\", tweet)\n",
    "    tweet = re.sub(r\"RoyalCarribean\", \"Royal Carribean\", tweet)\n",
    "    tweet = re.sub(r\"samanthaturne19\", \"Samantha Turner\", tweet)\n",
    "    tweet = re.sub(r\"JonVoyage\", \"Jon Stewart\", tweet)\n",
    "    tweet = re.sub(r\"renew911health\", \"renew 911 health\", tweet)\n",
    "    tweet = re.sub(r\"SuryaRay\", \"Surya Ray\", tweet)\n",
    "    tweet = re.sub(r\"pattonoswalt\", \"Patton Oswalt\", tweet)\n",
    "    tweet = re.sub(r\"minhazmerchant\", \"Minhaz Merchant\", tweet)\n",
    "    tweet = re.sub(r\"TLVFaces\", \"Israel Diaspora Coalition\", tweet)\n",
    "    tweet = re.sub(r\"pmarca\", \"Marc Andreessen\", tweet)\n",
    "    tweet = re.sub(r\"pdx911\", \"Portland Police\", tweet)\n",
    "    tweet = re.sub(r\"jamaicaplain\", \"Jamaica Plain\", tweet)\n",
    "    tweet = re.sub(r\"Japton\", \"Arkansas\", tweet)\n",
    "    tweet = re.sub(r\"RouteComplex\", \"Route Complex\", tweet)\n",
    "    tweet = re.sub(r\"INSubcontinent\", \"Indian Subcontinent\", tweet)\n",
    "    tweet = re.sub(r\"NJTurnpike\", \"New Jersey Turnpike\", tweet)\n",
    "    tweet = re.sub(r\"Politifiact\", \"PolitiFact\", tweet)\n",
    "    tweet = re.sub(r\"Hiroshima70\", \"Hiroshima\", tweet)\n",
    "    tweet = re.sub(r\"GMMBC\", \"Greater Mt Moriah Baptist Church\", tweet)\n",
    "    tweet = re.sub(r\"versethe\", \"verse the\", tweet)\n",
    "    tweet = re.sub(r\"TubeStrike\", \"Tube Strike\", tweet)\n",
    "    tweet = re.sub(r\"MissionHills\", \"Mission Hills\", tweet)\n",
    "    tweet = re.sub(r\"ProtectDenaliWolves\", \"Protect Denali Wolves\", tweet)\n",
    "    tweet = re.sub(r\"NANKANA\", \"Nankana\", tweet)\n",
    "    tweet = re.sub(r\"SAHIB\", \"Sahib\", tweet)\n",
    "    tweet = re.sub(r\"PAKPATTAN\", \"Pakpattan\", tweet)\n",
    "    tweet = re.sub(r\"Newz_Sacramento\", \"News Sacramento\", tweet)\n",
    "    tweet = re.sub(r\"gofundme\", \"go fund me\", tweet)\n",
    "    tweet = re.sub(r\"pmharper\", \"Stephen Harper\", tweet)\n",
    "    tweet = re.sub(r\"IvanBerroa\", \"Ivan Berroa\", tweet)\n",
    "    tweet = re.sub(r\"LosDelSonido\", \"Los Del Sonido\", tweet)\n",
    "    tweet = re.sub(r\"bancodeseries\", \"banco de series\", tweet)\n",
    "    tweet = re.sub(r\"timkaine\", \"Tim Kaine\", tweet)\n",
    "    tweet = re.sub(r\"IdentityTheft\", \"Identity Theft\", tweet)\n",
    "    tweet = re.sub(r\"AllLivesMatter\", \"All Lives Matter\", tweet)\n",
    "    tweet = re.sub(r\"mishacollins\", \"Misha Collins\", tweet)\n",
    "    tweet = re.sub(r\"BillNeelyNBC\", \"Bill Neely\", tweet)\n",
    "    tweet = re.sub(r\"BeClearOnCancer\", \"be clear on cancer\", tweet)\n",
    "    tweet = re.sub(r\"Kowing\", \"Knowing\", tweet)\n",
    "    tweet = re.sub(r\"ScreamQueens\", \"Scream Queens\", tweet)\n",
    "    tweet = re.sub(r\"AskCharley\", \"Ask Charley\", tweet)\n",
    "    tweet = re.sub(r\"BlizzHeroes\", \"Heroes of the Storm\", tweet)\n",
    "    tweet = re.sub(r\"BradleyBrad47\", \"Bradley Brad\", tweet)\n",
    "    tweet = re.sub(r\"HannaPH\", \"Typhoon Hanna\", tweet)\n",
    "    tweet = re.sub(r\"meinlcymbals\", \"MEINL Cymbals\", tweet)\n",
    "    tweet = re.sub(r\"Ptbo\", \"Peterborough\", tweet)\n",
    "    tweet = re.sub(r\"cnnbrk\", \"CNN Breaking News\", tweet)\n",
    "    tweet = re.sub(r\"IndianNews\", \"Indian News\", tweet)\n",
    "    tweet = re.sub(r\"savebees\", \"save bees\", tweet)\n",
    "    tweet = re.sub(r\"GreenHarvard\", \"Green Harvard\", tweet)\n",
    "    tweet = re.sub(r\"StandwithPP\", \"Stand with planned parenthood\", tweet)\n",
    "    tweet = re.sub(r\"hermancranston\", \"Herman Cranston\", tweet)\n",
    "    tweet = re.sub(r\"WMUR9\", \"WMUR-TV\", tweet)\n",
    "    tweet = re.sub(r\"RockBottomRadFM\", \"Rock Bottom Radio\", tweet)\n",
    "    tweet = re.sub(r\"ameenshaikh3\", \"Ameen Shaikh\", tweet)\n",
    "    tweet = re.sub(r\"ProSyn\", \"Project Syndicate\", tweet)\n",
    "    tweet = re.sub(r\"Daesh\", \"ISIS\", tweet)\n",
    "    tweet = re.sub(r\"s2g\", \"swear to god\", tweet)\n",
    "    tweet = re.sub(r\"listenlive\", \"listen live\", tweet)\n",
    "    tweet = re.sub(r\"CDCgov\", \"Centers for Disease Control and Prevention\", tweet)\n",
    "    tweet = re.sub(r\"FoxNew\", \"Fox News\", tweet)\n",
    "    tweet = re.sub(r\"CBSBigBrother\", \"Big Brother\", tweet)\n",
    "    tweet = re.sub(r\"JulieDiCaro\", \"Julie DiCaro\", tweet)\n",
    "    tweet = re.sub(r\"theadvocatemag\", \"The Advocate Magazine\", tweet)\n",
    "    tweet = re.sub(r\"RohnertParkDPS\", \"Rohnert Park Police Department\", tweet)\n",
    "    tweet = re.sub(r\"THISIZBWRIGHT\", \"Bonnie Wright\", tweet)\n",
    "    tweet = re.sub(r\"Popularmmos\", \"Popular MMOs\", tweet)\n",
    "    tweet = re.sub(r\"WildHorses\", \"Wild Horses\", tweet)\n",
    "    tweet = re.sub(r\"FantasticFour\", \"Fantastic Four\", tweet)\n",
    "    tweet = re.sub(r\"HORNDALE\", \"Horndale\", tweet)\n",
    "    tweet = re.sub(r\"PINER\", \"Piner\", tweet)\n",
    "    tweet = re.sub(r\"BathAndNorthEastSomerset\", \"Bath and North East Somerset\", tweet)\n",
    "    tweet = re.sub(r\"thatswhatfriendsarefor\", \"that is what friends are for\", tweet)\n",
    "    tweet = re.sub(r\"residualincome\", \"residual income\", tweet)\n",
    "    tweet = re.sub(r\"YahooNewsDigest\", \"Yahoo News Digest\", tweet)\n",
    "    tweet = re.sub(r\"MalaysiaAirlines\", \"Malaysia Airlines\", tweet)\n",
    "    tweet = re.sub(r\"AmazonDeals\", \"Amazon Deals\", tweet)\n",
    "    tweet = re.sub(r\"MissCharleyWebb\", \"Charley Webb\", tweet)\n",
    "    tweet = re.sub(r\"shoalstraffic\", \"shoals traffic\", tweet)\n",
    "    tweet = re.sub(r\"GeorgeFoster72\", \"George Foster\", tweet)\n",
    "    tweet = re.sub(r\"pop2015\", \"pop 2015\", tweet)\n",
    "    tweet = re.sub(r\"_PokemonCards_\", \"Pokemon Cards\", tweet)\n",
    "    tweet = re.sub(r\"DianneG\", \"Dianne Gallagher\", tweet)\n",
    "    tweet = re.sub(r\"KashmirConflict\", \"Kashmir Conflict\", tweet)\n",
    "    tweet = re.sub(r\"BritishBakeOff\", \"British Bake Off\", tweet)\n",
    "    tweet = re.sub(r\"FreeKashmir\", \"Free Kashmir\", tweet)\n",
    "    tweet = re.sub(r\"mattmosley\", \"Matt Mosley\", tweet)\n",
    "    tweet = re.sub(r\"BishopFred\", \"Bishop Fred\", tweet)\n",
    "    tweet = re.sub(r\"EndConflict\", \"End Conflict\", tweet)\n",
    "    tweet = re.sub(r\"EndOccupation\", \"End Occupation\", tweet)\n",
    "    tweet = re.sub(r\"UNHEALED\", \"unhealed\", tweet)\n",
    "    tweet = re.sub(r\"CharlesDagnall\", \"Charles Dagnall\", tweet)\n",
    "    tweet = re.sub(r\"Latestnews\", \"Latest news\", tweet)\n",
    "    tweet = re.sub(r\"KindleCountdown\", \"Kindle Countdown\", tweet)\n",
    "    tweet = re.sub(r\"NoMoreHandouts\", \"No More Handouts\", tweet)\n",
    "    tweet = re.sub(r\"datingtips\", \"dating tips\", tweet)\n",
    "    tweet = re.sub(r\"charlesadler\", \"Charles Adler\", tweet)\n",
    "    tweet = re.sub(r\"twia\", \"Texas Windstorm Insurance Association\", tweet)\n",
    "    tweet = re.sub(r\"txlege\", \"Texas Legislature\", tweet)\n",
    "    tweet = re.sub(r\"WindstormInsurer\", \"Windstorm Insurer\", tweet)\n",
    "    tweet = re.sub(r\"Newss\", \"News\", tweet)\n",
    "    tweet = re.sub(r\"hempoil\", \"hemp oil\", tweet)\n",
    "    tweet = re.sub(r\"CommoditiesAre\", \"Commodities are\", tweet)\n",
    "    tweet = re.sub(r\"tubestrike\", \"tube strike\", tweet)\n",
    "    tweet = re.sub(r\"JoeNBC\", \"Joe Scarborough\", tweet)\n",
    "    tweet = re.sub(r\"LiteraryCakes\", \"Literary Cakes\", tweet)\n",
    "    tweet = re.sub(r\"TI5\", \"The International 5\", tweet)\n",
    "    tweet = re.sub(r\"thehill\", \"the hill\", tweet)\n",
    "    tweet = re.sub(r\"3others\", \"3 others\", tweet)\n",
    "    tweet = re.sub(r\"stighefootball\", \"Sam Tighe\", tweet)\n",
    "    tweet = re.sub(r\"whatstheimportantvideo\", \"what is the important video\", tweet)\n",
    "    tweet = re.sub(r\"ClaudioMeloni\", \"Claudio Meloni\", tweet)\n",
    "    tweet = re.sub(r\"DukeSkywalker\", \"Duke Skywalker\", tweet)\n",
    "    tweet = re.sub(r\"carsonmwr\", \"Fort Carson\", tweet)\n",
    "    tweet = re.sub(r\"offdishduty\", \"off dish duty\", tweet)\n",
    "    tweet = re.sub(r\"andword\", \"and word\", tweet)\n",
    "    tweet = re.sub(r\"rhodeisland\", \"Rhode Island\", tweet)\n",
    "    tweet = re.sub(r\"easternoregon\", \"Eastern Oregon\", tweet)\n",
    "    tweet = re.sub(r\"WAwildfire\", \"Washington Wildfire\", tweet)\n",
    "    tweet = re.sub(r\"fingerrockfire\", \"Finger Rock Fire\", tweet)\n",
    "    tweet = re.sub(r\"57am\", \"57 am\", tweet)\n",
    "    tweet = re.sub(r\"fingerrockfire\", \"Finger Rock Fire\", tweet)\n",
    "    tweet = re.sub(r\"JacobHoggard\", \"Jacob Hoggard\", tweet)\n",
    "    tweet = re.sub(r\"newnewnew\", \"new new new\", tweet)\n",
    "    tweet = re.sub(r\"under50\", \"under 50\", tweet)\n",
    "    tweet = re.sub(r\"getitbeforeitsgone\", \"get it before it is gone\", tweet)\n",
    "    tweet = re.sub(r\"freshoutofthebox\", \"fresh out of the box\", tweet)\n",
    "    tweet = re.sub(r\"amwriting\", \"am writing\", tweet)\n",
    "    tweet = re.sub(r\"Bokoharm\", \"Boko Haram\", tweet)\n",
    "    tweet = re.sub(r\"Nowlike\", \"Now like\", tweet)\n",
    "    tweet = re.sub(r\"seasonfrom\", \"season from\", tweet)\n",
    "    tweet = re.sub(r\"epicente\", \"epicenter\", tweet)\n",
    "    tweet = re.sub(r\"epicenterr\", \"epicenter\", tweet)\n",
    "    tweet = re.sub(r\"sicklife\", \"sick life\", tweet)\n",
    "    tweet = re.sub(r\"yycweather\", \"Calgary Weather\", tweet)\n",
    "    tweet = re.sub(r\"calgarysun\", \"Calgary Sun\", tweet)\n",
    "    tweet = re.sub(r\"approachng\", \"approaching\", tweet)\n",
    "    tweet = re.sub(r\"evng\", \"evening\", tweet)\n",
    "    tweet = re.sub(r\"Sumthng\", \"something\", tweet)\n",
    "    tweet = re.sub(r\"EllenPompeo\", \"Ellen Pompeo\", tweet)\n",
    "    tweet = re.sub(r\"shondarhimes\", \"Shonda Rhimes\", tweet)\n",
    "    tweet = re.sub(r\"ABCNetwork\", \"ABC Network\", tweet)\n",
    "    tweet = re.sub(r\"SushmaSwaraj\", \"Sushma Swaraj\", tweet)\n",
    "    tweet = re.sub(r\"pray4japan\", \"Pray for Japan\", tweet)\n",
    "    tweet = re.sub(r\"hope4japan\", \"Hope for Japan\", tweet)\n",
    "    tweet = re.sub(r\"Illusionimagess\", \"Illusion images\", tweet)\n",
    "    tweet = re.sub(r\"SummerUnderTheStars\", \"Summer Under The Stars\", tweet)\n",
    "    tweet = re.sub(r\"ShallWeDance\", \"Shall We Dance\", tweet)\n",
    "    tweet = re.sub(r\"TCMParty\", \"TCM Party\", tweet)\n",
    "    tweet = re.sub(r\"marijuananews\", \"marijuana news\", tweet)\n",
    "    tweet = re.sub(r\"onbeingwithKristaTippett\", \"on being with Krista Tippett\", tweet)\n",
    "    tweet = re.sub(r\"Beingtweets\", \"Being tweets\", tweet)\n",
    "    tweet = re.sub(r\"newauthors\", \"new authors\", tweet)\n",
    "    tweet = re.sub(r\"remedyyyy\", \"remedy\", tweet)\n",
    "    tweet = re.sub(r\"44PM\", \"44 PM\", tweet)\n",
    "    tweet = re.sub(r\"HeadlinesApp\", \"Headlines App\", tweet)\n",
    "    tweet = re.sub(r\"40PM\", \"40 PM\", tweet)\n",
    "    tweet = re.sub(r\"myswc\", \"Severe Weather Center\", tweet)\n",
    "    tweet = re.sub(r\"ithats\", \"that is\", tweet)\n",
    "    tweet = re.sub(r\"icouldsitinthismomentforever\", \"I could sit in this moment forever\", tweet)\n",
    "    tweet = re.sub(r\"FatLoss\", \"Fat Loss\", tweet)\n",
    "    tweet = re.sub(r\"02PM\", \"02 PM\", tweet)\n",
    "    tweet = re.sub(r\"MetroFmTalk\", \"Metro Fm Talk\", tweet)\n",
    "    tweet = re.sub(r\"Bstrd\", \"bastard\", tweet)\n",
    "    tweet = re.sub(r\"bldy\", \"bloody\", tweet)\n",
    "    tweet = re.sub(r\"MetrofmTalk\", \"Metro Fm Talk\", tweet)\n",
    "    tweet = re.sub(r\"terrorismturn\", \"terrorism turn\", tweet)\n",
    "    tweet = re.sub(r\"BBCNewsAsia\", \"BBC News Asia\", tweet)\n",
    "    tweet = re.sub(r\"BehindTheScenes\", \"Behind The Scenes\", tweet)\n",
    "    tweet = re.sub(r\"GeorgeTakei\", \"George Takei\", tweet)\n",
    "    tweet = re.sub(r\"WomensWeeklyMag\", \"Womens Weekly Magazine\", tweet)\n",
    "    tweet = re.sub(r\"SurvivorsGuidetoEarth\", \"Survivors Guide to Earth\", tweet)\n",
    "    tweet = re.sub(r\"incubusband\", \"incubus band\", tweet)\n",
    "    tweet = re.sub(r\"Babypicturethis\", \"Baby picture this\", tweet)\n",
    "    tweet = re.sub(r\"BombEffects\", \"Bomb Effects\", tweet)\n",
    "    tweet = re.sub(r\"win10\", \"Windows 10\", tweet)\n",
    "    tweet = re.sub(r\"idkidk\", \"I do not know I do not know\", tweet)\n",
    "    tweet = re.sub(r\"TheWalkingDead\", \"The Walking Dead\", tweet)\n",
    "    tweet = re.sub(r\"amyschumer\", \"Amy Schumer\", tweet)\n",
    "    tweet = re.sub(r\"crewlist\", \"crew list\", tweet)\n",
    "    tweet = re.sub(r\"Erdogans\", \"Erdogan\", tweet)\n",
    "    tweet = re.sub(r\"BBCLive\", \"BBC Live\", tweet)\n",
    "    tweet = re.sub(r\"TonyAbbottMHR\", \"Tony Abbott\", tweet)\n",
    "    tweet = re.sub(r\"paulmyerscough\", \"Paul Myerscough\", tweet)\n",
    "    tweet = re.sub(r\"georgegallagher\", \"George Gallagher\", tweet)\n",
    "    tweet = re.sub(r\"JimmieJohnson\", \"Jimmie Johnson\", tweet)\n",
    "    tweet = re.sub(r\"pctool\", \"pc tool\", tweet)\n",
    "    tweet = re.sub(r\"DoingHashtagsRight\", \"Doing Hashtags Right\", tweet)\n",
    "    tweet = re.sub(r\"ThrowbackThursday\", \"Throwback Thursday\", tweet)\n",
    "    tweet = re.sub(r\"SnowBackSunday\", \"Snowback Sunday\", tweet)\n",
    "    tweet = re.sub(r\"LakeEffect\", \"Lake Effect\", tweet)\n",
    "    tweet = re.sub(r\"RTphotographyUK\", \"Richard Thomas Photography UK\", tweet)\n",
    "    tweet = re.sub(r\"BigBang_CBS\", \"Big Bang CBS\", tweet)\n",
    "    tweet = re.sub(r\"writerslife\", \"writers life\", tweet)\n",
    "    tweet = re.sub(r\"NaturalBirth\", \"Natural Birth\", tweet)\n",
    "    tweet = re.sub(r\"UnusualWords\", \"Unusual Words\", tweet)\n",
    "    tweet = re.sub(r\"wizkhalifa\", \"Wiz Khalifa\", tweet)\n",
    "    tweet = re.sub(r\"acreativedc\", \"a creative DC\", tweet)\n",
    "    tweet = re.sub(r\"vscodc\", \"vsco DC\", tweet)\n",
    "    tweet = re.sub(r\"VSCOcam\", \"vsco camera\", tweet)\n",
    "    tweet = re.sub(r\"TheBEACHDC\", \"The beach DC\", tweet)\n",
    "    tweet = re.sub(r\"buildingmuseum\", \"building museum\", tweet)\n",
    "    tweet = re.sub(r\"WorldOil\", \"World Oil\", tweet)\n",
    "    tweet = re.sub(r\"redwedding\", \"red wedding\", tweet)\n",
    "    tweet = re.sub(r\"AmazingRaceCanada\", \"Amazing Race Canada\", tweet)\n",
    "    tweet = re.sub(r\"WakeUpAmerica\", \"Wake Up America\", tweet)\n",
    "    tweet = re.sub(r\"\\\\Allahuakbar\\\\\", \"Allahu Akbar\", tweet)\n",
    "    tweet = re.sub(r\"bleased\", \"blessed\", tweet)\n",
    "    tweet = re.sub(r\"nigeriantribune\", \"Nigerian Tribune\", tweet)\n",
    "    tweet = re.sub(r\"HIDEO_KOJIMA_EN\", \"Hideo Kojima\", tweet)\n",
    "    tweet = re.sub(r\"FusionFestival\", \"Fusion Festival\", tweet)\n",
    "    tweet = re.sub(r\"50Mixed\", \"50 Mixed\", tweet)\n",
    "    tweet = re.sub(r\"NoAgenda\", \"No Agenda\", tweet)\n",
    "    tweet = re.sub(r\"WhiteGenocide\", \"White Genocide\", tweet)\n",
    "    tweet = re.sub(r\"dirtylying\", \"dirty lying\", tweet)\n",
    "    tweet = re.sub(r\"SyrianRefugees\", \"Syrian Refugees\", tweet)\n",
    "    tweet = re.sub(r\"changetheworld\", \"change the world\", tweet)\n",
    "    tweet = re.sub(r\"Ebolacase\", \"Ebola case\", tweet)\n",
    "    tweet = re.sub(r\"mcgtech\", \"mcg technologies\", tweet)\n",
    "    tweet = re.sub(r\"withweapons\", \"with weapons\", tweet)\n",
    "    tweet = re.sub(r\"advancedwarfare\", \"advanced warfare\", tweet)\n",
    "    tweet = re.sub(r\"letsFootball\", \"let us Football\", tweet)\n",
    "    tweet = re.sub(r\"LateNiteMix\", \"late night mix\", tweet)\n",
    "    tweet = re.sub(r\"PhilCollinsFeed\", \"Phil Collins\", tweet)\n",
    "    tweet = re.sub(r\"RudyHavenstein\", \"Rudy Havenstein\", tweet)\n",
    "    tweet = re.sub(r\"22PM\", \"22 PM\", tweet)\n",
    "    tweet = re.sub(r\"54am\", \"54 AM\", tweet)\n",
    "    tweet = re.sub(r\"38am\", \"38 AM\", tweet)\n",
    "    tweet = re.sub(r\"OldFolkExplainStuff\", \"Old Folk Explain Stuff\", tweet)\n",
    "    tweet = re.sub(r\"BlacklivesMatter\", \"Black Lives Matter\", tweet)\n",
    "    tweet = re.sub(r\"InsaneLimits\", \"Insane Limits\", tweet)\n",
    "    tweet = re.sub(r\"youcantsitwithus\", \"you cannot sit with us\", tweet)\n",
    "    tweet = re.sub(r\"2k15\", \"2015\", tweet)\n",
    "    tweet = re.sub(r\"TheIran\", \"Iran\", tweet)\n",
    "    tweet = re.sub(r\"JimmyFallon\", \"Jimmy Fallon\", tweet)\n",
    "    tweet = re.sub(r\"AlbertBrooks\", \"Albert Brooks\", tweet)\n",
    "    tweet = re.sub(r\"defense_news\", \"defense news\", tweet)\n",
    "    tweet = re.sub(r\"nuclearrcSA\", \"Nuclear Risk Control Self Assessment\", tweet)\n",
    "    tweet = re.sub(r\"Auspol\", \"Australia Politics\", tweet)\n",
    "    tweet = re.sub(r\"NuclearPower\", \"Nuclear Power\", tweet)\n",
    "    tweet = re.sub(r\"WhiteTerrorism\", \"White Terrorism\", tweet)\n",
    "    tweet = re.sub(r\"truthfrequencyradio\", \"Truth Frequency Radio\", tweet)\n",
    "    tweet = re.sub(r\"ErasureIsNotEquality\", \"Erasure is not equality\", tweet)\n",
    "    tweet = re.sub(r\"ProBonoNews\", \"Pro Bono News\", tweet)\n",
    "    tweet = re.sub(r\"JakartaPost\", \"Jakarta Post\", tweet)\n",
    "    tweet = re.sub(r\"toopainful\", \"too painful\", tweet)\n",
    "    tweet = re.sub(r\"melindahaunton\", \"Melinda Haunton\", tweet)\n",
    "    tweet = re.sub(r\"NoNukes\", \"No Nukes\", tweet)\n",
    "    tweet = re.sub(r\"curryspcworld\", \"Currys PC World\", tweet)\n",
    "    tweet = re.sub(r\"ineedcake\", \"I need cake\", tweet)\n",
    "    tweet = re.sub(r\"blackforestgateau\", \"black forest gateau\", tweet)\n",
    "    tweet = re.sub(r\"BBCOne\", \"BBC One\", tweet)\n",
    "    tweet = re.sub(r\"AlexxPage\", \"Alex Page\", tweet)\n",
    "    tweet = re.sub(r\"jonathanserrie\", \"Jonathan Serrie\", tweet)\n",
    "    tweet = re.sub(r\"SocialJerkBlog\", \"Social Jerk Blog\", tweet)\n",
    "    tweet = re.sub(r\"ChelseaVPeretti\", \"Chelsea Peretti\", tweet)\n",
    "    tweet = re.sub(r\"irongiant\", \"iron giant\", tweet)\n",
    "    tweet = re.sub(r\"RonFunches\", \"Ron Funches\", tweet)\n",
    "    tweet = re.sub(r\"TimCook\", \"Tim Cook\", tweet)\n",
    "    tweet = re.sub(r\"sebastianstanisaliveandwell\", \"Sebastian Stan is alive and well\", tweet)\n",
    "    tweet = re.sub(r\"Madsummer\", \"Mad summer\", tweet)\n",
    "    tweet = re.sub(r\"NowYouKnow\", \"Now you know\", tweet)\n",
    "    tweet = re.sub(r\"concertphotography\", \"concert photography\", tweet)\n",
    "    tweet = re.sub(r\"TomLandry\", \"Tom Landry\", tweet)\n",
    "    tweet = re.sub(r\"showgirldayoff\", \"show girl day off\", tweet)\n",
    "    tweet = re.sub(r\"Yougslavia\", \"Yugoslavia\", tweet)\n",
    "    tweet = re.sub(r\"QuantumDataInformatics\", \"Quantum Data Informatics\", tweet)\n",
    "    tweet = re.sub(r\"FromTheDesk\", \"From The Desk\", tweet)\n",
    "    tweet = re.sub(r\"TheaterTrial\", \"Theater Trial\", tweet)\n",
    "    tweet = re.sub(r\"CatoInstitute\", \"Cato Institute\", tweet)\n",
    "    tweet = re.sub(r\"EmekaGift\", \"Emeka Gift\", tweet)\n",
    "    tweet = re.sub(r\"LetsBe_Rational\", \"Let us be rational\", tweet)\n",
    "    tweet = re.sub(r\"Cynicalreality\", \"Cynical reality\", tweet)\n",
    "    tweet = re.sub(r\"FredOlsenCruise\", \"Fred Olsen Cruise\", tweet)\n",
    "    tweet = re.sub(r\"NotSorry\", \"not sorry\", tweet)\n",
    "    tweet = re.sub(r\"UseYourWords\", \"use your words\", tweet)\n",
    "    tweet = re.sub(r\"WordoftheDay\", \"word of the day\", tweet)\n",
    "    tweet = re.sub(r\"Dictionarycom\", \"Dictionary.com\", tweet)\n",
    "    tweet = re.sub(r\"TheBrooklynLife\", \"The Brooklyn Life\", tweet)\n",
    "    tweet = re.sub(r\"jokethey\", \"joke they\", tweet)\n",
    "    tweet = re.sub(r\"nflweek1picks\", \"NFL week 1 picks\", tweet)\n",
    "    tweet = re.sub(r\"uiseful\", \"useful\", tweet)\n",
    "    tweet = re.sub(r\"JusticeDotOrg\", \"The American Association for Justice\", tweet)\n",
    "    tweet = re.sub(r\"autoaccidents\", \"auto accidents\", tweet)\n",
    "    tweet = re.sub(r\"SteveGursten\", \"Steve Gursten\", tweet)\n",
    "    tweet = re.sub(r\"MichiganAutoLaw\", \"Michigan Auto Law\", tweet)\n",
    "    tweet = re.sub(r\"birdgang\", \"bird gang\", tweet)\n",
    "    tweet = re.sub(r\"nflnetwork\", \"NFL Network\", tweet)\n",
    "    tweet = re.sub(r\"NYDNSports\", \"NY Daily News Sports\", tweet)\n",
    "    tweet = re.sub(r\"RVacchianoNYDN\", \"Ralph Vacchiano NY Daily News\", tweet)\n",
    "    tweet = re.sub(r\"EdmontonEsks\", \"Edmonton Eskimos\", tweet)\n",
    "    tweet = re.sub(r\"david_brelsford\", \"David Brelsford\", tweet)\n",
    "    tweet = re.sub(r\"TOI_India\", \"The Times of India\", tweet)\n",
    "    tweet = re.sub(r\"hegot\", \"he got\", tweet)\n",
    "    tweet = re.sub(r\"SkinsOn9\", \"Skins on 9\", tweet)\n",
    "    tweet = re.sub(r\"sothathappened\", \"so that happened\", tweet)\n",
    "    tweet = re.sub(r\"LCOutOfDoors\", \"LC Out Of Doors\", tweet)\n",
    "    tweet = re.sub(r\"NationFirst\", \"Nation First\", tweet)\n",
    "    tweet = re.sub(r\"IndiaToday\", \"India Today\", tweet)\n",
    "    tweet = re.sub(r\"HLPS\", \"helps\", tweet)\n",
    "    tweet = re.sub(r\"HOSTAGESTHROSW\", \"hostages throw\", tweet)\n",
    "    tweet = re.sub(r\"SNCTIONS\", \"sanctions\", tweet)\n",
    "    tweet = re.sub(r\"BidTime\", \"Bid Time\", tweet)\n",
    "    tweet = re.sub(r\"crunchysensible\", \"crunchy sensible\", tweet)\n",
    "    tweet = re.sub(r\"RandomActsOfRomance\", \"Random acts of romance\", tweet)\n",
    "    tweet = re.sub(r\"MomentsAtHill\", \"Moments at hill\", tweet)\n",
    "    tweet = re.sub(r\"eatshit\", \"eat shit\", tweet)\n",
    "    tweet = re.sub(r\"liveleakfun\", \"live leak fun\", tweet)\n",
    "    tweet = re.sub(r\"SahelNews\", \"Sahel News\", tweet)\n",
    "    tweet = re.sub(r\"abc7newsbayarea\", \"ABC 7 News Bay Area\", tweet)\n",
    "    tweet = re.sub(r\"facilitiesmanagement\", \"facilities management\", tweet)\n",
    "    tweet = re.sub(r\"facilitydude\", \"facility dude\", tweet)\n",
    "    tweet = re.sub(r\"CampLogistics\", \"Camp logistics\", tweet)\n",
    "    tweet = re.sub(r\"alaskapublic\", \"Alaska public\", tweet)\n",
    "    tweet = re.sub(r\"MarketResearch\", \"Market Research\", tweet)\n",
    "    tweet = re.sub(r\"AccuracyEsports\", \"Accuracy Esports\", tweet)\n",
    "    tweet = re.sub(r\"TheBodyShopAust\", \"The Body Shop Australia\", tweet)\n",
    "    tweet = re.sub(r\"yychail\", \"Calgary hail\", tweet)\n",
    "    tweet = re.sub(r\"yyctraffic\", \"Calgary traffic\", tweet)\n",
    "    tweet = re.sub(r\"eliotschool\", \"eliot school\", tweet)\n",
    "    tweet = re.sub(r\"TheBrokenCity\", \"The Broken City\", tweet)\n",
    "    tweet = re.sub(r\"OldsFireDept\", \"Olds Fire Department\", tweet)\n",
    "    tweet = re.sub(r\"RiverComplex\", \"River Complex\", tweet)\n",
    "    tweet = re.sub(r\"fieldworksmells\", \"field work smells\", tweet)\n",
    "    tweet = re.sub(r\"IranElection\", \"Iran Election\", tweet)\n",
    "    tweet = re.sub(r\"glowng\", \"glowing\", tweet)\n",
    "    tweet = re.sub(r\"kindlng\", \"kindling\", tweet)\n",
    "    tweet = re.sub(r\"riggd\", \"rigged\", tweet)\n",
    "    tweet = re.sub(r\"slownewsday\", \"slow news day\", tweet)\n",
    "    tweet = re.sub(r\"MyanmarFlood\", \"Myanmar Flood\", tweet)\n",
    "    tweet = re.sub(r\"abc7chicago\", \"ABC 7 Chicago\", tweet)\n",
    "    tweet = re.sub(r\"copolitics\", \"Colorado Politics\", tweet)\n",
    "    tweet = re.sub(r\"AdilGhumro\", \"Adil Ghumro\", tweet)\n",
    "    tweet = re.sub(r\"netbots\", \"net bots\", tweet)\n",
    "    tweet = re.sub(r\"byebyeroad\", \"bye bye road\", tweet)\n",
    "    tweet = re.sub(r\"massiveflooding\", \"massive flooding\", tweet)\n",
    "    tweet = re.sub(r\"EndofUS\", \"End of United States\", tweet)\n",
    "    tweet = re.sub(r\"35PM\", \"35 PM\", tweet)\n",
    "    tweet = re.sub(r\"greektheatrela\", \"Greek Theatre Los Angeles\", tweet)\n",
    "    tweet = re.sub(r\"76mins\", \"76 minutes\", tweet)\n",
    "    tweet = re.sub(r\"publicsafetyfirst\", \"public safety first\", tweet)\n",
    "    tweet = re.sub(r\"livesmatter\", \"lives matter\", tweet)\n",
    "    tweet = re.sub(r\"myhometown\", \"my hometown\", tweet)\n",
    "    tweet = re.sub(r\"tankerfire\", \"tanker fire\", tweet)\n",
    "    tweet = re.sub(r\"MEMORIALDAY\", \"memorial day\", tweet)\n",
    "    tweet = re.sub(r\"MEMORIAL_DAY\", \"memorial day\", tweet)\n",
    "    tweet = re.sub(r\"instaxbooty\", \"instagram booty\", tweet)\n",
    "    tweet = re.sub(r\"Jerusalem_Post\", \"Jerusalem Post\", tweet)\n",
    "    tweet = re.sub(r\"WayneRooney_INA\", \"Wayne Rooney\", tweet)\n",
    "    tweet = re.sub(r\"VirtualReality\", \"Virtual Reality\", tweet)\n",
    "    tweet = re.sub(r\"OculusRift\", \"Oculus Rift\", tweet)\n",
    "    tweet = re.sub(r\"OwenJones84\", \"Owen Jones\", tweet)\n",
    "    tweet = re.sub(r\"jeremycorbyn\", \"Jeremy Corbyn\", tweet)\n",
    "    tweet = re.sub(r\"paulrogers002\", \"Paul Rogers\", tweet)\n",
    "    tweet = re.sub(r\"mortalkombatx\", \"Mortal Kombat X\", tweet)\n",
    "    tweet = re.sub(r\"mortalkombat\", \"Mortal Kombat\", tweet)\n",
    "    tweet = re.sub(r\"FilipeCoelho92\", \"Filipe Coelho\", tweet)\n",
    "    tweet = re.sub(r\"OnlyQuakeNews\", \"Only Quake News\", tweet)\n",
    "    tweet = re.sub(r\"kostumes\", \"costumes\", tweet)\n",
    "    tweet = re.sub(r\"YEEESSSS\", \"yes\", tweet)\n",
    "    tweet = re.sub(r\"ToshikazuKatayama\", \"Toshikazu Katayama\", tweet)\n",
    "    tweet = re.sub(r\"IntlDevelopment\", \"Intl Development\", tweet)\n",
    "    tweet = re.sub(r\"ExtremeWeather\", \"Extreme Weather\", tweet)\n",
    "    tweet = re.sub(r\"WereNotGruberVoters\", \"We are not gruber voters\", tweet)\n",
    "    tweet = re.sub(r\"NewsThousands\", \"News Thousands\", tweet)\n",
    "    tweet = re.sub(r\"EdmundAdamus\", \"Edmund Adamus\", tweet)\n",
    "    tweet = re.sub(r\"EyewitnessWV\", \"Eye witness WV\", tweet)\n",
    "    tweet = re.sub(r\"PhiladelphiaMuseu\", \"Philadelphia Museum\", tweet)\n",
    "    tweet = re.sub(r\"DublinComicCon\", \"Dublin Comic Con\", tweet)\n",
    "    tweet = re.sub(r\"NicholasBrendon\", \"Nicholas Brendon\", tweet)\n",
    "    tweet = re.sub(r\"Alltheway80s\", \"All the way 80s\", tweet)\n",
    "    tweet = re.sub(r\"FromTheField\", \"From the field\", tweet)\n",
    "    tweet = re.sub(r\"NorthIowa\", \"North Iowa\", tweet)\n",
    "    tweet = re.sub(r\"WillowFire\", \"Willow Fire\", tweet)\n",
    "    tweet = re.sub(r\"MadRiverComplex\", \"Mad River Complex\", tweet)\n",
    "    tweet = re.sub(r\"feelingmanly\", \"feeling manly\", tweet)\n",
    "    tweet = re.sub(r\"stillnotoverit\", \"still not over it\", tweet)\n",
    "    tweet = re.sub(r\"FortitudeValley\", \"Fortitude Valley\", tweet)\n",
    "    tweet = re.sub(r\"CoastpowerlineTramTr\", \"Coast powerline\", tweet)\n",
    "    tweet = re.sub(r\"ServicesGold\", \"Services Gold\", tweet)\n",
    "    tweet = re.sub(r\"NewsbrokenEmergency\", \"News broken emergency\", tweet)\n",
    "    tweet = re.sub(r\"Evaucation\", \"evacuation\", tweet)\n",
    "    tweet = re.sub(r\"leaveevacuateexitbe\", \"leave evacuate exit be\", tweet)\n",
    "    tweet = re.sub(r\"P_EOPLE\", \"PEOPLE\", tweet)\n",
    "    tweet = re.sub(r\"Tubestrike\", \"tube strike\", tweet)\n",
    "    tweet = re.sub(r\"CLASS_SICK\", \"CLASS SICK\", tweet)\n",
    "    tweet = re.sub(r\"localplumber\", \"local plumber\", tweet)\n",
    "    tweet = re.sub(r\"awesomejobsiri\", \"awesome job siri\", tweet)\n",
    "    tweet = re.sub(r\"PayForItHow\", \"Pay for it how\", tweet)\n",
    "    tweet = re.sub(r\"ThisIsAfrica\", \"This is Africa\", tweet)\n",
    "    tweet = re.sub(r\"crimeairnetwork\", \"crime air network\", tweet)\n",
    "    tweet = re.sub(r\"KimAcheson\", \"Kim Acheson\", tweet)\n",
    "    tweet = re.sub(r\"cityofcalgary\", \"City of Calgary\", tweet)\n",
    "    tweet = re.sub(r\"prosyndicate\", \"pro syndicate\", tweet)\n",
    "    tweet = re.sub(r\"660NEWS\", \"660 NEWS\", tweet)\n",
    "    tweet = re.sub(r\"BusInsMagazine\", \"Business Insurance Magazine\", tweet)\n",
    "    tweet = re.sub(r\"wfocus\", \"focus\", tweet)\n",
    "    tweet = re.sub(r\"ShastaDam\", \"Shasta Dam\", tweet)\n",
    "    tweet = re.sub(r\"go2MarkFranco\", \"Mark Franco\", tweet)\n",
    "    tweet = re.sub(r\"StephGHinojosa\", \"Steph Hinojosa\", tweet)\n",
    "    tweet = re.sub(r\"Nashgrier\", \"Nash Grier\", tweet)\n",
    "    tweet = re.sub(r\"NashNewVideo\", \"Nash new video\", tweet)\n",
    "    tweet = re.sub(r\"IWouldntGetElectedBecause\", \"I would not get elected because\", tweet)\n",
    "    tweet = re.sub(r\"SHGames\", \"Sledgehammer Games\", tweet)\n",
    "    tweet = re.sub(r\"bedhair\", \"bed hair\", tweet)\n",
    "    tweet = re.sub(r\"JoelHeyman\", \"Joel Heyman\", tweet)\n",
    "    tweet = re.sub(r\"viaYouTube\", \"via YouTube\", tweet)\n",
    "           \n",
    "    # Urls\n",
    "    tweet = re.sub(r\"https?:\\/\\/t.co\\/[A-Za-z0-9]+\", \"\", tweet)\n",
    "        \n",
    "    # Words with punctuations and special characters\n",
    "    punctuations = '@#!?+&*[]-%.:/();$=><|{}^' + \"'`\"\n",
    "    for p in punctuations:\n",
    "        tweet = tweet.replace(p, f' {p} ')\n",
    "        \n",
    "    # ... and ..\n",
    "    tweet = tweet.replace('...', ' ... ')\n",
    "    if '...' not in tweet:\n",
    "        tweet = tweet.replace('..', ' ... ')      \n",
    "        \n",
    "    # Acronyms\n",
    "    tweet = re.sub(r\"MH370\", \"Malaysia Airlines Flight 370\", tweet)\n",
    "    tweet = re.sub(r\"mÌ¼sica\", \"music\", tweet)\n",
    "    tweet = re.sub(r\"okwx\", \"Oklahoma City Weather\", tweet)\n",
    "    tweet = re.sub(r\"arwx\", \"Arkansas Weather\", tweet)    \n",
    "    tweet = re.sub(r\"gawx\", \"Georgia Weather\", tweet)  \n",
    "    tweet = re.sub(r\"scwx\", \"South Carolina Weather\", tweet)  \n",
    "    tweet = re.sub(r\"cawx\", \"California Weather\", tweet)\n",
    "    tweet = re.sub(r\"tnwx\", \"Tennessee Weather\", tweet)\n",
    "    tweet = re.sub(r\"azwx\", \"Arizona Weather\", tweet)  \n",
    "    tweet = re.sub(r\"alwx\", \"Alabama Weather\", tweet)\n",
    "    tweet = re.sub(r\"wordpressdotcom\", \"wordpress\", tweet)    \n",
    "    tweet = re.sub(r\"usNWSgov\", \"United States National Weather Service\", tweet)\n",
    "    tweet = re.sub(r\"Suruc\", \"Sanliurfa\", tweet)   \n",
    "    \n",
    "    # Grouping same words without embeddings\n",
    "    tweet = re.sub(r\"Bestnaijamade\", \"bestnaijamade\", tweet)\n",
    "    tweet = re.sub(r\"SOUDELOR\", \"Soudelor\", tweet)\n",
    "    \n",
    "    return tweet"
   ]
  },
  {
   "cell_type": "markdown",
   "id": "0c0c07cf",
   "metadata": {
    "papermill": {
     "duration": 0.037886,
     "end_time": "2023-05-21T11:48:26.373114",
     "exception": false,
     "start_time": "2023-05-21T11:48:26.335228",
     "status": "completed"
    },
    "tags": []
   },
   "source": []
  },
  {
   "cell_type": "code",
   "execution_count": 34,
   "id": "85802f1c",
   "metadata": {
    "execution": {
     "iopub.execute_input": "2023-05-21T11:48:26.452343Z",
     "iopub.status.busy": "2023-05-21T11:48:26.451366Z",
     "iopub.status.idle": "2023-05-21T11:56:23.501450Z",
     "shell.execute_reply": "2023-05-21T11:56:23.496954Z"
    },
    "papermill": {
     "duration": 477.127609,
     "end_time": "2023-05-21T11:56:23.539989",
     "exception": false,
     "start_time": "2023-05-21T11:48:26.412380",
     "status": "completed"
    },
    "tags": []
   },
   "outputs": [
    {
     "name": "stdout",
     "output_type": "stream",
     "text": [
      "CPU times: user 7min 55s, sys: 210 ms, total: 7min 55s\n",
      "Wall time: 7min 57s\n"
     ]
    }
   ],
   "source": [
    "%%time\n",
    "df_train['text'] = df_train['text'].apply(lambda x: clean(x))\n",
    "df_test['text'] = df_test['text'].apply(lambda x: clean(x))"
   ]
  },
  {
   "cell_type": "code",
   "execution_count": 35,
   "id": "46ca1f5a",
   "metadata": {
    "execution": {
     "iopub.execute_input": "2023-05-21T11:56:23.673034Z",
     "iopub.status.busy": "2023-05-21T11:56:23.672648Z",
     "iopub.status.idle": "2023-05-21T11:56:23.713099Z",
     "shell.execute_reply": "2023-05-21T11:56:23.712150Z"
    },
    "papermill": {
     "duration": 0.081536,
     "end_time": "2023-05-21T11:56:23.715358",
     "exception": false,
     "start_time": "2023-05-21T11:56:23.633822",
     "status": "completed"
    },
    "tags": []
   },
   "outputs": [
    {
     "data": {
      "text/plain": [
       "['hellfire we don\\x89ûªt even want think mention let\\x89ûªs anything leads islam',\n",
       " 'hot  funtenna hijacking computers send data sound waves black hat   prebreak best',\n",
       " 'choking hazard prompts recall of kraft cheese singles ',\n",
       " 'drunk meals  what to cook when youre totally obliterated ',\n",
       " 'star wars power of the jedi collection  battle droid hasbro  full read ebay  ',\n",
       " 'bayelsa poll tension bayelsa patience jonathan plans hijack apc pdp plans former first lady ',\n",
       " 'petition  heartless owner whipped horse collapsed told keep animal act now ',\n",
       " 'i liked youtube video Justin Stuart  gun range mayhem',\n",
       " 'how one careless match start forest fire takes whole box start campfire',\n",
       " 'a look state actions year fergusons upheaval ',\n",
       " 'that horrible sinking feeling you\\x89ûªve home phone realise  whole time',\n",
       " 'the way move like full rainstorm im house cards',\n",
       " 'ignition knock detonation sensorsenso beckarnley   ',\n",
       " 'hot  reddits new content policy goes effect many horrible subreddits banned quarantined  prebreak best',\n",
       " 'hot   specially modified land stadium rescue hostages iran   prebreak best',\n",
       " 'hollywood movie about trapped miners released chile ',\n",
       " 'rt notexplained the known image infamous hijacker db cooper ',\n",
       " 'horrible sinking feeling you\\x89ûªve home phone realise  whole time',\n",
       " 'kosciusko police investigating pedestrian fatality hit train thursday ',\n",
       " 'mmmmmm im burning im burning buildings im building oooooohhhh oooh ooh',\n",
       " 'Texas Windstorm Insurance Association board approves  percent rate hike the texas windstorm insurance association Texas Windstorm Insurance Association board directors v ',\n",
       " 'angry woman openly accuses nema of stealing relief materials meant for idps an angry internally displaced wom ',\n",
       " 'caution breathing may hazardous health',\n",
       " 'i pledge allegiance to the pope and the burning buildings epic city ',\n",
       " 'to fight bioterrorism sir',\n",
       " 'burned  calories  minutes walking  mph brisk pace myfitnesspal',\n",
       " 'fatality ',\n",
       " 'food scare  nestleindia slips loss magginoodle ban unsafe hazardous human consumption',\n",
       " ' new ladies shoulder tote handbag faux leather hobo purse cross body bag womens  ',\n",
       " 'us national park services tonto national forest stop annihilation salt river wild horse  via change',\n",
       " 'wowo  nigerian refugees repatriated cameroon',\n",
       " 'allah describes piling wealth thinking would last forever description people hellfire surah humaza reflect',\n",
       " 'remove  linkury browser hijacker  ',\n",
       " 'black eye  a space battle occurred star  involving  fleets totaling  ships  destroyed',\n",
       " 'in islam saving person equal reward saving humans islam opposite terrorism',\n",
       " 'accionempresa china\\x89ûªs stock market crash summer sparked interest bargain hunt  gerenciatodos ',\n",
       " 'like music video i want real action shit like burning buildings police chases weak ben winston shit',\n",
       " 'pandemonium in aba as woman delivers baby without face photos  ',\n",
       " 'watch sarah palin obliterate planned parenthood for targeting minority women \\x89ûò  ',\n",
       " 'the dress memes have officially exploded on the internet ',\n",
       " 'enugu government demolish illegal structures international conference centre ',\n",
       " 'why deluged low selfimage take quiz  ',\n",
       " 'reddits new content policy goes effect many horrible subreddits banned quarantined  ',\n",
       " 'who bringing tornadoes floods who bringing climate change god america he plaguing her farrakhan quote',\n",
       " 'clearedincident   inner loop exit   md  ave silver spring',\n",
       " 'reddit will now quarantine offensive content ',\n",
       " 'reddit updates content policy promises quarantine \\x89û÷extremely offensive\\x89ûª communities ',\n",
       " 'truthnewsbbccnnislamtruthgodisisterrorismquranlies ',\n",
       " 'earthquake drill ',\n",
       " 'world annihilation vs self transformation  aliens attack exterminate humans ',\n",
       " 'world fedex longer transport bioterror germs wake anthrax lab mishaps  ',\n",
       " 'one direction is pick  fan army directioners  ',\n",
       " 'world war ii book lightning joe an autobiography general j lawton collins  ',\n",
       " 'pbban   armageddon  do not kill  flags only  fast xp reason',\n",
       " 'the prophet peace upon said save hellfire even giving half date charity',\n",
       " 'spot flood combo   curved cree led work light bar  offroad fog lamp  full re\\x89û  ',\n",
       " 'governor weighs parole california school bus hijacker  ',\n",
       " 'hollywood movie about trapped miners released chile the  hollywood movie trapped miners starring ',\n",
       " 'ignition knock detonation sensorsenso standard   ',\n",
       " 'ashes  australia\\x89ûªs collapse trent bridge among worst history england bundled australia   ',\n",
       " '  cindy noonancindynoonanheartbreak baltimore rioting yahistorical undergroundrailraod',\n",
       " 'sassy city girl country hunk stranded smoky mountain snowstorm aoms  I book love book boost',\n",
       " 'deaths  ',\n",
       " 'detonate feat mop apollo brown ',\n",
       " 'here\\x89ûªs media pakistan covered capture terrorist mohammed naved ',\n",
       " 'detonation fashionable mountaineering electronic watch waterresistant couples leisure tab\\x89û  ',\n",
       " '  cree led work light  offroad lamp car truck boat mining  flood beam  full rea\\x89û  ',\n",
       " 'fire hazard associated installation noncompliant external cladding   by ',\n",
       " 'potus strategicpatience strategy genocide refugees idp internally displaced people horror etc ',\n",
       " 'do feel like sinking low selfimage take quiz  ',\n",
       " 'hellfire surrounded desires careful don\\x89ûªt let desires control afterlife',\n",
       " 'fedex longer transport bioterror germs wake anthrax lab mishaps  via usatoday',\n",
       " 'fedex longer transport bioterror germs wake anthrax lab mishaps ',\n",
       " 'he came land engulfed tribal war turned land peace ie madinah prophetmuhammad islam',\n",
       " 'survival kit whistle fire starter wire saw cree torch emergency blanket s knife   full re\\x89û  ',\n",
       " '  chinas stock market crash are there gems in the rubble ']"
      ]
     },
     "execution_count": 35,
     "metadata": {},
     "output_type": "execute_result"
    }
   ],
   "source": [
    "df_mislabeled = df_train.groupby(['text']).nunique().sort_values(by='target', ascending=False)\n",
    "df_mislabeled = df_mislabeled[df_mislabeled['target'] > 1]['target']\n",
    "df_mislabeled.index.tolist()"
   ]
  },
  {
   "cell_type": "code",
   "execution_count": 36,
   "id": "730fd68a",
   "metadata": {
    "execution": {
     "iopub.execute_input": "2023-05-21T11:56:23.795456Z",
     "iopub.status.busy": "2023-05-21T11:56:23.794359Z",
     "iopub.status.idle": "2023-05-21T11:56:23.838457Z",
     "shell.execute_reply": "2023-05-21T11:56:23.837521Z"
    },
    "papermill": {
     "duration": 0.086493,
     "end_time": "2023-05-21T11:56:23.840772",
     "exception": false,
     "start_time": "2023-05-21T11:56:23.754279",
     "status": "completed"
    },
    "tags": []
   },
   "outputs": [],
   "source": [
    "df_train['target_relabeled'] = df_train['target'].copy() \n",
    "\n",
    "df_train.loc[df_train['text'] == 'like for the music video I want some real action shit like burning buildings and police chases not some weak ben winston shit', 'target_relabeled'] = 0\n",
    "df_train.loc[df_train['text'] == 'Hellfire is surrounded by desires so be careful and donÛªt let your desires control you! #Afterlife', 'target_relabeled'] = 0\n",
    "df_train.loc[df_train['text'] == 'To fight bioterrorism sir.', 'target_relabeled'] = 0\n",
    "df_train.loc[df_train['text'] == '.POTUS #StrategicPatience is a strategy for #Genocide; refugees; IDP Internally displaced people; horror; etc. https://t.co/rqWuoy1fm4', 'target_relabeled'] = 1\n",
    "df_train.loc[df_train['text'] == 'CLEARED:incident with injury:I-495  inner loop Exit 31 - MD 97/Georgia Ave Silver Spring', 'target_relabeled'] = 1\n",
    "df_train.loc[df_train['text'] == '#foodscare #offers2go #NestleIndia slips into loss after #Magginoodle #ban unsafe and hazardous for #humanconsumption', 'target_relabeled'] = 0\n",
    "df_train.loc[df_train['text'] == 'In #islam saving a person is equal in reward to saving all humans! Islam is the opposite of terrorism!', 'target_relabeled'] = 0\n",
    "df_train.loc[df_train['text'] == 'Who is bringing the tornadoes and floods. Who is bringing the climate change. God is after America He is plaguing her\\n \\n#FARRAKHAN #QUOTE', 'target_relabeled'] = 1\n",
    "df_train.loc[df_train['text'] == 'RT NotExplained: The only known image of infamous hijacker D.B. Cooper. http://t.co/JlzK2HdeTG', 'target_relabeled'] = 1\n",
    "df_train.loc[df_train['text'] == \"Mmmmmm I'm burning.... I'm burning buildings I'm building.... Oooooohhhh oooh ooh...\", 'target_relabeled'] = 0\n",
    "df_train.loc[df_train['text'] == \"wowo--=== 12000 Nigerian refugees repatriated from Cameroon\", 'target_relabeled'] = 0\n",
    "df_train.loc[df_train['text'] == \"He came to a land which was engulfed in tribal war and turned it into a land of peace i.e. Madinah. #ProphetMuhammad #islam\", 'target_relabeled'] = 0\n",
    "df_train.loc[df_train['text'] == \"Hellfire! We donÛªt even want to think about it or mention it so letÛªs not do anything that leads to it #islam!\", 'target_relabeled'] = 0\n",
    "df_train.loc[df_train['text'] == \"The Prophet (peace be upon him) said 'Save yourself from Hellfire even if it is by giving half a date in charity.'\", 'target_relabeled'] = 0\n",
    "df_train.loc[df_train['text'] == \"Caution: breathing may be hazardous to your health.\", 'target_relabeled'] = 1\n",
    "df_train.loc[df_train['text'] == \"I Pledge Allegiance To The P.O.P.E. And The Burning Buildings of Epic City. ??????\", 'target_relabeled'] = 0\n",
    "df_train.loc[df_train['text'] == \"#Allah describes piling up #wealth thinking it would last #forever as the description of the people of #Hellfire in Surah Humaza. #Reflect\", 'target_relabeled'] = 0\n",
    "df_train.loc[df_train['text'] == \"that horrible sinking feeling when youÛªve been at home on your phone for a while and you realise its been on 3G this whole time\", 'target_relabeled'] = 0"
   ]
  },
  {
   "cell_type": "code",
   "execution_count": 37,
   "id": "3db79269",
   "metadata": {
    "execution": {
     "iopub.execute_input": "2023-05-21T11:56:23.920737Z",
     "iopub.status.busy": "2023-05-21T11:56:23.920391Z",
     "iopub.status.idle": "2023-05-21T11:56:23.927971Z",
     "shell.execute_reply": "2023-05-21T11:56:23.927029Z"
    },
    "papermill": {
     "duration": 0.050586,
     "end_time": "2023-05-21T11:56:23.930279",
     "exception": false,
     "start_time": "2023-05-21T11:56:23.879693",
     "status": "completed"
    },
    "tags": []
   },
   "outputs": [],
   "source": [
    "df_train.drop(columns=['target'], inplace=True)"
   ]
  },
  {
   "cell_type": "code",
   "execution_count": 38,
   "id": "e365699c",
   "metadata": {
    "execution": {
     "iopub.execute_input": "2023-05-21T11:56:24.010817Z",
     "iopub.status.busy": "2023-05-21T11:56:24.009952Z",
     "iopub.status.idle": "2023-05-21T11:56:24.015844Z",
     "shell.execute_reply": "2023-05-21T11:56:24.014852Z"
    },
    "papermill": {
     "duration": 0.047379,
     "end_time": "2023-05-21T11:56:24.017986",
     "exception": false,
     "start_time": "2023-05-21T11:56:23.970607",
     "status": "completed"
    },
    "tags": []
   },
   "outputs": [],
   "source": [
    "df_train.rename(columns={'target_relabeled':'target'}, inplace=True)"
   ]
  },
  {
   "cell_type": "code",
   "execution_count": 39,
   "id": "729e2c08",
   "metadata": {
    "execution": {
     "iopub.execute_input": "2023-05-21T11:56:24.095703Z",
     "iopub.status.busy": "2023-05-21T11:56:24.095377Z",
     "iopub.status.idle": "2023-05-21T11:56:24.100453Z",
     "shell.execute_reply": "2023-05-21T11:56:24.099392Z"
    },
    "papermill": {
     "duration": 0.046831,
     "end_time": "2023-05-21T11:56:24.103150",
     "exception": false,
     "start_time": "2023-05-21T11:56:24.056319",
     "status": "completed"
    },
    "tags": []
   },
   "outputs": [],
   "source": [
    "#import re\n",
    "#import nltk\n",
    "#nltk.download('stopwords')\n",
    "#from nltk.corpus import stopwords\n",
    "#from nltk.stem.porter import PorterStemmer\n",
    "\n",
    "#ps = PorterStemmer()\n",
    "#corpus_train = []\n",
    "#for i in range(0, len(df_train)):\n",
    "#    review = re.sub('[^a-zA-Z]', ' ', df_train['text'][i])\n",
    "#    review = review.lower()\n",
    "#    review = review.split()\n",
    "    \n",
    "#    review = [ps.stem(word) for word in review if not word in stopwords.words('english')]\n",
    "#    review = ' '.join(review)\n",
    "#    corpus_train.append(review)\n",
    "\n",
    "\n",
    "#corpus_test = []\n",
    "#for i in range(0, len(df_test)):\n",
    "#    review = re.sub('[^a-zA-Z]', ' ', df_test['text'][i])\n",
    "#    review = review.lower()\n",
    "#    review = review.split()\n",
    "    \n",
    "#    review = [ps.stem(word) for word in review if not word in stopwords.words('english')]\n",
    "#    review = ' '.join(review)\n",
    "#    corpus_test.append(review)\n"
   ]
  },
  {
   "cell_type": "markdown",
   "id": "d1cc527e",
   "metadata": {
    "papermill": {
     "duration": 0.037808,
     "end_time": "2023-05-21T11:56:24.178776",
     "exception": false,
     "start_time": "2023-05-21T11:56:24.140968",
     "status": "completed"
    },
    "tags": []
   },
   "source": [
    "# COUNT VECTORIZER"
   ]
  },
  {
   "cell_type": "code",
   "execution_count": 40,
   "id": "7a32f57d",
   "metadata": {
    "execution": {
     "iopub.execute_input": "2023-05-21T11:56:24.257907Z",
     "iopub.status.busy": "2023-05-21T11:56:24.256886Z",
     "iopub.status.idle": "2023-05-21T11:56:24.262641Z",
     "shell.execute_reply": "2023-05-21T11:56:24.261759Z"
    },
    "papermill": {
     "duration": 0.047695,
     "end_time": "2023-05-21T11:56:24.264814",
     "exception": false,
     "start_time": "2023-05-21T11:56:24.217119",
     "status": "completed"
    },
    "tags": []
   },
   "outputs": [],
   "source": [
    "# Creating the Bag of Words model\n",
    "#from sklearn.feature_extraction.text import CountVectorizer\n",
    "#cv = CountVectorizer()\n",
    "#X = cv.fit_transform(corpus_train).toarray()"
   ]
  },
  {
   "cell_type": "code",
   "execution_count": 41,
   "id": "9443c5f7",
   "metadata": {
    "execution": {
     "iopub.execute_input": "2023-05-21T11:56:24.342348Z",
     "iopub.status.busy": "2023-05-21T11:56:24.341726Z",
     "iopub.status.idle": "2023-05-21T11:56:24.346426Z",
     "shell.execute_reply": "2023-05-21T11:56:24.345466Z"
    },
    "papermill": {
     "duration": 0.04586,
     "end_time": "2023-05-21T11:56:24.348588",
     "exception": false,
     "start_time": "2023-05-21T11:56:24.302728",
     "status": "completed"
    },
    "tags": []
   },
   "outputs": [],
   "source": [
    "# Training model using Naive bayes classifier\n",
    "\n",
    "#from sklearn.naive_bayes import MultinomialNB\n",
    "#sentiment_detect_model = MultinomialNB().fit(X, df_train['target'])"
   ]
  },
  {
   "cell_type": "code",
   "execution_count": 42,
   "id": "d1faa7c8",
   "metadata": {
    "execution": {
     "iopub.execute_input": "2023-05-21T11:56:24.427286Z",
     "iopub.status.busy": "2023-05-21T11:56:24.426405Z",
     "iopub.status.idle": "2023-05-21T11:56:24.431189Z",
     "shell.execute_reply": "2023-05-21T11:56:24.430331Z"
    },
    "papermill": {
     "duration": 0.046398,
     "end_time": "2023-05-21T11:56:24.433303",
     "exception": false,
     "start_time": "2023-05-21T11:56:24.386905",
     "status": "completed"
    },
    "tags": []
   },
   "outputs": [],
   "source": [
    "#y = cv.transform(corpus_test)"
   ]
  },
  {
   "cell_type": "code",
   "execution_count": 43,
   "id": "fc24e7a5",
   "metadata": {
    "execution": {
     "iopub.execute_input": "2023-05-21T11:56:24.511001Z",
     "iopub.status.busy": "2023-05-21T11:56:24.510665Z",
     "iopub.status.idle": "2023-05-21T11:56:24.514832Z",
     "shell.execute_reply": "2023-05-21T11:56:24.513855Z"
    },
    "papermill": {
     "duration": 0.045416,
     "end_time": "2023-05-21T11:56:24.516907",
     "exception": false,
     "start_time": "2023-05-21T11:56:24.471491",
     "status": "completed"
    },
    "tags": []
   },
   "outputs": [],
   "source": [
    "#y_pred = sentiment_detect_model.predict(y)"
   ]
  },
  {
   "cell_type": "code",
   "execution_count": 44,
   "id": "fd6eea1e",
   "metadata": {
    "execution": {
     "iopub.execute_input": "2023-05-21T11:56:24.596116Z",
     "iopub.status.busy": "2023-05-21T11:56:24.595175Z",
     "iopub.status.idle": "2023-05-21T11:56:24.599801Z",
     "shell.execute_reply": "2023-05-21T11:56:24.598930Z"
    },
    "papermill": {
     "duration": 0.046609,
     "end_time": "2023-05-21T11:56:24.601774",
     "exception": false,
     "start_time": "2023-05-21T11:56:24.555165",
     "status": "completed"
    },
    "tags": []
   },
   "outputs": [],
   "source": [
    "#y_pred"
   ]
  },
  {
   "cell_type": "code",
   "execution_count": 45,
   "id": "5e71f86d",
   "metadata": {
    "execution": {
     "iopub.execute_input": "2023-05-21T11:56:24.680376Z",
     "iopub.status.busy": "2023-05-21T11:56:24.679396Z",
     "iopub.status.idle": "2023-05-21T11:56:24.684289Z",
     "shell.execute_reply": "2023-05-21T11:56:24.683430Z"
    },
    "papermill": {
     "duration": 0.04646,
     "end_time": "2023-05-21T11:56:24.686430",
     "exception": false,
     "start_time": "2023-05-21T11:56:24.639970",
     "status": "completed"
    },
    "tags": []
   },
   "outputs": [],
   "source": [
    "#df_extract = pd.DataFrame()\n",
    "#df_extract['id'] = df_test['id']\n",
    "#df_extract['target'] = y_pred\n",
    "#df_extract.to_csv('submission.csv',index=False)"
   ]
  },
  {
   "cell_type": "markdown",
   "id": "c09e8358",
   "metadata": {
    "papermill": {
     "duration": 0.03814,
     "end_time": "2023-05-21T11:56:24.763494",
     "exception": false,
     "start_time": "2023-05-21T11:56:24.725354",
     "status": "completed"
    },
    "tags": []
   },
   "source": [
    "Received a score of 0.77934 after submitting this output.\n",
    "\n",
    "Update - I performed all the data cleaning steps (removing URLs, punctuations, etc.) and then re-ran this same model. This time I received a score of 0.79098. We can clearly see the improvement in our model after cleaning the dataset with the same model for Count Vectorizer.\n",
    "\n",
    "No let's try with TF-IDF now and see if we can improve our score."
   ]
  },
  {
   "cell_type": "markdown",
   "id": "8bfb0dde",
   "metadata": {
    "papermill": {
     "duration": 0.037761,
     "end_time": "2023-05-21T11:56:24.839940",
     "exception": false,
     "start_time": "2023-05-21T11:56:24.802179",
     "status": "completed"
    },
    "tags": []
   },
   "source": [
    "# TF-IDF"
   ]
  },
  {
   "cell_type": "code",
   "execution_count": 46,
   "id": "a824d237",
   "metadata": {
    "execution": {
     "iopub.execute_input": "2023-05-21T11:56:24.918217Z",
     "iopub.status.busy": "2023-05-21T11:56:24.917844Z",
     "iopub.status.idle": "2023-05-21T11:56:24.922371Z",
     "shell.execute_reply": "2023-05-21T11:56:24.921333Z"
    },
    "papermill": {
     "duration": 0.046798,
     "end_time": "2023-05-21T11:56:24.924901",
     "exception": false,
     "start_time": "2023-05-21T11:56:24.878103",
     "status": "completed"
    },
    "tags": []
   },
   "outputs": [],
   "source": [
    "#from sklearn.feature_extraction.text import TfidfVectorizer\n",
    "#tfidfv = TfidfVectorizer()\n",
    "#tfidf_fit = tfidfv.fit_transform(corpus_train).toarray()"
   ]
  },
  {
   "cell_type": "code",
   "execution_count": 47,
   "id": "1fb012f5",
   "metadata": {
    "execution": {
     "iopub.execute_input": "2023-05-21T11:56:25.003528Z",
     "iopub.status.busy": "2023-05-21T11:56:25.002532Z",
     "iopub.status.idle": "2023-05-21T11:56:25.007315Z",
     "shell.execute_reply": "2023-05-21T11:56:25.006434Z"
    },
    "papermill": {
     "duration": 0.046338,
     "end_time": "2023-05-21T11:56:25.009451",
     "exception": false,
     "start_time": "2023-05-21T11:56:24.963113",
     "status": "completed"
    },
    "tags": []
   },
   "outputs": [],
   "source": [
    "# Training model using Naive bayes classifier\n",
    "\n",
    "#from sklearn.naive_bayes import MultinomialNB\n",
    "#sentiment_detect_model_tfidf = MultinomialNB().fit(tfidf_fit, df_train['target'])"
   ]
  },
  {
   "cell_type": "code",
   "execution_count": 48,
   "id": "5c90f30d",
   "metadata": {
    "execution": {
     "iopub.execute_input": "2023-05-21T11:56:25.087193Z",
     "iopub.status.busy": "2023-05-21T11:56:25.086293Z",
     "iopub.status.idle": "2023-05-21T11:56:25.091065Z",
     "shell.execute_reply": "2023-05-21T11:56:25.090189Z"
    },
    "papermill": {
     "duration": 0.045737,
     "end_time": "2023-05-21T11:56:25.093183",
     "exception": false,
     "start_time": "2023-05-21T11:56:25.047446",
     "status": "completed"
    },
    "tags": []
   },
   "outputs": [],
   "source": [
    "#y = tfidfv.transform(corpus_test)"
   ]
  },
  {
   "cell_type": "code",
   "execution_count": 49,
   "id": "24b6d2cd",
   "metadata": {
    "execution": {
     "iopub.execute_input": "2023-05-21T11:56:25.171660Z",
     "iopub.status.busy": "2023-05-21T11:56:25.171039Z",
     "iopub.status.idle": "2023-05-21T11:56:25.175680Z",
     "shell.execute_reply": "2023-05-21T11:56:25.174601Z"
    },
    "papermill": {
     "duration": 0.046309,
     "end_time": "2023-05-21T11:56:25.177898",
     "exception": false,
     "start_time": "2023-05-21T11:56:25.131589",
     "status": "completed"
    },
    "tags": []
   },
   "outputs": [],
   "source": [
    "#y_pred_tfidf = sentiment_detect_model_tfidf.predict(y)"
   ]
  },
  {
   "cell_type": "code",
   "execution_count": 50,
   "id": "9fe3d0f7",
   "metadata": {
    "execution": {
     "iopub.execute_input": "2023-05-21T11:56:25.255960Z",
     "iopub.status.busy": "2023-05-21T11:56:25.255604Z",
     "iopub.status.idle": "2023-05-21T11:56:25.259824Z",
     "shell.execute_reply": "2023-05-21T11:56:25.258853Z"
    },
    "papermill": {
     "duration": 0.045649,
     "end_time": "2023-05-21T11:56:25.261906",
     "exception": false,
     "start_time": "2023-05-21T11:56:25.216257",
     "status": "completed"
    },
    "tags": []
   },
   "outputs": [],
   "source": [
    "#y_pred_tfidf"
   ]
  },
  {
   "cell_type": "code",
   "execution_count": 51,
   "id": "5e0e2340",
   "metadata": {
    "execution": {
     "iopub.execute_input": "2023-05-21T11:56:25.340216Z",
     "iopub.status.busy": "2023-05-21T11:56:25.339600Z",
     "iopub.status.idle": "2023-05-21T11:56:25.344344Z",
     "shell.execute_reply": "2023-05-21T11:56:25.343481Z"
    },
    "papermill": {
     "duration": 0.04649,
     "end_time": "2023-05-21T11:56:25.346837",
     "exception": false,
     "start_time": "2023-05-21T11:56:25.300347",
     "status": "completed"
    },
    "tags": []
   },
   "outputs": [],
   "source": [
    "#df_extract = pd.DataFrame()\n",
    "#df_extract['id'] = df_test['id']\n",
    "#df_extract['target'] = y_pred_tfidf\n",
    "#df_extract.to_csv('submission.csv',index=False)"
   ]
  },
  {
   "cell_type": "markdown",
   "id": "20586860",
   "metadata": {
    "papermill": {
     "duration": 0.039963,
     "end_time": "2023-05-21T11:56:25.424708",
     "exception": false,
     "start_time": "2023-05-21T11:56:25.384745",
     "status": "completed"
    },
    "tags": []
   },
   "source": [
    "Received a score of 0.78853 with this model.\n",
    "\n",
    "Update - I performed all the data cleaning steps (removing URLs, punctuations, etc.) and then re-ran this same model. This time I received a score of 0.7965. We can clearly see the improvement in our model after cleaning the dataset with the same model for TF-IDF Vectorizer."
   ]
  },
  {
   "cell_type": "markdown",
   "id": "07a7312a",
   "metadata": {
    "papermill": {
     "duration": 0.037511,
     "end_time": "2023-05-21T11:56:25.500681",
     "exception": false,
     "start_time": "2023-05-21T11:56:25.463170",
     "status": "completed"
    },
    "tags": []
   },
   "source": [
    "# TF-IDF WITH N-GRAM"
   ]
  },
  {
   "cell_type": "code",
   "execution_count": 52,
   "id": "2a3e0a6a",
   "metadata": {
    "execution": {
     "iopub.execute_input": "2023-05-21T11:56:25.578251Z",
     "iopub.status.busy": "2023-05-21T11:56:25.577896Z",
     "iopub.status.idle": "2023-05-21T11:56:25.582189Z",
     "shell.execute_reply": "2023-05-21T11:56:25.581238Z"
    },
    "papermill": {
     "duration": 0.045689,
     "end_time": "2023-05-21T11:56:25.584435",
     "exception": false,
     "start_time": "2023-05-21T11:56:25.538746",
     "status": "completed"
    },
    "tags": []
   },
   "outputs": [],
   "source": [
    "#from sklearn.feature_extraction.text import TfidfVectorizer\n",
    "#tfidfv = TfidfVectorizer(ngram_range=(1,3))\n",
    "#tfidf_fit_n = tfidfv.fit_transform(corpus_train).toarray()"
   ]
  },
  {
   "cell_type": "code",
   "execution_count": 53,
   "id": "a015b9fb",
   "metadata": {
    "execution": {
     "iopub.execute_input": "2023-05-21T11:56:25.662090Z",
     "iopub.status.busy": "2023-05-21T11:56:25.661766Z",
     "iopub.status.idle": "2023-05-21T11:56:25.665957Z",
     "shell.execute_reply": "2023-05-21T11:56:25.665041Z"
    },
    "papermill": {
     "duration": 0.045521,
     "end_time": "2023-05-21T11:56:25.668086",
     "exception": false,
     "start_time": "2023-05-21T11:56:25.622565",
     "status": "completed"
    },
    "tags": []
   },
   "outputs": [],
   "source": [
    "#tfidf_fit_n"
   ]
  },
  {
   "cell_type": "code",
   "execution_count": 54,
   "id": "9fed0dea",
   "metadata": {
    "execution": {
     "iopub.execute_input": "2023-05-21T11:56:25.746713Z",
     "iopub.status.busy": "2023-05-21T11:56:25.745743Z",
     "iopub.status.idle": "2023-05-21T11:56:25.750459Z",
     "shell.execute_reply": "2023-05-21T11:56:25.749584Z"
    },
    "papermill": {
     "duration": 0.046536,
     "end_time": "2023-05-21T11:56:25.752523",
     "exception": false,
     "start_time": "2023-05-21T11:56:25.705987",
     "status": "completed"
    },
    "tags": []
   },
   "outputs": [],
   "source": [
    "# Training model using Naive bayes classifier\n",
    "\n",
    "#from sklearn.naive_bayes import MultinomialNB\n",
    "#sentiment_detect_model_tfidf_n = MultinomialNB().fit(tfidf_fit_n, df_train['target'])"
   ]
  },
  {
   "cell_type": "code",
   "execution_count": 55,
   "id": "a429f5ce",
   "metadata": {
    "execution": {
     "iopub.execute_input": "2023-05-21T11:56:25.831980Z",
     "iopub.status.busy": "2023-05-21T11:56:25.831657Z",
     "iopub.status.idle": "2023-05-21T11:56:25.835838Z",
     "shell.execute_reply": "2023-05-21T11:56:25.834849Z"
    },
    "papermill": {
     "duration": 0.046326,
     "end_time": "2023-05-21T11:56:25.838093",
     "exception": false,
     "start_time": "2023-05-21T11:56:25.791767",
     "status": "completed"
    },
    "tags": []
   },
   "outputs": [],
   "source": [
    "#y = tfidfv.transform(corpus_test)"
   ]
  },
  {
   "cell_type": "code",
   "execution_count": 56,
   "id": "cd141166",
   "metadata": {
    "execution": {
     "iopub.execute_input": "2023-05-21T11:56:25.917096Z",
     "iopub.status.busy": "2023-05-21T11:56:25.916227Z",
     "iopub.status.idle": "2023-05-21T11:56:25.921052Z",
     "shell.execute_reply": "2023-05-21T11:56:25.920180Z"
    },
    "papermill": {
     "duration": 0.04615,
     "end_time": "2023-05-21T11:56:25.923067",
     "exception": false,
     "start_time": "2023-05-21T11:56:25.876917",
     "status": "completed"
    },
    "tags": []
   },
   "outputs": [],
   "source": [
    "#y_pred_tfidf_n = sentiment_detect_model_tfidf_n.predict(y)"
   ]
  },
  {
   "cell_type": "code",
   "execution_count": 57,
   "id": "62370d19",
   "metadata": {
    "execution": {
     "iopub.execute_input": "2023-05-21T11:56:26.001706Z",
     "iopub.status.busy": "2023-05-21T11:56:26.000669Z",
     "iopub.status.idle": "2023-05-21T11:56:26.005358Z",
     "shell.execute_reply": "2023-05-21T11:56:26.004442Z"
    },
    "papermill": {
     "duration": 0.045971,
     "end_time": "2023-05-21T11:56:26.007496",
     "exception": false,
     "start_time": "2023-05-21T11:56:25.961525",
     "status": "completed"
    },
    "tags": []
   },
   "outputs": [],
   "source": [
    "#y_pred_tfidf_n"
   ]
  },
  {
   "cell_type": "code",
   "execution_count": 58,
   "id": "396116b5",
   "metadata": {
    "execution": {
     "iopub.execute_input": "2023-05-21T11:56:26.086898Z",
     "iopub.status.busy": "2023-05-21T11:56:26.086058Z",
     "iopub.status.idle": "2023-05-21T11:56:26.090650Z",
     "shell.execute_reply": "2023-05-21T11:56:26.089762Z"
    },
    "papermill": {
     "duration": 0.045748,
     "end_time": "2023-05-21T11:56:26.092657",
     "exception": false,
     "start_time": "2023-05-21T11:56:26.046909",
     "status": "completed"
    },
    "tags": []
   },
   "outputs": [],
   "source": [
    "#df_extract = pd.DataFrame()\n",
    "#df_extract['id'] = df_test['id']\n",
    "#df_extract['target'] = y_pred_tfidf_n\n",
    "#df_extract.to_csv('./submission.csv',index=False)"
   ]
  },
  {
   "cell_type": "markdown",
   "id": "4e6a4d53",
   "metadata": {
    "papermill": {
     "duration": 0.037519,
     "end_time": "2023-05-21T11:56:26.168535",
     "exception": false,
     "start_time": "2023-05-21T11:56:26.131016",
     "status": "completed"
    },
    "tags": []
   },
   "source": [
    "Received a score of 0.79987 with this model.\n",
    "\n",
    "Update - I performed all the data cleaning steps (removing URLs, punctuations, etc.) and then re-ran this same model. This time I received a score of 0.8014. We can clearly see the improvement in our model after cleaning the dataset with the same model for N-GRAM TF-IDF Vectorizer.\n",
    "\n",
    "Update 2 - After performing some more cleaning steps, the score increased to 0.80386."
   ]
  },
  {
   "cell_type": "markdown",
   "id": "fb48b292",
   "metadata": {
    "papermill": {
     "duration": 0.037948,
     "end_time": "2023-05-21T11:56:26.244475",
     "exception": false,
     "start_time": "2023-05-21T11:56:26.206527",
     "status": "completed"
    },
    "tags": []
   },
   "source": [
    "# WORD EMBEDDINGS USING TOKENIZATION"
   ]
  },
  {
   "cell_type": "code",
   "execution_count": 59,
   "id": "9483f688",
   "metadata": {
    "execution": {
     "iopub.execute_input": "2023-05-21T11:56:26.322541Z",
     "iopub.status.busy": "2023-05-21T11:56:26.322169Z",
     "iopub.status.idle": "2023-05-21T11:56:26.327226Z",
     "shell.execute_reply": "2023-05-21T11:56:26.326259Z"
    },
    "papermill": {
     "duration": 0.047054,
     "end_time": "2023-05-21T11:56:26.329418",
     "exception": false,
     "start_time": "2023-05-21T11:56:26.282364",
     "status": "completed"
    },
    "tags": []
   },
   "outputs": [],
   "source": [
    "#tokenizer = Tokenizer(oov_token = \"<OOV>\", num_words = 500)\n",
    "#tokenizer.fit_on_texts(corpus_train)\n",
    "#word_index = tokenizer.word_index\n",
    "#sequences = tokenizer.texts_to_sequences(corpus_train)\n",
    "\n",
    "# print(word_index) Returns a dictionary with each word as a 'KEY' and a number for\n",
    "# that corresponding word as a 'VALUE'.\n",
    "\n",
    "# print(sequences) This returns the same value that we created using \n",
    "# tokenizer.fit_on_texts, not as a dictionary, but as a vector with \n",
    "# corresponding number assigned to that word. So we can basically create a word\n",
    "# embedding for a corpus of texts, obtain a dictionary, and then re-use it to\n",
    "# convert other words into sequences of vectors."
   ]
  },
  {
   "cell_type": "code",
   "execution_count": 60,
   "id": "745c5412",
   "metadata": {
    "execution": {
     "iopub.execute_input": "2023-05-21T11:56:26.412602Z",
     "iopub.status.busy": "2023-05-21T11:56:26.412191Z",
     "iopub.status.idle": "2023-05-21T11:56:26.417012Z",
     "shell.execute_reply": "2023-05-21T11:56:26.415990Z"
    },
    "papermill": {
     "duration": 0.052153,
     "end_time": "2023-05-21T11:56:26.419887",
     "exception": false,
     "start_time": "2023-05-21T11:56:26.367734",
     "status": "completed"
    },
    "tags": []
   },
   "outputs": [],
   "source": [
    "#vocab = len(word_index)\n",
    "#print(vocab)"
   ]
  },
  {
   "cell_type": "code",
   "execution_count": 61,
   "id": "131d2308",
   "metadata": {
    "execution": {
     "iopub.execute_input": "2023-05-21T11:56:26.554056Z",
     "iopub.status.busy": "2023-05-21T11:56:26.553477Z",
     "iopub.status.idle": "2023-05-21T11:56:26.558362Z",
     "shell.execute_reply": "2023-05-21T11:56:26.557474Z"
    },
    "papermill": {
     "duration": 0.076726,
     "end_time": "2023-05-21T11:56:26.563250",
     "exception": false,
     "start_time": "2023-05-21T11:56:26.486524",
     "status": "completed"
    },
    "tags": []
   },
   "outputs": [],
   "source": [
    "#max_len = max([len(i) for i in sequences])\n",
    "#print(max_len)"
   ]
  },
  {
   "cell_type": "code",
   "execution_count": 62,
   "id": "23f461a2",
   "metadata": {
    "execution": {
     "iopub.execute_input": "2023-05-21T11:56:26.655814Z",
     "iopub.status.busy": "2023-05-21T11:56:26.655422Z",
     "iopub.status.idle": "2023-05-21T11:56:26.659934Z",
     "shell.execute_reply": "2023-05-21T11:56:26.658940Z"
    },
    "papermill": {
     "duration": 0.047241,
     "end_time": "2023-05-21T11:56:26.662117",
     "exception": false,
     "start_time": "2023-05-21T11:56:26.614876",
     "status": "completed"
    },
    "tags": []
   },
   "outputs": [],
   "source": [
    "#padded = pad_sequences(sequences, maxlen = max_len) # Helps us to pad our vectors to same length."
   ]
  },
  {
   "cell_type": "code",
   "execution_count": 63,
   "id": "faef205c",
   "metadata": {
    "execution": {
     "iopub.execute_input": "2023-05-21T11:56:26.740129Z",
     "iopub.status.busy": "2023-05-21T11:56:26.739782Z",
     "iopub.status.idle": "2023-05-21T11:56:26.744092Z",
     "shell.execute_reply": "2023-05-21T11:56:26.743130Z"
    },
    "papermill": {
     "duration": 0.04571,
     "end_time": "2023-05-21T11:56:26.746270",
     "exception": false,
     "start_time": "2023-05-21T11:56:26.700560",
     "status": "completed"
    },
    "tags": []
   },
   "outputs": [],
   "source": [
    "# Our padded word vectors have a maximum length of 23, that means there are not more\n",
    "# than 23 words in a sentence. Also, we have a total of 7613 sentences.\n",
    "#padded.shape"
   ]
  },
  {
   "cell_type": "code",
   "execution_count": 64,
   "id": "801943ee",
   "metadata": {
    "execution": {
     "iopub.execute_input": "2023-05-21T11:56:26.824868Z",
     "iopub.status.busy": "2023-05-21T11:56:26.823989Z",
     "iopub.status.idle": "2023-05-21T11:56:26.828868Z",
     "shell.execute_reply": "2023-05-21T11:56:26.827755Z"
    },
    "papermill": {
     "duration": 0.04615,
     "end_time": "2023-05-21T11:56:26.831051",
     "exception": false,
     "start_time": "2023-05-21T11:56:26.784901",
     "status": "completed"
    },
    "tags": []
   },
   "outputs": [],
   "source": [
    "#import tensorflow as tf\n",
    "#print(tf.__version__)"
   ]
  },
  {
   "cell_type": "code",
   "execution_count": 65,
   "id": "2a5bf57c",
   "metadata": {
    "execution": {
     "iopub.execute_input": "2023-05-21T11:56:26.910481Z",
     "iopub.status.busy": "2023-05-21T11:56:26.909903Z",
     "iopub.status.idle": "2023-05-21T11:56:26.914252Z",
     "shell.execute_reply": "2023-05-21T11:56:26.913302Z"
    },
    "papermill": {
     "duration": 0.045868,
     "end_time": "2023-05-21T11:56:26.916511",
     "exception": false,
     "start_time": "2023-05-21T11:56:26.870643",
     "status": "completed"
    },
    "tags": []
   },
   "outputs": [],
   "source": [
    "#model = Sequential([\n",
    "#    tf.keras.layers.Embedding(vocab, 100 , input_length = 17), \n",
    "\n",
    "    # input_dim(Size of the vocabulary) = vocab\n",
    "    # output_dim(Dimension of the Dense Embeddings) = 100    \n",
    "    \n",
    "#    tf.keras.layers.LSTM(128, activation='relu'),\n",
    "#    tf.keras.layers.Dense(1, activation='sigmoid')\n",
    "#])\n",
    "\n",
    "#model.compile(loss='binary_crossentropy', optimizer='adam', metrics=['accuracy'])\n",
    "#model.summary()"
   ]
  },
  {
   "cell_type": "code",
   "execution_count": 66,
   "id": "16edf7ae",
   "metadata": {
    "execution": {
     "iopub.execute_input": "2023-05-21T11:56:26.994783Z",
     "iopub.status.busy": "2023-05-21T11:56:26.994470Z",
     "iopub.status.idle": "2023-05-21T11:56:26.998591Z",
     "shell.execute_reply": "2023-05-21T11:56:26.997689Z"
    },
    "papermill": {
     "duration": 0.045407,
     "end_time": "2023-05-21T11:56:27.000734",
     "exception": false,
     "start_time": "2023-05-21T11:56:26.955327",
     "status": "completed"
    },
    "tags": []
   },
   "outputs": [],
   "source": [
    "#num_epochs = 40\n",
    "#model.fit(padded, df_train['target'].values,\n",
    " #        epochs = num_epochs)"
   ]
  },
  {
   "cell_type": "code",
   "execution_count": 67,
   "id": "e1fed693",
   "metadata": {
    "execution": {
     "iopub.execute_input": "2023-05-21T11:56:27.081823Z",
     "iopub.status.busy": "2023-05-21T11:56:27.080068Z",
     "iopub.status.idle": "2023-05-21T11:56:27.085053Z",
     "shell.execute_reply": "2023-05-21T11:56:27.084150Z"
    },
    "papermill": {
     "duration": 0.047659,
     "end_time": "2023-05-21T11:56:27.087585",
     "exception": false,
     "start_time": "2023-05-21T11:56:27.039926",
     "status": "completed"
    },
    "tags": []
   },
   "outputs": [],
   "source": [
    "#sequences_test = tokenizer.texts_to_sequences(corpus_test)\n",
    "#padded_test = pad_sequences(sequences_test, maxlen = max_len)"
   ]
  },
  {
   "cell_type": "code",
   "execution_count": 68,
   "id": "349971d1",
   "metadata": {
    "execution": {
     "iopub.execute_input": "2023-05-21T11:56:27.167501Z",
     "iopub.status.busy": "2023-05-21T11:56:27.167200Z",
     "iopub.status.idle": "2023-05-21T11:56:27.171446Z",
     "shell.execute_reply": "2023-05-21T11:56:27.170434Z"
    },
    "papermill": {
     "duration": 0.046259,
     "end_time": "2023-05-21T11:56:27.173651",
     "exception": false,
     "start_time": "2023-05-21T11:56:27.127392",
     "status": "completed"
    },
    "tags": []
   },
   "outputs": [],
   "source": [
    "#pred = model.predict(padded_test).round(0)"
   ]
  },
  {
   "cell_type": "code",
   "execution_count": 69,
   "id": "b8e71554",
   "metadata": {
    "execution": {
     "iopub.execute_input": "2023-05-21T11:56:27.251087Z",
     "iopub.status.busy": "2023-05-21T11:56:27.250781Z",
     "iopub.status.idle": "2023-05-21T11:56:27.254950Z",
     "shell.execute_reply": "2023-05-21T11:56:27.254032Z"
    },
    "papermill": {
     "duration": 0.045569,
     "end_time": "2023-05-21T11:56:27.257272",
     "exception": false,
     "start_time": "2023-05-21T11:56:27.211703",
     "status": "completed"
    },
    "tags": []
   },
   "outputs": [],
   "source": [
    "#pred"
   ]
  },
  {
   "cell_type": "code",
   "execution_count": 70,
   "id": "9f7b7f6f",
   "metadata": {
    "execution": {
     "iopub.execute_input": "2023-05-21T11:56:27.335634Z",
     "iopub.status.busy": "2023-05-21T11:56:27.335315Z",
     "iopub.status.idle": "2023-05-21T11:56:27.339835Z",
     "shell.execute_reply": "2023-05-21T11:56:27.338848Z"
    },
    "papermill": {
     "duration": 0.046256,
     "end_time": "2023-05-21T11:56:27.342066",
     "exception": false,
     "start_time": "2023-05-21T11:56:27.295810",
     "status": "completed"
    },
    "tags": []
   },
   "outputs": [],
   "source": [
    "#df_extract = pd.DataFrame()\n",
    "#df_extract['id'] = df_test['id']\n",
    "#df_extract['target'] = pred\n",
    "#df_extract['target'] = df_extract['target'].astype(int)\n",
    "#df_extract.to_csv('submission.csv',index=False)"
   ]
  },
  {
   "cell_type": "markdown",
   "id": "992edc68",
   "metadata": {
    "papermill": {
     "duration": 0.039138,
     "end_time": "2023-05-21T11:56:27.420491",
     "exception": false,
     "start_time": "2023-05-21T11:56:27.381353",
     "status": "completed"
    },
    "tags": []
   },
   "source": [
    "After running and submitting the output file, I received a score of 0.74226. This is lower as compared to the score we obtained using the N-Gram TF-IDF, which is our highest score till now."
   ]
  },
  {
   "cell_type": "markdown",
   "id": "d03b8aad",
   "metadata": {
    "papermill": {
     "duration": 0.038822,
     "end_time": "2023-05-21T11:56:27.497597",
     "exception": false,
     "start_time": "2023-05-21T11:56:27.458775",
     "status": "completed"
    },
    "tags": []
   },
   "source": [
    "# GlOVE"
   ]
  },
  {
   "cell_type": "code",
   "execution_count": 71,
   "id": "156d3556",
   "metadata": {
    "execution": {
     "iopub.execute_input": "2023-05-21T11:56:27.576367Z",
     "iopub.status.busy": "2023-05-21T11:56:27.575736Z",
     "iopub.status.idle": "2023-05-21T11:56:27.580932Z",
     "shell.execute_reply": "2023-05-21T11:56:27.579976Z"
    },
    "papermill": {
     "duration": 0.048297,
     "end_time": "2023-05-21T11:56:27.584128",
     "exception": false,
     "start_time": "2023-05-21T11:56:27.535831",
     "status": "completed"
    },
    "tags": []
   },
   "outputs": [],
   "source": [
    "#import re\n",
    "#import nltk\n",
    "#nltk.download('stopwords')\n",
    "#from nltk.corpus import stopwords\n",
    "#from nltk.stem.porter import PorterStemmer\n",
    "\n",
    "#ps = PorterStemmer()\n",
    "#corpus_train = []\n",
    "#for i in range(0, len(df_train)):\n",
    "#    review = re.sub('[^a-zA-Z]', ' ', df_train['text'][i])\n",
    "#    review = review.lower()\n",
    "#    review = review.split()\n",
    "    \n",
    "#    review = [word for word in review if word not in stopwords.words('english')]\n",
    "#    review = ' '.join(review)\n",
    "#    corpus_train.append(review)  \n",
    "\n",
    "#corpus_test = []\n",
    "#for i in range(0, len(df_test)):\n",
    "#    review = re.sub('[^a-zA-Z]', ' ', df_test['text'][i])\n",
    "#    review = review.lower()\n",
    "#    review = review.split()\n",
    "    \n",
    " #   review = [word for word in review if word not in stopwords.words('english')]\n",
    " #   review = ' '.join(review)\n",
    " #   corpus_test.append(review)  "
   ]
  },
  {
   "cell_type": "markdown",
   "id": "d6c6ea04",
   "metadata": {
    "papermill": {
     "duration": 0.038,
     "end_time": "2023-05-21T11:56:27.664093",
     "exception": false,
     "start_time": "2023-05-21T11:56:27.626093",
     "status": "completed"
    },
    "tags": []
   },
   "source": [
    "We have pre-processed our dataset like we did before just with a slight difference. This time we are not going to apply Stemming as the words are changed and the Glove word embeddings might not be able to pick-up some meaningful words."
   ]
  },
  {
   "cell_type": "code",
   "execution_count": 72,
   "id": "ad0d3470",
   "metadata": {
    "execution": {
     "iopub.execute_input": "2023-05-21T11:56:27.742733Z",
     "iopub.status.busy": "2023-05-21T11:56:27.742384Z",
     "iopub.status.idle": "2023-05-21T11:56:27.746606Z",
     "shell.execute_reply": "2023-05-21T11:56:27.745642Z"
    },
    "papermill": {
     "duration": 0.045581,
     "end_time": "2023-05-21T11:56:27.748828",
     "exception": false,
     "start_time": "2023-05-21T11:56:27.703247",
     "status": "completed"
    },
    "tags": []
   },
   "outputs": [],
   "source": [
    "#tokenizer = Tokenizer(oov_token = \"<OOV>\", num_words = 500)\n",
    "#tokenizer.fit_on_texts(corpus_train)\n",
    "#word_index = tokenizer.word_index\n",
    "\n",
    "#sequences = tokenizer.texts_to_sequences(corpus_train)"
   ]
  },
  {
   "cell_type": "code",
   "execution_count": 73,
   "id": "fb17fe3b",
   "metadata": {
    "execution": {
     "iopub.execute_input": "2023-05-21T11:56:27.828322Z",
     "iopub.status.busy": "2023-05-21T11:56:27.827439Z",
     "iopub.status.idle": "2023-05-21T11:56:27.832234Z",
     "shell.execute_reply": "2023-05-21T11:56:27.831366Z"
    },
    "papermill": {
     "duration": 0.046636,
     "end_time": "2023-05-21T11:56:27.834224",
     "exception": false,
     "start_time": "2023-05-21T11:56:27.787588",
     "status": "completed"
    },
    "tags": []
   },
   "outputs": [],
   "source": [
    "#voc = word_index.keys()"
   ]
  },
  {
   "cell_type": "code",
   "execution_count": 74,
   "id": "52738490",
   "metadata": {
    "execution": {
     "iopub.execute_input": "2023-05-21T11:56:27.912837Z",
     "iopub.status.busy": "2023-05-21T11:56:27.911992Z",
     "iopub.status.idle": "2023-05-21T11:56:27.916725Z",
     "shell.execute_reply": "2023-05-21T11:56:27.915830Z"
    },
    "papermill": {
     "duration": 0.046381,
     "end_time": "2023-05-21T11:56:27.918844",
     "exception": false,
     "start_time": "2023-05-21T11:56:27.872463",
     "status": "completed"
    },
    "tags": []
   },
   "outputs": [],
   "source": [
    "#vocab = len(word_index)+2\n",
    "#max_len = max([len(i) for i in sequences])\n",
    "#print(vocab)"
   ]
  },
  {
   "cell_type": "code",
   "execution_count": 75,
   "id": "3d2b68a5",
   "metadata": {
    "execution": {
     "iopub.execute_input": "2023-05-21T11:56:27.997930Z",
     "iopub.status.busy": "2023-05-21T11:56:27.997106Z",
     "iopub.status.idle": "2023-05-21T11:56:28.001693Z",
     "shell.execute_reply": "2023-05-21T11:56:28.000826Z"
    },
    "papermill": {
     "duration": 0.045824,
     "end_time": "2023-05-21T11:56:28.003902",
     "exception": false,
     "start_time": "2023-05-21T11:56:27.958078",
     "status": "completed"
    },
    "tags": []
   },
   "outputs": [],
   "source": [
    "#padded = pad_sequences(sequences, maxlen = max_len)"
   ]
  },
  {
   "cell_type": "code",
   "execution_count": 76,
   "id": "67e43516",
   "metadata": {
    "execution": {
     "iopub.execute_input": "2023-05-21T11:56:28.083226Z",
     "iopub.status.busy": "2023-05-21T11:56:28.082616Z",
     "iopub.status.idle": "2023-05-21T11:56:28.087189Z",
     "shell.execute_reply": "2023-05-21T11:56:28.086306Z"
    },
    "papermill": {
     "duration": 0.046274,
     "end_time": "2023-05-21T11:56:28.089502",
     "exception": false,
     "start_time": "2023-05-21T11:56:28.043228",
     "status": "completed"
    },
    "tags": []
   },
   "outputs": [],
   "source": [
    "#sequences_test = tokenizer.texts_to_sequences(corpus_test)\n",
    "#padded_test = pad_sequences(sequences_test, maxlen = max_len)"
   ]
  },
  {
   "cell_type": "markdown",
   "id": "b06fbbcb",
   "metadata": {
    "papermill": {
     "duration": 0.038314,
     "end_time": "2023-05-21T11:56:28.165781",
     "exception": false,
     "start_time": "2023-05-21T11:56:28.127467",
     "status": "completed"
    },
    "tags": []
   },
   "source": [
    "https://keras.io/examples/nlp/pretrained_word_embeddings/"
   ]
  },
  {
   "cell_type": "code",
   "execution_count": 77,
   "id": "aae91dbb",
   "metadata": {
    "execution": {
     "iopub.execute_input": "2023-05-21T11:56:28.243807Z",
     "iopub.status.busy": "2023-05-21T11:56:28.242867Z",
     "iopub.status.idle": "2023-05-21T11:56:28.247709Z",
     "shell.execute_reply": "2023-05-21T11:56:28.246694Z"
    },
    "papermill": {
     "duration": 0.046508,
     "end_time": "2023-05-21T11:56:28.249873",
     "exception": false,
     "start_time": "2023-05-21T11:56:28.203365",
     "status": "completed"
    },
    "tags": []
   },
   "outputs": [],
   "source": [
    "#path_to_glove_file = \"../input/GloveWordEmbeddings/glove.42B.300d.txt\"\n",
    "\n",
    "#embeddings_index = {}\n",
    "#with open(path_to_glove_file) as f:\n",
    "#    for line in f:\n",
    "#        word, coefs = line.split(maxsplit=1)\n",
    "#        coefs = np.fromstring(coefs, \"f\", sep=\" \")\n",
    "#        embeddings_index[word] = coefs\n",
    "\n",
    "#print(\"Found %s word vectors.\" % len(embeddings_index))"
   ]
  },
  {
   "cell_type": "markdown",
   "id": "f02dee37",
   "metadata": {
    "papermill": {
     "duration": 0.03763,
     "end_time": "2023-05-21T11:56:28.325575",
     "exception": false,
     "start_time": "2023-05-21T11:56:28.287945",
     "status": "completed"
    },
    "tags": []
   },
   "source": [
    "Now, let's prepare a corresponding embedding matrix that we can use in a Keras Embedding layer. It's a simple NumPy matrix where entry at index i is the pre-trained vector for the word of index i in our vectorizer's vocabulary."
   ]
  },
  {
   "cell_type": "code",
   "execution_count": 78,
   "id": "d39c44c0",
   "metadata": {
    "execution": {
     "iopub.execute_input": "2023-05-21T11:56:28.403474Z",
     "iopub.status.busy": "2023-05-21T11:56:28.402792Z",
     "iopub.status.idle": "2023-05-21T11:56:28.407545Z",
     "shell.execute_reply": "2023-05-21T11:56:28.406604Z"
    },
    "papermill": {
     "duration": 0.045919,
     "end_time": "2023-05-21T11:56:28.409885",
     "exception": false,
     "start_time": "2023-05-21T11:56:28.363966",
     "status": "completed"
    },
    "tags": []
   },
   "outputs": [],
   "source": [
    "#num_tokens = len(voc) + 2\n",
    "#embedding_dim = 300\n",
    "#hits = 0\n",
    "#misses = 0\n",
    "\n",
    "# Prepare embedding matrix\n",
    "#embedding_matrix = np.zeros((num_tokens, embedding_dim))\n",
    "#for word, i in word_index.items():\n",
    "#    embedding_vector = embeddings_index.get(word)\n",
    "#    if embedding_vector is not None:\n",
    "        # Words not found in embedding index will be all-zeros.\n",
    "        # This includes the representation for \"padding\" and \"OOV\"\n",
    "#        embedding_matrix[i] = embedding_vector\n",
    "#        hits += 1\n",
    "#    else:\n",
    "#        misses += 1\n",
    "#print(\"Converted %d words (%d misses)\" % (hits, misses))"
   ]
  },
  {
   "cell_type": "code",
   "execution_count": 79,
   "id": "68fc814c",
   "metadata": {
    "execution": {
     "iopub.execute_input": "2023-05-21T11:56:28.489028Z",
     "iopub.status.busy": "2023-05-21T11:56:28.488701Z",
     "iopub.status.idle": "2023-05-21T11:56:28.493024Z",
     "shell.execute_reply": "2023-05-21T11:56:28.492033Z"
    },
    "papermill": {
     "duration": 0.046859,
     "end_time": "2023-05-21T11:56:28.495463",
     "exception": false,
     "start_time": "2023-05-21T11:56:28.448604",
     "status": "completed"
    },
    "tags": []
   },
   "outputs": [],
   "source": [
    "#embedding_matrix.shape"
   ]
  },
  {
   "cell_type": "code",
   "execution_count": 80,
   "id": "108817d8",
   "metadata": {
    "execution": {
     "iopub.execute_input": "2023-05-21T11:56:28.576962Z",
     "iopub.status.busy": "2023-05-21T11:56:28.576017Z",
     "iopub.status.idle": "2023-05-21T11:56:28.582367Z",
     "shell.execute_reply": "2023-05-21T11:56:28.581302Z"
    },
    "papermill": {
     "duration": 0.049737,
     "end_time": "2023-05-21T11:56:28.584614",
     "exception": false,
     "start_time": "2023-05-21T11:56:28.534877",
     "status": "completed"
    },
    "tags": []
   },
   "outputs": [],
   "source": [
    "#model = Sequential([\n",
    "#   tf.keras.layers.Embedding(vocab, 300 , \n",
    "#       embeddings_initializer = tf.keras.initializers.Constant(embedding_matrix),\n",
    "#       input_length = 17, trainable = False),\n",
    "\n",
    "    # input_dim(Size of the vocabulary) = vocab\n",
    "    # output_dim(Dimension of the Dense Embeddings) = 100    \n",
    "    \n",
    "#    tf.keras.layers.LSTM(128, activation='relu'),\n",
    "#    tf.keras.layers.Dense(1, activation='sigmoid')\n",
    "#])\n",
    "\n",
    "#model.compile(loss='binary_crossentropy', optimizer='adam', metrics=['accuracy'])\n",
    "#model.summary()"
   ]
  },
  {
   "cell_type": "markdown",
   "id": "a623aa75",
   "metadata": {
    "papermill": {
     "duration": 0.037684,
     "end_time": "2023-05-21T11:56:28.667986",
     "exception": false,
     "start_time": "2023-05-21T11:56:28.630302",
     "status": "completed"
    },
    "tags": []
   },
   "source": [
    "Model - 1) Above we have created a model withan embedding layer which is initialized using the pre-trained Glove embeddings, followed by a LSTM layer and a Dense layer."
   ]
  },
  {
   "cell_type": "code",
   "execution_count": 81,
   "id": "c229d351",
   "metadata": {
    "execution": {
     "iopub.execute_input": "2023-05-21T11:56:28.746242Z",
     "iopub.status.busy": "2023-05-21T11:56:28.745235Z",
     "iopub.status.idle": "2023-05-21T11:56:28.750627Z",
     "shell.execute_reply": "2023-05-21T11:56:28.749708Z"
    },
    "papermill": {
     "duration": 0.046629,
     "end_time": "2023-05-21T11:56:28.752923",
     "exception": false,
     "start_time": "2023-05-21T11:56:28.706294",
     "status": "completed"
    },
    "tags": []
   },
   "outputs": [],
   "source": [
    "#model = Sequential([\n",
    "#   tf.keras.layers.Embedding(vocab, 300, \n",
    "#       embeddings_initializer = tf.keras.initializers.Constant(embedding_matrix),\n",
    "#       input_length = 17, trainable = False), \n",
    "\n",
    "    # input_dim(Size of the vocabulary) = vocab\n",
    "    # output_dim(Dimension of the Dense Embeddings) = 100    \n",
    "    \n",
    "#    tf.keras.layers.Bidirectional(LSTM(128, return_sequences=True)),\n",
    "#    tf.keras.layers.Bidirectional(LSTM(128)),\n",
    "#    tf.keras.layers.BatchNormalization(),\n",
    "#    tf.keras.layers.Dropout(0.2),\n",
    "#    tf.keras.layers.Dense(1, activation='sigmoid')\n",
    "#])\n",
    "\n",
    "#model.compile(loss='binary_crossentropy', optimizer='adam', metrics=['accuracy'])\n",
    "#model.summary()"
   ]
  },
  {
   "cell_type": "markdown",
   "id": "d09fb639",
   "metadata": {
    "papermill": {
     "duration": 0.03818,
     "end_time": "2023-05-21T11:56:28.829542",
     "exception": false,
     "start_time": "2023-05-21T11:56:28.791362",
     "status": "completed"
    },
    "tags": []
   },
   "source": [
    "Model - 2) Here we have defined another model. This also starts with an embedding layer, followed by 2 BRNN layers, and BatchNorm layer, Dropout layer and a Dense layer at the end to get the final output."
   ]
  },
  {
   "cell_type": "code",
   "execution_count": 82,
   "id": "928d44bd",
   "metadata": {
    "execution": {
     "iopub.execute_input": "2023-05-21T11:56:28.907972Z",
     "iopub.status.busy": "2023-05-21T11:56:28.906952Z",
     "iopub.status.idle": "2023-05-21T11:56:28.913111Z",
     "shell.execute_reply": "2023-05-21T11:56:28.912016Z"
    },
    "papermill": {
     "duration": 0.047934,
     "end_time": "2023-05-21T11:56:28.915396",
     "exception": false,
     "start_time": "2023-05-21T11:56:28.867462",
     "status": "completed"
    },
    "tags": []
   },
   "outputs": [],
   "source": [
    "#def glove_lstm():\n",
    "#    model = Sequential()\n",
    "    \n",
    "#    model.add(Embedding(\n",
    "#        input_dim=embedding_matrix.shape[0], \n",
    "#        output_dim=embedding_matrix.shape[1], \n",
    "#        weights = [embedding_matrix], \n",
    "#        input_length=17\n",
    "#    ))\n",
    "    \n",
    " #   model.add(tf.keras.layers.Bidirectional(LSTM(\n",
    " #       128, \n",
    " #       return_sequences = True, \n",
    " #       recurrent_dropout=0.2\n",
    " #   )))\n",
    "    \n",
    " #   model.add(tf.keras.layers.GlobalMaxPool1D())\n",
    " #   model.add(tf.keras.layers.BatchNormalization())\n",
    " #   model.add(tf.keras.layers.Dropout(0.5))\n",
    " #   model.add(tf.keras.layers.Dense(128, activation = \"relu\"))\n",
    " #   model.add(tf.keras.layers.Dropout(0.5))\n",
    " #   model.add(Dense(128, activation = \"relu\"))\n",
    " #   model.add(tf.keras.layers.Dropout(0.5))\n",
    " #   model.add(tf.keras.layers.Dense(1, activation = 'sigmoid'))\n",
    " #   model.compile(optimizer='rmsprop', loss='binary_crossentropy', metrics=['accuracy'])\n",
    "    \n",
    " #   return model\n",
    "\n",
    "#model = glove_lstm()\n",
    "#model.summary()"
   ]
  },
  {
   "cell_type": "code",
   "execution_count": 83,
   "id": "2420314d",
   "metadata": {
    "execution": {
     "iopub.execute_input": "2023-05-21T11:56:28.995420Z",
     "iopub.status.busy": "2023-05-21T11:56:28.995089Z",
     "iopub.status.idle": "2023-05-21T11:56:28.999555Z",
     "shell.execute_reply": "2023-05-21T11:56:28.998565Z"
    },
    "papermill": {
     "duration": 0.046175,
     "end_time": "2023-05-21T11:56:29.001757",
     "exception": false,
     "start_time": "2023-05-21T11:56:28.955582",
     "status": "completed"
    },
    "tags": []
   },
   "outputs": [],
   "source": [
    "#num_epochs = 40\n",
    "#model.fit(padded, df_train['target'].values,\n",
    "#         epochs = num_epochs)"
   ]
  },
  {
   "cell_type": "markdown",
   "id": "e5742df7",
   "metadata": {
    "papermill": {
     "duration": 0.03815,
     "end_time": "2023-05-21T11:56:29.078058",
     "exception": false,
     "start_time": "2023-05-21T11:56:29.039908",
     "status": "completed"
    },
    "tags": []
   },
   "source": [
    "Model - 3) I'm tired with all the typing, but above is the 3rd model defined."
   ]
  },
  {
   "cell_type": "code",
   "execution_count": 84,
   "id": "ecd5c007",
   "metadata": {
    "execution": {
     "iopub.execute_input": "2023-05-21T11:56:29.155644Z",
     "iopub.status.busy": "2023-05-21T11:56:29.154529Z",
     "iopub.status.idle": "2023-05-21T11:56:29.159465Z",
     "shell.execute_reply": "2023-05-21T11:56:29.158588Z"
    },
    "papermill": {
     "duration": 0.045869,
     "end_time": "2023-05-21T11:56:29.161549",
     "exception": false,
     "start_time": "2023-05-21T11:56:29.115680",
     "status": "completed"
    },
    "tags": []
   },
   "outputs": [],
   "source": [
    "#pred = model.predict(padded_test).round(0)"
   ]
  },
  {
   "cell_type": "code",
   "execution_count": 85,
   "id": "7ffe1bc6",
   "metadata": {
    "execution": {
     "iopub.execute_input": "2023-05-21T11:56:29.238716Z",
     "iopub.status.busy": "2023-05-21T11:56:29.237913Z",
     "iopub.status.idle": "2023-05-21T11:56:29.242437Z",
     "shell.execute_reply": "2023-05-21T11:56:29.241564Z"
    },
    "papermill": {
     "duration": 0.045367,
     "end_time": "2023-05-21T11:56:29.244507",
     "exception": false,
     "start_time": "2023-05-21T11:56:29.199140",
     "status": "completed"
    },
    "tags": []
   },
   "outputs": [],
   "source": [
    "#pred"
   ]
  },
  {
   "cell_type": "code",
   "execution_count": 86,
   "id": "caa17f88",
   "metadata": {
    "execution": {
     "iopub.execute_input": "2023-05-21T11:56:29.321482Z",
     "iopub.status.busy": "2023-05-21T11:56:29.321178Z",
     "iopub.status.idle": "2023-05-21T11:56:29.325101Z",
     "shell.execute_reply": "2023-05-21T11:56:29.324166Z"
    },
    "papermill": {
     "duration": 0.044944,
     "end_time": "2023-05-21T11:56:29.327204",
     "exception": false,
     "start_time": "2023-05-21T11:56:29.282260",
     "status": "completed"
    },
    "tags": []
   },
   "outputs": [],
   "source": [
    "#df_extract = pd.DataFrame()\n",
    "#df_extract['id'] = df_test['id']\n",
    "#df_extract['target'] = pred\n",
    "#df_extract['target'] = df_extract['target'].astype(int)\n",
    "#df_extract.to_csv('./submission.csv',index=False)"
   ]
  },
  {
   "cell_type": "markdown",
   "id": "0a585413",
   "metadata": {
    "papermill": {
     "duration": 0.045841,
     "end_time": "2023-05-21T11:56:29.412053",
     "exception": false,
     "start_time": "2023-05-21T11:56:29.366212",
     "status": "completed"
    },
    "tags": []
   },
   "source": [
    "On creating a new model with Glove word embeddings trained on 840B, 300D data, I got a score of 0.75237.\n",
    "Update: After performing a little more pre-processing, the scored improved to 76.585."
   ]
  },
  {
   "cell_type": "markdown",
   "id": "bd9b5a71",
   "metadata": {
    "papermill": {
     "duration": 0.037794,
     "end_time": "2023-05-21T11:56:29.488227",
     "exception": false,
     "start_time": "2023-05-21T11:56:29.450433",
     "status": "completed"
    },
    "tags": []
   },
   "source": [
    "https://towardsdatascience.com/fine-tuning-bert-for-text-classification-54e7df642894"
   ]
  },
  {
   "cell_type": "markdown",
   "id": "ba3501d9",
   "metadata": {
    "papermill": {
     "duration": 0.037673,
     "end_time": "2023-05-21T11:56:29.564219",
     "exception": false,
     "start_time": "2023-05-21T11:56:29.526546",
     "status": "completed"
    },
    "tags": []
   },
   "source": [
    "# NEW BERT MODEL"
   ]
  },
  {
   "cell_type": "code",
   "execution_count": 87,
   "id": "46808956",
   "metadata": {
    "execution": {
     "iopub.execute_input": "2023-05-21T11:56:29.641643Z",
     "iopub.status.busy": "2023-05-21T11:56:29.641262Z",
     "iopub.status.idle": "2023-05-21T11:56:44.004554Z",
     "shell.execute_reply": "2023-05-21T11:56:44.003306Z"
    },
    "papermill": {
     "duration": 14.405248,
     "end_time": "2023-05-21T11:56:44.007377",
     "exception": false,
     "start_time": "2023-05-21T11:56:29.602129",
     "status": "completed"
    },
    "tags": []
   },
   "outputs": [
    {
     "name": "stdout",
     "output_type": "stream",
     "text": [
      "Collecting GPUtil\r\n",
      "  Downloading GPUtil-1.4.0.tar.gz (5.5 kB)\r\n",
      "  Preparing metadata (setup.py) ... \u001b[?25l-\b \bdone\r\n",
      "\u001b[?25hBuilding wheels for collected packages: GPUtil\r\n",
      "  Building wheel for GPUtil (setup.py) ... \u001b[?25l-\b \b\\\b \bdone\r\n",
      "\u001b[?25h  Created wheel for GPUtil: filename=GPUtil-1.4.0-py3-none-any.whl size=7411 sha256=c228f4731aa924719806f3dc27851b528e9062539951bc803dbdf263891a5b4d\r\n",
      "  Stored in directory: /root/.cache/pip/wheels/6e/f8/83/534c52482d6da64622ddbf72cd93c35d2ef2881b78fd08ff0c\r\n",
      "Successfully built GPUtil\r\n",
      "Installing collected packages: GPUtil\r\n",
      "Successfully installed GPUtil-1.4.0\r\n",
      "\u001b[33mWARNING: Running pip as the 'root' user can result in broken permissions and conflicting behaviour with the system package manager. It is recommended to use a virtual environment instead: https://pip.pypa.io/warnings/venv\u001b[0m\u001b[33m\r\n",
      "\u001b[0m"
     ]
    }
   ],
   "source": [
    "!pip install GPUtil"
   ]
  },
  {
   "cell_type": "code",
   "execution_count": 88,
   "id": "52786650",
   "metadata": {
    "execution": {
     "iopub.execute_input": "2023-05-21T11:56:44.087772Z",
     "iopub.status.busy": "2023-05-21T11:56:44.087383Z",
     "iopub.status.idle": "2023-05-21T11:56:45.115526Z",
     "shell.execute_reply": "2023-05-21T11:56:45.114328Z"
    },
    "papermill": {
     "duration": 1.071715,
     "end_time": "2023-05-21T11:56:45.118727",
     "exception": false,
     "start_time": "2023-05-21T11:56:44.047012",
     "status": "completed"
    },
    "tags": []
   },
   "outputs": [],
   "source": [
    "from torch import nn\n",
    "from transformers import AdamW, BertConfig, BertModel, BertTokenizer\n",
    "from torch.utils.data import DataLoader, RandomSampler, SequentialSampler, TensorDataset, random_split\n",
    "from transformers import get_linear_schedule_with_warmup\n",
    "from sklearn.metrics import f1_score, accuracy_score"
   ]
  },
  {
   "cell_type": "code",
   "execution_count": 89,
   "id": "332bc8a1",
   "metadata": {
    "execution": {
     "iopub.execute_input": "2023-05-21T11:56:45.200165Z",
     "iopub.status.busy": "2023-05-21T11:56:45.199107Z",
     "iopub.status.idle": "2023-05-21T11:56:45.744005Z",
     "shell.execute_reply": "2023-05-21T11:56:45.743012Z"
    },
    "papermill": {
     "duration": 0.587901,
     "end_time": "2023-05-21T11:56:45.746646",
     "exception": false,
     "start_time": "2023-05-21T11:56:45.158745",
     "status": "completed"
    },
    "tags": []
   },
   "outputs": [],
   "source": [
    "from GPUtil import showUtilization as gpu_usage\n",
    "from numba import cuda\n",
    "\n",
    "def free_gpu_cache():\n",
    "    print(\"Initial GPU Usage\")\n",
    "    gpu_usage()                             \n",
    "\n",
    "    torch.cuda.empty_cache()\n",
    "\n",
    "    cuda.select_device(0)\n",
    "    cuda.close()\n",
    "    cuda.select_device(0)\n",
    "\n",
    "    for obj in gc.get_objects():\n",
    "        if torch.is_tensor(obj):\n",
    "            del obj\n",
    "    gc.collect()\n",
    "    \n",
    "    print(\"GPU Usage after emptying the cache\")\n",
    "    gpu_usage()"
   ]
  },
  {
   "cell_type": "code",
   "execution_count": 90,
   "id": "df7518e4",
   "metadata": {
    "execution": {
     "iopub.execute_input": "2023-05-21T11:56:45.827263Z",
     "iopub.status.busy": "2023-05-21T11:56:45.826145Z",
     "iopub.status.idle": "2023-05-21T11:56:45.832756Z",
     "shell.execute_reply": "2023-05-21T11:56:45.831765Z"
    },
    "papermill": {
     "duration": 0.049383,
     "end_time": "2023-05-21T11:56:45.835069",
     "exception": false,
     "start_time": "2023-05-21T11:56:45.785686",
     "status": "completed"
    },
    "tags": []
   },
   "outputs": [],
   "source": [
    "from torch import nn\n",
    "from transformers import AdamW, BertConfig, BertModel, BertTokenizer\n",
    "from torch.utils.data import DataLoader, RandomSampler, SequentialSampler, TensorDataset, random_split\n",
    "from transformers import get_linear_schedule_with_warmup\n",
    "from sklearn.metrics import f1_score, accuracy_score"
   ]
  },
  {
   "cell_type": "code",
   "execution_count": 91,
   "id": "731e77bd",
   "metadata": {
    "execution": {
     "iopub.execute_input": "2023-05-21T11:56:45.914300Z",
     "iopub.status.busy": "2023-05-21T11:56:45.913336Z",
     "iopub.status.idle": "2023-05-21T11:56:45.977915Z",
     "shell.execute_reply": "2023-05-21T11:56:45.976933Z"
    },
    "papermill": {
     "duration": 0.106067,
     "end_time": "2023-05-21T11:56:45.979939",
     "exception": false,
     "start_time": "2023-05-21T11:56:45.873872",
     "status": "completed"
    },
    "tags": []
   },
   "outputs": [
    {
     "data": {
      "text/plain": [
       "device(type='cuda')"
      ]
     },
     "execution_count": 91,
     "metadata": {},
     "output_type": "execute_result"
    }
   ],
   "source": [
    "# select device\n",
    "if torch.cuda.is_available():        \n",
    "    device = torch.device(\"cuda\")\n",
    "else:\n",
    "    device = torch.device(\"cpu\")\n",
    "\n",
    "device"
   ]
  },
  {
   "cell_type": "code",
   "execution_count": 92,
   "id": "992c2872",
   "metadata": {
    "execution": {
     "iopub.execute_input": "2023-05-21T11:56:46.060091Z",
     "iopub.status.busy": "2023-05-21T11:56:46.059045Z",
     "iopub.status.idle": "2023-05-21T11:56:46.065323Z",
     "shell.execute_reply": "2023-05-21T11:56:46.064399Z"
    },
    "papermill": {
     "duration": 0.048446,
     "end_time": "2023-05-21T11:56:46.067473",
     "exception": false,
     "start_time": "2023-05-21T11:56:46.019027",
     "status": "completed"
    },
    "tags": []
   },
   "outputs": [],
   "source": [
    "X_train = df_train[\"text\"].values\n",
    "y_train = df_train[\"target\"].values"
   ]
  },
  {
   "cell_type": "code",
   "execution_count": 93,
   "id": "ce26287d",
   "metadata": {
    "execution": {
     "iopub.execute_input": "2023-05-21T11:56:46.146152Z",
     "iopub.status.busy": "2023-05-21T11:56:46.145828Z",
     "iopub.status.idle": "2023-05-21T11:56:52.542876Z",
     "shell.execute_reply": "2023-05-21T11:56:52.541836Z"
    },
    "papermill": {
     "duration": 6.439291,
     "end_time": "2023-05-21T11:56:52.545475",
     "exception": false,
     "start_time": "2023-05-21T11:56:46.106184",
     "status": "completed"
    },
    "tags": []
   },
   "outputs": [
    {
     "data": {
      "application/vnd.jupyter.widget-view+json": {
       "model_id": "d4db9885bd3649f592b6bf2ce1fbccf3",
       "version_major": 2,
       "version_minor": 0
      },
      "text/plain": [
       "Downloading:   0%|          | 0.00/226k [00:00<?, ?B/s]"
      ]
     },
     "metadata": {},
     "output_type": "display_data"
    },
    {
     "data": {
      "application/vnd.jupyter.widget-view+json": {
       "model_id": "3a8d741febb24e409e834fae0e7cab4e",
       "version_major": 2,
       "version_minor": 0
      },
      "text/plain": [
       "Downloading:   0%|          | 0.00/28.0 [00:00<?, ?B/s]"
      ]
     },
     "metadata": {},
     "output_type": "display_data"
    },
    {
     "data": {
      "application/vnd.jupyter.widget-view+json": {
       "model_id": "3cfa42e28c2b4811a22049eb7e75e31e",
       "version_major": 2,
       "version_minor": 0
      },
      "text/plain": [
       "Downloading:   0%|          | 0.00/570 [00:00<?, ?B/s]"
      ]
     },
     "metadata": {},
     "output_type": "display_data"
    }
   ],
   "source": [
    "tokenizer = BertTokenizer.from_pretrained('bert-base-uncased', do_lower_case=True)\n",
    "\n",
    "lens = []\n",
    "\n",
    "for text in X_train:\n",
    "    encoded_dict = tokenizer.encode_plus(text, add_special_tokens=True, return_tensors='pt')\n",
    "    lens.append(encoded_dict['input_ids'].size()[1])"
   ]
  },
  {
   "cell_type": "code",
   "execution_count": 94,
   "id": "f675e70a",
   "metadata": {
    "execution": {
     "iopub.execute_input": "2023-05-21T11:56:52.628768Z",
     "iopub.status.busy": "2023-05-21T11:56:52.627740Z",
     "iopub.status.idle": "2023-05-21T11:56:57.873469Z",
     "shell.execute_reply": "2023-05-21T11:56:57.872361Z"
    },
    "papermill": {
     "duration": 5.290575,
     "end_time": "2023-05-21T11:56:57.876470",
     "exception": false,
     "start_time": "2023-05-21T11:56:52.585895",
     "status": "completed"
    },
    "tags": []
   },
   "outputs": [],
   "source": [
    "sequence_length = 58\n",
    "# X_train_tokens[i] := sequence of sequence_length many tokens that represent text_{i}\n",
    "X_train_tokens = []\n",
    "\n",
    "for text in X_train:\n",
    "    encoded_dict = tokenizer.encode_plus(text,\n",
    "                                         add_special_tokens=True, # special tokens for BERT\n",
    "                                         max_length=sequence_length,\n",
    "                                         padding=\"max_length\",\n",
    "                                         return_tensors='pt', # pytorch tensor format\n",
    "                                         truncation=True)\n",
    "    X_train_tokens.append(encoded_dict['input_ids'])"
   ]
  },
  {
   "cell_type": "code",
   "execution_count": 95,
   "id": "80f70aec",
   "metadata": {
    "execution": {
     "iopub.execute_input": "2023-05-21T11:56:58.007936Z",
     "iopub.status.busy": "2023-05-21T11:56:58.006865Z",
     "iopub.status.idle": "2023-05-21T11:56:58.026642Z",
     "shell.execute_reply": "2023-05-21T11:56:58.025615Z"
    },
    "papermill": {
     "duration": 0.065649,
     "end_time": "2023-05-21T11:56:58.029023",
     "exception": false,
     "start_time": "2023-05-21T11:56:57.963374",
     "status": "completed"
    },
    "tags": []
   },
   "outputs": [],
   "source": [
    "# pytorch expects tensors\n",
    "X_train_tokens = torch.cat(X_train_tokens, dim=0) # concat into one tensor\n",
    "\n",
    "y_train = torch.tensor(y_train)"
   ]
  },
  {
   "cell_type": "code",
   "execution_count": 96,
   "id": "fcf894b3",
   "metadata": {
    "execution": {
     "iopub.execute_input": "2023-05-21T11:56:58.111274Z",
     "iopub.status.busy": "2023-05-21T11:56:58.110339Z",
     "iopub.status.idle": "2023-05-21T11:56:58.118042Z",
     "shell.execute_reply": "2023-05-21T11:56:58.116996Z"
    },
    "papermill": {
     "duration": 0.050923,
     "end_time": "2023-05-21T11:56:58.120275",
     "exception": false,
     "start_time": "2023-05-21T11:56:58.069352",
     "status": "completed"
    },
    "tags": []
   },
   "outputs": [
    {
     "name": "stdout",
     "output_type": "stream",
     "text": [
      "Original:\n",
      " rockyfire update  california hwy  closed directions due lake county fire  cafire wildfires\n",
      "Tokenization:\n",
      " tensor([  101,  6857, 10273, 10651,  2662,  1044, 18418,  2701,  7826,  2349,\n",
      "         2697,  2221,  2543, 24689,  7442,  3748, 26332,   102,     0,     0,\n",
      "            0,     0,     0,     0,     0,     0,     0,     0,     0,     0,\n",
      "            0,     0,     0,     0,     0,     0,     0,     0,     0,     0,\n",
      "            0,     0,     0,     0,     0,     0,     0,     0,     0,     0,\n",
      "            0,     0,     0,     0,     0,     0,     0,     0])\n"
     ]
    }
   ],
   "source": [
    "# tokenization of the first observation in the training set\n",
    "# zero-padding is added\n",
    "print('Original:\\n', X_train[5])\n",
    "print('Tokenization:\\n', X_train_tokens[5])"
   ]
  },
  {
   "cell_type": "code",
   "execution_count": 97,
   "id": "a13e461b",
   "metadata": {
    "execution": {
     "iopub.execute_input": "2023-05-21T11:56:58.201612Z",
     "iopub.status.busy": "2023-05-21T11:56:58.200629Z",
     "iopub.status.idle": "2023-05-21T11:56:58.208965Z",
     "shell.execute_reply": "2023-05-21T11:56:58.208046Z"
    },
    "papermill": {
     "duration": 0.051309,
     "end_time": "2023-05-21T11:56:58.211155",
     "exception": false,
     "start_time": "2023-05-21T11:56:58.159846",
     "status": "completed"
    },
    "tags": []
   },
   "outputs": [],
   "source": [
    "batch_size = 32\n",
    "\n",
    "# split into training and validation data\n",
    "dataset = TensorDataset(X_train_tokens, y_train.float())\n",
    "\n",
    "train_size = int(0.80 * len(dataset))\n",
    "val_size = len(dataset) - train_size\n",
    "\n",
    "train_set, val_set = random_split(dataset, [train_size, val_size])\n",
    "\n",
    "\n",
    "train_dataloader = DataLoader(train_set, \n",
    "                              sampler=RandomSampler(train_set), \n",
    "                              batch_size=batch_size)\n",
    "\n",
    "validation_dataloader = DataLoader(val_set, \n",
    "                                   sampler=RandomSampler(val_set), \n",
    "                                   batch_size=batch_size)"
   ]
  },
  {
   "cell_type": "code",
   "execution_count": 98,
   "id": "46b7a64b",
   "metadata": {
    "execution": {
     "iopub.execute_input": "2023-05-21T11:56:58.292574Z",
     "iopub.status.busy": "2023-05-21T11:56:58.292210Z",
     "iopub.status.idle": "2023-05-21T11:56:58.304896Z",
     "shell.execute_reply": "2023-05-21T11:56:58.303440Z"
    },
    "papermill": {
     "duration": 0.056374,
     "end_time": "2023-05-21T11:56:58.307043",
     "exception": false,
     "start_time": "2023-05-21T11:56:58.250669",
     "status": "completed"
    },
    "tags": []
   },
   "outputs": [
    {
     "name": "stdout",
     "output_type": "stream",
     "text": [
      "what is drawn from our dataloader?  <class 'list'>\n",
      "\n",
      "first entry:  torch.Size([32, 58]) <class 'torch.Tensor'> torch.int64\n",
      "\n",
      "second entry:  torch.Size([32]) <class 'torch.Tensor'> torch.float32\n"
     ]
    }
   ],
   "source": [
    "for batch in train_dataloader:\n",
    "    print(\"what is drawn from our dataloader? \", type(batch))\n",
    "    \n",
    "    print(\"\\nfirst entry: \", batch[0].size(), type(batch[0]), batch[0].dtype)\n",
    "    print(\"\\nsecond entry: \", batch[1].size(), type(batch[1]), batch[1].dtype)\n",
    "    \n",
    "    break"
   ]
  },
  {
   "cell_type": "code",
   "execution_count": 99,
   "id": "f24ff687",
   "metadata": {
    "execution": {
     "iopub.execute_input": "2023-05-21T11:56:58.388471Z",
     "iopub.status.busy": "2023-05-21T11:56:58.387514Z",
     "iopub.status.idle": "2023-05-21T11:57:17.709827Z",
     "shell.execute_reply": "2023-05-21T11:57:17.707506Z"
    },
    "papermill": {
     "duration": 19.36522,
     "end_time": "2023-05-21T11:57:17.712202",
     "exception": false,
     "start_time": "2023-05-21T11:56:58.346982",
     "status": "completed"
    },
    "tags": []
   },
   "outputs": [
    {
     "data": {
      "application/vnd.jupyter.widget-view+json": {
       "model_id": "570aabfbd2c048dd9ac4ece93e5fa3f8",
       "version_major": 2,
       "version_minor": 0
      },
      "text/plain": [
       "Downloading:   0%|          | 0.00/420M [00:00<?, ?B/s]"
      ]
     },
     "metadata": {},
     "output_type": "display_data"
    },
    {
     "name": "stderr",
     "output_type": "stream",
     "text": [
      "Some weights of the model checkpoint at bert-base-uncased were not used when initializing BertModel: ['cls.seq_relationship.weight', 'cls.seq_relationship.bias', 'cls.predictions.bias', 'cls.predictions.transform.LayerNorm.bias', 'cls.predictions.transform.dense.weight', 'cls.predictions.transform.dense.bias', 'cls.predictions.decoder.weight', 'cls.predictions.transform.LayerNorm.weight']\n",
      "- This IS expected if you are initializing BertModel from the checkpoint of a model trained on another task or with another architecture (e.g. initializing a BertForSequenceClassification model from a BertForPreTraining model).\n",
      "- This IS NOT expected if you are initializing BertModel from the checkpoint of a model that you expect to be exactly identical (initializing a BertForSequenceClassification model from a BertForSequenceClassification model).\n"
     ]
    },
    {
     "name": "stdout",
     "output_type": "stream",
     "text": [
      "bert output:  <class 'transformers.modeling_outputs.BaseModelOutputWithPoolingAndCrossAttentions'> 2\n",
      "first entry:  <class 'torch.Tensor'> torch.Size([32, 58, 768])\n",
      "second entry:  <class 'torch.Tensor'> torch.Size([32, 768])\n"
     ]
    }
   ],
   "source": [
    "bert = BertModel.from_pretrained(\"bert-base-uncased\")\n",
    "bert.to(device)\n",
    "\n",
    "for batch in train_dataloader: \n",
    "    batch_features = batch[0].to(device)\n",
    "    bert_output = bert(input_ids=batch_features) \n",
    "    \n",
    "    print(\"bert output: \", type(bert_output), len(bert_output))\n",
    "    \n",
    "    print(\"first entry: \", type(bert_output[0]), bert_output[0].size())\n",
    "    \n",
    "    print(\"second entry: \", type(bert_output[1]), bert_output[1].size())\n",
    "    \n",
    "    break"
   ]
  },
  {
   "cell_type": "code",
   "execution_count": 100,
   "id": "8f82b4f8",
   "metadata": {
    "execution": {
     "iopub.execute_input": "2023-05-21T11:57:17.798994Z",
     "iopub.status.busy": "2023-05-21T11:57:17.797935Z",
     "iopub.status.idle": "2023-05-21T11:57:17.806140Z",
     "shell.execute_reply": "2023-05-21T11:57:17.805208Z"
    },
    "papermill": {
     "duration": 0.054127,
     "end_time": "2023-05-21T11:57:17.808440",
     "exception": false,
     "start_time": "2023-05-21T11:57:17.754313",
     "status": "completed"
    },
    "tags": []
   },
   "outputs": [],
   "source": [
    "class BertClassifier(nn.Module):\n",
    "    def __init__(self):\n",
    "        super(BertClassifier, self).__init__()\n",
    "        \n",
    "        self.bert = BertModel.from_pretrained('bert-base-uncased') # returns pwerful representations of the microblogs\n",
    "        self.linear = nn.Linear(768, 1) # custom layer; input of the first custom layer has to match the dimensionality of the BERT-output; further custom layers are possible\n",
    "        self.sigmoid = nn.Sigmoid() # activation function applied to our custom layer to obtain probabilities\n",
    "    \n",
    "    def forward(self, tokens):\n",
    "        bert_output = self.bert(input_ids=tokens)\n",
    "        linear_output = self.linear(bert_output[1])\n",
    "        proba = self.sigmoid(linear_output)\n",
    "        return proba"
   ]
  },
  {
   "cell_type": "code",
   "execution_count": 101,
   "id": "30bd0578",
   "metadata": {
    "execution": {
     "iopub.execute_input": "2023-05-21T11:57:17.894698Z",
     "iopub.status.busy": "2023-05-21T11:57:17.893567Z",
     "iopub.status.idle": "2023-05-21T11:57:17.900874Z",
     "shell.execute_reply": "2023-05-21T11:57:17.899897Z"
    },
    "papermill": {
     "duration": 0.052873,
     "end_time": "2023-05-21T11:57:17.903408",
     "exception": false,
     "start_time": "2023-05-21T11:57:17.850535",
     "status": "completed"
    },
    "tags": []
   },
   "outputs": [],
   "source": [
    "def eval(y_batch, probas):\n",
    "    \n",
    "    preds_batch_np = np.round(probas.cpu().detach().numpy())\n",
    "    \n",
    "    y_batch_np = y_batch.cpu().detach().numpy()\n",
    "    \n",
    "    acc = accuracy_score(y_true=y_batch_np, y_pred=preds_batch_np)\n",
    "    \n",
    "    f1 = f1_score(y_true=y_batch_np, y_pred=preds_batch_np, average='weighted')\n",
    "    \n",
    "    return acc, f1"
   ]
  },
  {
   "cell_type": "code",
   "execution_count": 102,
   "id": "4b02b5bf",
   "metadata": {
    "execution": {
     "iopub.execute_input": "2023-05-21T11:57:17.989367Z",
     "iopub.status.busy": "2023-05-21T11:57:17.988996Z",
     "iopub.status.idle": "2023-05-21T11:57:18.005265Z",
     "shell.execute_reply": "2023-05-21T11:57:18.004270Z"
    },
    "papermill": {
     "duration": 0.062432,
     "end_time": "2023-05-21T11:57:18.007546",
     "exception": false,
     "start_time": "2023-05-21T11:57:17.945114",
     "status": "completed"
    },
    "tags": []
   },
   "outputs": [],
   "source": [
    "def train(model, optimizer, scheduler, epochs, name):\n",
    "    history = []\n",
    "    best_f1 = 0\n",
    "    model.train()\n",
    "    \n",
    "    for epoch in range(epochs):\n",
    "        \n",
    "        # ===== train =====\n",
    "        print(\"=== Epoch: \", epoch+1, \" / \", epochs, \" ===\")\n",
    "        acc_total = 0\n",
    "        f1_total = 0\n",
    "        \n",
    "        for it, batch in enumerate(train_dataloader): \n",
    "            \n",
    "            x_batch, y_batch = [batch[0].to(device), batch[1].to(device)] # draw the batch\n",
    "            \n",
    "            probas = torch.flatten(model(tokens=x_batch))\n",
    "            \n",
    "            acc_f1_batch = eval(y_batch, probas)\n",
    "            \n",
    "            acc_total, f1_total = acc_total + acc_f1_batch[0], f1_total + acc_f1_batch[1]\n",
    "            \n",
    "            model.zero_grad() # reset the gradients\n",
    "            \n",
    "            loss_func = nn.BCELoss()\n",
    "            \n",
    "            batch_loss = loss_func(probas, y_batch)\n",
    "            \n",
    "            batch_loss.backward() # calculate gradient per (learnable) weight\n",
    "            \n",
    "            optimizer.step() # update (learnable) weights\n",
    "            \n",
    "            scheduler.step() # update learning rate\n",
    "            \n",
    "        acc_total = acc_total/len(train_dataloader) #len(train dataloader)=num_batches\n",
    "        \n",
    "        f1_total = f1_total/len(train_dataloader)\n",
    "        \n",
    "        print(\"accuracy: \", acc_total, \"\\nf1: \", f1_total)\n",
    "        \n",
    "        \n",
    "\n",
    "        # ===== validate =====\n",
    "        acc_val_total = 0\n",
    "        f1_val_total = 0\n",
    "        \n",
    "        for batch in validation_dataloader:\n",
    "            \n",
    "            x_batch, y_batch = [batch[0].to(device), batch[1].to(device)]\n",
    "            \n",
    "            with torch.no_grad(): # gradients don't have to be computed, because no update is performed\n",
    "                probas = torch.flatten(model(tokens=x_batch))\n",
    "            acc_f1_val_batch = eval(y_batch, probas)\n",
    "            \n",
    "            acc_val_total, f1_val_total = acc_val_total + acc_f1_val_batch[0], f1_val_total + acc_f1_val_batch[1]\n",
    "            \n",
    "        acc_val_total = acc_val_total/len(validation_dataloader)\n",
    "        f1_val_total = f1_val_total/len(validation_dataloader)\n",
    "        \n",
    "        print(\"validation accuracy: \", acc_val_total, \"\\nvalidation f1: \", f1_val_total, \"\\n\")\n",
    "        if(f1_val_total>best_f1): # save current mdoel if this epoch improved models validation performance \n",
    "            torch.save(model, name+\".pt\")\n",
    "            best_f1 = f1_val_total\n",
    "\n",
    "        history.append({\"acc\":acc_total, \"f1\":f1_total, \"acc_val\":acc_val_total, \"f1_val\":f1_val_total})\n",
    "    return [torch.load(name+\".pt\"), history]"
   ]
  },
  {
   "cell_type": "code",
   "execution_count": 103,
   "id": "605135fe",
   "metadata": {
    "execution": {
     "iopub.execute_input": "2023-05-21T11:57:18.091999Z",
     "iopub.status.busy": "2023-05-21T11:57:18.091566Z",
     "iopub.status.idle": "2023-05-21T11:57:19.996992Z",
     "shell.execute_reply": "2023-05-21T11:57:19.995948Z"
    },
    "papermill": {
     "duration": 1.951203,
     "end_time": "2023-05-21T11:57:19.999707",
     "exception": false,
     "start_time": "2023-05-21T11:57:18.048504",
     "status": "completed"
    },
    "tags": []
   },
   "outputs": [
    {
     "name": "stderr",
     "output_type": "stream",
     "text": [
      "Some weights of the model checkpoint at bert-base-uncased were not used when initializing BertModel: ['cls.seq_relationship.weight', 'cls.seq_relationship.bias', 'cls.predictions.bias', 'cls.predictions.transform.LayerNorm.bias', 'cls.predictions.transform.dense.weight', 'cls.predictions.transform.dense.bias', 'cls.predictions.decoder.weight', 'cls.predictions.transform.LayerNorm.weight']\n",
      "- This IS expected if you are initializing BertModel from the checkpoint of a model trained on another task or with another architecture (e.g. initializing a BertForSequenceClassification model from a BertForPreTraining model).\n",
      "- This IS NOT expected if you are initializing BertModel from the checkpoint of a model that you expect to be exactly identical (initializing a BertForSequenceClassification model from a BertForSequenceClassification model).\n"
     ]
    }
   ],
   "source": [
    "epochs = 10\n",
    "\n",
    "baseline_bert_clf = BertClassifier()\n",
    "\n",
    "baseline_bert_clf = baseline_bert_clf.to(device)\n",
    "\n",
    "adam = AdamW(baseline_bert_clf.parameters(), lr=5e-5, eps=1e-8)\n",
    "\n",
    "total_steps = len(train_dataloader) * epochs\n",
    "\n",
    "sched = get_linear_schedule_with_warmup(adam, num_warmup_steps=0, num_training_steps=total_steps)"
   ]
  },
  {
   "cell_type": "code",
   "execution_count": 104,
   "id": "89a5947f",
   "metadata": {
    "execution": {
     "iopub.execute_input": "2023-05-21T11:57:20.093163Z",
     "iopub.status.busy": "2023-05-21T11:57:20.092242Z",
     "iopub.status.idle": "2023-05-21T12:03:36.467417Z",
     "shell.execute_reply": "2023-05-21T12:03:36.466323Z"
    },
    "papermill": {
     "duration": 376.420748,
     "end_time": "2023-05-21T12:03:36.470093",
     "exception": false,
     "start_time": "2023-05-21T11:57:20.049345",
     "status": "completed"
    },
    "tags": []
   },
   "outputs": [
    {
     "name": "stdout",
     "output_type": "stream",
     "text": [
      "=== Epoch:  1  /  10  ===\n",
      "accuracy:  0.7774541884816755 \n",
      "f1:  0.7690395449220332\n",
      "validation accuracy:  0.8293928179824562 \n",
      "validation f1:  0.8292419850639559 \n",
      "\n",
      "=== Epoch:  2  /  10  ===\n",
      "accuracy:  0.8612565445026178 \n",
      "f1:  0.8589383675583961\n",
      "validation accuracy:  0.8278166118421053 \n",
      "validation f1:  0.8203673370873105 \n",
      "\n",
      "=== Epoch:  3  /  10  ===\n",
      "accuracy:  0.9170484293193717 \n",
      "f1:  0.9160066111394928\n",
      "validation accuracy:  0.8367598684210527 \n",
      "validation f1:  0.8351104461712224 \n",
      "\n",
      "=== Epoch:  4  /  10  ===\n",
      "accuracy:  0.9490837696335079 \n",
      "f1:  0.9488788387307006\n",
      "validation accuracy:  0.8256921600877193 \n",
      "validation f1:  0.8250192402642275 \n",
      "\n",
      "=== Epoch:  5  /  10  ===\n",
      "accuracy:  0.9641034031413613 \n",
      "f1:  0.9639346452582296\n",
      "validation accuracy:  0.8241502192982456 \n",
      "validation f1:  0.8215904274452726 \n",
      "\n",
      "=== Epoch:  6  /  10  ===\n",
      "accuracy:  0.9719895287958116 \n",
      "f1:  0.9719793513735764\n",
      "validation accuracy:  0.8174342105263158 \n",
      "validation f1:  0.8170394420955273 \n",
      "\n",
      "=== Epoch:  7  /  10  ===\n",
      "accuracy:  0.9777486910994765 \n",
      "f1:  0.9777363229110498\n",
      "validation accuracy:  0.8228824013157895 \n",
      "validation f1:  0.8227414332278825 \n",
      "\n",
      "=== Epoch:  8  /  10  ===\n",
      "accuracy:  0.9803337696335079 \n",
      "f1:  0.9802035498488385\n",
      "validation accuracy:  0.8104783442982456 \n",
      "validation f1:  0.8105078871177663 \n",
      "\n",
      "=== Epoch:  9  /  10  ===\n",
      "accuracy:  0.9831479057591623 \n",
      "f1:  0.9831511048140599\n",
      "validation accuracy:  0.8231222587719298 \n",
      "validation f1:  0.822140543803351 \n",
      "\n",
      "=== Epoch:  10  /  10  ===\n",
      "accuracy:  0.9834424083769634 \n",
      "f1:  0.9834372121721606\n",
      "validation accuracy:  0.8193873355263158 \n",
      "validation f1:  0.8189130564927671 \n",
      "\n"
     ]
    }
   ],
   "source": [
    "baseline_bert_clf, history = train(model=baseline_bert_clf,\n",
    "                                   optimizer=adam,\n",
    "                                   scheduler=sched,\n",
    "                                   epochs=10,\n",
    "                                   name=\"baseline_bert_clf\")"
   ]
  },
  {
   "cell_type": "code",
   "execution_count": 105,
   "id": "dba2994a",
   "metadata": {
    "execution": {
     "iopub.execute_input": "2023-05-21T12:03:36.557853Z",
     "iopub.status.busy": "2023-05-21T12:03:36.557488Z",
     "iopub.status.idle": "2023-05-21T12:03:36.574997Z",
     "shell.execute_reply": "2023-05-21T12:03:36.573848Z"
    },
    "papermill": {
     "duration": 0.06463,
     "end_time": "2023-05-21T12:03:36.577580",
     "exception": false,
     "start_time": "2023-05-21T12:03:36.512950",
     "status": "completed"
    },
    "tags": []
   },
   "outputs": [
    {
     "data": {
      "text/html": [
       "<div>\n",
       "<style scoped>\n",
       "    .dataframe tbody tr th:only-of-type {\n",
       "        vertical-align: middle;\n",
       "    }\n",
       "\n",
       "    .dataframe tbody tr th {\n",
       "        vertical-align: top;\n",
       "    }\n",
       "\n",
       "    .dataframe thead th {\n",
       "        text-align: right;\n",
       "    }\n",
       "</style>\n",
       "<table border=\"1\" class=\"dataframe\">\n",
       "  <thead>\n",
       "    <tr style=\"text-align: right;\">\n",
       "      <th></th>\n",
       "      <th>acc</th>\n",
       "      <th>f1</th>\n",
       "      <th>acc_val</th>\n",
       "      <th>f1_val</th>\n",
       "    </tr>\n",
       "  </thead>\n",
       "  <tbody>\n",
       "    <tr>\n",
       "      <th>0</th>\n",
       "      <td>0.777454</td>\n",
       "      <td>0.769040</td>\n",
       "      <td>0.829393</td>\n",
       "      <td>0.829242</td>\n",
       "    </tr>\n",
       "    <tr>\n",
       "      <th>1</th>\n",
       "      <td>0.861257</td>\n",
       "      <td>0.858938</td>\n",
       "      <td>0.827817</td>\n",
       "      <td>0.820367</td>\n",
       "    </tr>\n",
       "    <tr>\n",
       "      <th>2</th>\n",
       "      <td>0.917048</td>\n",
       "      <td>0.916007</td>\n",
       "      <td>0.836760</td>\n",
       "      <td>0.835110</td>\n",
       "    </tr>\n",
       "    <tr>\n",
       "      <th>3</th>\n",
       "      <td>0.949084</td>\n",
       "      <td>0.948879</td>\n",
       "      <td>0.825692</td>\n",
       "      <td>0.825019</td>\n",
       "    </tr>\n",
       "    <tr>\n",
       "      <th>4</th>\n",
       "      <td>0.964103</td>\n",
       "      <td>0.963935</td>\n",
       "      <td>0.824150</td>\n",
       "      <td>0.821590</td>\n",
       "    </tr>\n",
       "    <tr>\n",
       "      <th>5</th>\n",
       "      <td>0.971990</td>\n",
       "      <td>0.971979</td>\n",
       "      <td>0.817434</td>\n",
       "      <td>0.817039</td>\n",
       "    </tr>\n",
       "    <tr>\n",
       "      <th>6</th>\n",
       "      <td>0.977749</td>\n",
       "      <td>0.977736</td>\n",
       "      <td>0.822882</td>\n",
       "      <td>0.822741</td>\n",
       "    </tr>\n",
       "    <tr>\n",
       "      <th>7</th>\n",
       "      <td>0.980334</td>\n",
       "      <td>0.980204</td>\n",
       "      <td>0.810478</td>\n",
       "      <td>0.810508</td>\n",
       "    </tr>\n",
       "    <tr>\n",
       "      <th>8</th>\n",
       "      <td>0.983148</td>\n",
       "      <td>0.983151</td>\n",
       "      <td>0.823122</td>\n",
       "      <td>0.822141</td>\n",
       "    </tr>\n",
       "    <tr>\n",
       "      <th>9</th>\n",
       "      <td>0.983442</td>\n",
       "      <td>0.983437</td>\n",
       "      <td>0.819387</td>\n",
       "      <td>0.818913</td>\n",
       "    </tr>\n",
       "  </tbody>\n",
       "</table>\n",
       "</div>"
      ],
      "text/plain": [
       "        acc        f1   acc_val    f1_val\n",
       "0  0.777454  0.769040  0.829393  0.829242\n",
       "1  0.861257  0.858938  0.827817  0.820367\n",
       "2  0.917048  0.916007  0.836760  0.835110\n",
       "3  0.949084  0.948879  0.825692  0.825019\n",
       "4  0.964103  0.963935  0.824150  0.821590\n",
       "5  0.971990  0.971979  0.817434  0.817039\n",
       "6  0.977749  0.977736  0.822882  0.822741\n",
       "7  0.980334  0.980204  0.810478  0.810508\n",
       "8  0.983148  0.983151  0.823122  0.822141\n",
       "9  0.983442  0.983437  0.819387  0.818913"
      ]
     },
     "execution_count": 105,
     "metadata": {},
     "output_type": "execute_result"
    }
   ],
   "source": [
    "history_df = pd.DataFrame(history)\n",
    "\n",
    "history_df"
   ]
  },
  {
   "cell_type": "code",
   "execution_count": 106,
   "id": "4ed06f94",
   "metadata": {
    "execution": {
     "iopub.execute_input": "2023-05-21T12:03:36.669822Z",
     "iopub.status.busy": "2023-05-21T12:03:36.669496Z",
     "iopub.status.idle": "2023-05-21T12:03:38.984503Z",
     "shell.execute_reply": "2023-05-21T12:03:38.983462Z"
    },
    "papermill": {
     "duration": 2.364939,
     "end_time": "2023-05-21T12:03:38.987212",
     "exception": false,
     "start_time": "2023-05-21T12:03:36.622273",
     "status": "completed"
    },
    "tags": []
   },
   "outputs": [],
   "source": [
    "X_test_tokens = []\n",
    "\n",
    "for text in df_test['text'].values:\n",
    "    \n",
    "    encoded_dict = tokenizer.encode_plus(text,\n",
    "                                         add_special_tokens=True,\n",
    "                                         max_length=sequence_length,\n",
    "                                         padding=\"max_length\",\n",
    "                                         return_tensors='pt',\n",
    "                                         truncation=True)\n",
    "    \n",
    "    X_test_tokens.append(encoded_dict['input_ids'])\n",
    "    \n",
    "    \n",
    "    \n",
    "X_test_tokens = torch.cat(X_test_tokens, dim=0)\n",
    "\n",
    "\n",
    "\n",
    "test_set = TensorDataset(X_test_tokens)\n",
    "\n",
    "test_dataloader = DataLoader(test_set, \n",
    "                             sampler=SequentialSampler(test_set), \n",
    "                             batch_size=batch_size)"
   ]
  },
  {
   "cell_type": "code",
   "execution_count": 107,
   "id": "cc8b0a39",
   "metadata": {
    "execution": {
     "iopub.execute_input": "2023-05-21T12:03:39.077193Z",
     "iopub.status.busy": "2023-05-21T12:03:39.076841Z",
     "iopub.status.idle": "2023-05-21T12:03:44.644401Z",
     "shell.execute_reply": "2023-05-21T12:03:44.643370Z"
    },
    "papermill": {
     "duration": 5.614372,
     "end_time": "2023-05-21T12:03:44.647286",
     "exception": false,
     "start_time": "2023-05-21T12:03:39.032914",
     "status": "completed"
    },
    "tags": []
   },
   "outputs": [],
   "source": [
    "all_preds = []\n",
    "\n",
    "for batch in test_dataloader:\n",
    "    x_batch = batch[0].to(device)\n",
    "    with torch.no_grad():\n",
    "        probas = baseline_bert_clf(tokens=x_batch)\n",
    "    preds = np.round(probas.cpu().detach().numpy()).astype(int).flatten()\n",
    "    all_preds.extend(preds)"
   ]
  },
  {
   "cell_type": "code",
   "execution_count": 108,
   "id": "84811aa6",
   "metadata": {
    "execution": {
     "iopub.execute_input": "2023-05-21T12:03:44.735588Z",
     "iopub.status.busy": "2023-05-21T12:03:44.735235Z",
     "iopub.status.idle": "2023-05-21T12:03:44.765434Z",
     "shell.execute_reply": "2023-05-21T12:03:44.764524Z"
    },
    "papermill": {
     "duration": 0.076203,
     "end_time": "2023-05-21T12:03:44.767939",
     "exception": false,
     "start_time": "2023-05-21T12:03:44.691736",
     "status": "completed"
    },
    "tags": []
   },
   "outputs": [],
   "source": [
    "challenge_pred = pd.concat([pd.read_csv(\"../input/nlp-getting-started/sample_submission.csv\")[\"id\"], pd.Series(all_preds)], axis=1)\n",
    "challenge_pred.columns = ['id', 'target']\n",
    "challenge_pred.to_csv(\"submission.csv\", index=False)"
   ]
  },
  {
   "cell_type": "code",
   "execution_count": null,
   "id": "9766bdd9",
   "metadata": {
    "papermill": {
     "duration": 0.044237,
     "end_time": "2023-05-21T12:03:44.854999",
     "exception": false,
     "start_time": "2023-05-21T12:03:44.810762",
     "status": "completed"
    },
    "tags": []
   },
   "outputs": [],
   "source": []
  },
  {
   "cell_type": "code",
   "execution_count": null,
   "id": "d284fc9d",
   "metadata": {
    "papermill": {
     "duration": 0.042861,
     "end_time": "2023-05-21T12:03:44.941319",
     "exception": false,
     "start_time": "2023-05-21T12:03:44.898458",
     "status": "completed"
    },
    "tags": []
   },
   "outputs": [],
   "source": []
  },
  {
   "cell_type": "code",
   "execution_count": null,
   "id": "a7c5b2f7",
   "metadata": {
    "papermill": {
     "duration": 0.041677,
     "end_time": "2023-05-21T12:03:45.025530",
     "exception": false,
     "start_time": "2023-05-21T12:03:44.983853",
     "status": "completed"
    },
    "tags": []
   },
   "outputs": [],
   "source": []
  },
  {
   "cell_type": "code",
   "execution_count": null,
   "id": "5a8c519e",
   "metadata": {
    "papermill": {
     "duration": 0.04176,
     "end_time": "2023-05-21T12:03:45.114924",
     "exception": false,
     "start_time": "2023-05-21T12:03:45.073164",
     "status": "completed"
    },
    "tags": []
   },
   "outputs": [],
   "source": []
  },
  {
   "cell_type": "code",
   "execution_count": null,
   "id": "a7c8ad97",
   "metadata": {
    "papermill": {
     "duration": 0.042318,
     "end_time": "2023-05-21T12:03:45.199759",
     "exception": false,
     "start_time": "2023-05-21T12:03:45.157441",
     "status": "completed"
    },
    "tags": []
   },
   "outputs": [],
   "source": []
  }
 ],
 "metadata": {
  "kernelspec": {
   "display_name": "Python 3",
   "language": "python",
   "name": "python3"
  },
  "language_info": {
   "codemirror_mode": {
    "name": "ipython",
    "version": 3
   },
   "file_extension": ".py",
   "mimetype": "text/x-python",
   "name": "python",
   "nbconvert_exporter": "python",
   "pygments_lexer": "ipython3",
   "version": "3.7.12"
  },
  "papermill": {
   "default_parameters": {},
   "duration": 946.95223,
   "end_time": "2023-05-21T12:03:48.191654",
   "environment_variables": {},
   "exception": null,
   "input_path": "__notebook__.ipynb",
   "output_path": "__notebook__.ipynb",
   "parameters": {},
   "start_time": "2023-05-21T11:48:01.239424",
   "version": "2.3.4"
  },
  "widgets": {
   "application/vnd.jupyter.widget-state+json": {
    "state": {
     "012e7a29dc974d9eac1f3a714dff641c": {
      "model_module": "@jupyter-widgets/controls",
      "model_module_version": "1.5.0",
      "model_name": "DescriptionStyleModel",
      "state": {
       "_model_module": "@jupyter-widgets/controls",
       "_model_module_version": "1.5.0",
       "_model_name": "DescriptionStyleModel",
       "_view_count": null,
       "_view_module": "@jupyter-widgets/base",
       "_view_module_version": "1.2.0",
       "_view_name": "StyleView",
       "description_width": ""
      }
     },
     "0be98f7bea56407abcbd9f4472f35640": {
      "model_module": "@jupyter-widgets/base",
      "model_module_version": "1.2.0",
      "model_name": "LayoutModel",
      "state": {
       "_model_module": "@jupyter-widgets/base",
       "_model_module_version": "1.2.0",
       "_model_name": "LayoutModel",
       "_view_count": null,
       "_view_module": "@jupyter-widgets/base",
       "_view_module_version": "1.2.0",
       "_view_name": "LayoutView",
       "align_content": null,
       "align_items": null,
       "align_self": null,
       "border": null,
       "bottom": null,
       "display": null,
       "flex": null,
       "flex_flow": null,
       "grid_area": null,
       "grid_auto_columns": null,
       "grid_auto_flow": null,
       "grid_auto_rows": null,
       "grid_column": null,
       "grid_gap": null,
       "grid_row": null,
       "grid_template_areas": null,
       "grid_template_columns": null,
       "grid_template_rows": null,
       "height": null,
       "justify_content": null,
       "justify_items": null,
       "left": null,
       "margin": null,
       "max_height": null,
       "max_width": null,
       "min_height": null,
       "min_width": null,
       "object_fit": null,
       "object_position": null,
       "order": null,
       "overflow": null,
       "overflow_x": null,
       "overflow_y": null,
       "padding": null,
       "right": null,
       "top": null,
       "visibility": null,
       "width": null
      }
     },
     "0f704af44b544c01a9e70d7be75a92e7": {
      "model_module": "@jupyter-widgets/base",
      "model_module_version": "1.2.0",
      "model_name": "LayoutModel",
      "state": {
       "_model_module": "@jupyter-widgets/base",
       "_model_module_version": "1.2.0",
       "_model_name": "LayoutModel",
       "_view_count": null,
       "_view_module": "@jupyter-widgets/base",
       "_view_module_version": "1.2.0",
       "_view_name": "LayoutView",
       "align_content": null,
       "align_items": null,
       "align_self": null,
       "border": null,
       "bottom": null,
       "display": null,
       "flex": null,
       "flex_flow": null,
       "grid_area": null,
       "grid_auto_columns": null,
       "grid_auto_flow": null,
       "grid_auto_rows": null,
       "grid_column": null,
       "grid_gap": null,
       "grid_row": null,
       "grid_template_areas": null,
       "grid_template_columns": null,
       "grid_template_rows": null,
       "height": null,
       "justify_content": null,
       "justify_items": null,
       "left": null,
       "margin": null,
       "max_height": null,
       "max_width": null,
       "min_height": null,
       "min_width": null,
       "object_fit": null,
       "object_position": null,
       "order": null,
       "overflow": null,
       "overflow_x": null,
       "overflow_y": null,
       "padding": null,
       "right": null,
       "top": null,
       "visibility": null,
       "width": null
      }
     },
     "11fe32ea96444b158742497f05104f11": {
      "model_module": "@jupyter-widgets/base",
      "model_module_version": "1.2.0",
      "model_name": "LayoutModel",
      "state": {
       "_model_module": "@jupyter-widgets/base",
       "_model_module_version": "1.2.0",
       "_model_name": "LayoutModel",
       "_view_count": null,
       "_view_module": "@jupyter-widgets/base",
       "_view_module_version": "1.2.0",
       "_view_name": "LayoutView",
       "align_content": null,
       "align_items": null,
       "align_self": null,
       "border": null,
       "bottom": null,
       "display": null,
       "flex": null,
       "flex_flow": null,
       "grid_area": null,
       "grid_auto_columns": null,
       "grid_auto_flow": null,
       "grid_auto_rows": null,
       "grid_column": null,
       "grid_gap": null,
       "grid_row": null,
       "grid_template_areas": null,
       "grid_template_columns": null,
       "grid_template_rows": null,
       "height": null,
       "justify_content": null,
       "justify_items": null,
       "left": null,
       "margin": null,
       "max_height": null,
       "max_width": null,
       "min_height": null,
       "min_width": null,
       "object_fit": null,
       "object_position": null,
       "order": null,
       "overflow": null,
       "overflow_x": null,
       "overflow_y": null,
       "padding": null,
       "right": null,
       "top": null,
       "visibility": null,
       "width": null
      }
     },
     "2c5bd3ca893444d18d9d38cc7cb9a600": {
      "model_module": "@jupyter-widgets/controls",
      "model_module_version": "1.5.0",
      "model_name": "HTMLModel",
      "state": {
       "_dom_classes": [],
       "_model_module": "@jupyter-widgets/controls",
       "_model_module_version": "1.5.0",
       "_model_name": "HTMLModel",
       "_view_count": null,
       "_view_module": "@jupyter-widgets/controls",
       "_view_module_version": "1.5.0",
       "_view_name": "HTMLView",
       "description": "",
       "description_tooltip": null,
       "layout": "IPY_MODEL_ea80fd4d623246089e67f171d358fd7f",
       "placeholder": "​",
       "style": "IPY_MODEL_9380919249354e46823a5ff4b16fbe56",
       "value": "Downloading: 100%"
      }
     },
     "33b1c8a6a2104328bf5b47e084348e82": {
      "model_module": "@jupyter-widgets/base",
      "model_module_version": "1.2.0",
      "model_name": "LayoutModel",
      "state": {
       "_model_module": "@jupyter-widgets/base",
       "_model_module_version": "1.2.0",
       "_model_name": "LayoutModel",
       "_view_count": null,
       "_view_module": "@jupyter-widgets/base",
       "_view_module_version": "1.2.0",
       "_view_name": "LayoutView",
       "align_content": null,
       "align_items": null,
       "align_self": null,
       "border": null,
       "bottom": null,
       "display": null,
       "flex": null,
       "flex_flow": null,
       "grid_area": null,
       "grid_auto_columns": null,
       "grid_auto_flow": null,
       "grid_auto_rows": null,
       "grid_column": null,
       "grid_gap": null,
       "grid_row": null,
       "grid_template_areas": null,
       "grid_template_columns": null,
       "grid_template_rows": null,
       "height": null,
       "justify_content": null,
       "justify_items": null,
       "left": null,
       "margin": null,
       "max_height": null,
       "max_width": null,
       "min_height": null,
       "min_width": null,
       "object_fit": null,
       "object_position": null,
       "order": null,
       "overflow": null,
       "overflow_x": null,
       "overflow_y": null,
       "padding": null,
       "right": null,
       "top": null,
       "visibility": null,
       "width": null
      }
     },
     "35cb3d63495a4ed2b8fd2ffc4597d9bf": {
      "model_module": "@jupyter-widgets/controls",
      "model_module_version": "1.5.0",
      "model_name": "ProgressStyleModel",
      "state": {
       "_model_module": "@jupyter-widgets/controls",
       "_model_module_version": "1.5.0",
       "_model_name": "ProgressStyleModel",
       "_view_count": null,
       "_view_module": "@jupyter-widgets/base",
       "_view_module_version": "1.2.0",
       "_view_name": "StyleView",
       "bar_color": null,
       "description_width": ""
      }
     },
     "3a8d741febb24e409e834fae0e7cab4e": {
      "model_module": "@jupyter-widgets/controls",
      "model_module_version": "1.5.0",
      "model_name": "HBoxModel",
      "state": {
       "_dom_classes": [],
       "_model_module": "@jupyter-widgets/controls",
       "_model_module_version": "1.5.0",
       "_model_name": "HBoxModel",
       "_view_count": null,
       "_view_module": "@jupyter-widgets/controls",
       "_view_module_version": "1.5.0",
       "_view_name": "HBoxView",
       "box_style": "",
       "children": [
        "IPY_MODEL_6e268f0a585d4ba08085f6048c96c2c2",
        "IPY_MODEL_97bb936d9e514267a1f7683ac73fee49",
        "IPY_MODEL_ec280eaddaae4be2b78d9f9fc1445e13"
       ],
       "layout": "IPY_MODEL_4b4cce6f1657440d909554f2bda1eedf"
      }
     },
     "3cfa42e28c2b4811a22049eb7e75e31e": {
      "model_module": "@jupyter-widgets/controls",
      "model_module_version": "1.5.0",
      "model_name": "HBoxModel",
      "state": {
       "_dom_classes": [],
       "_model_module": "@jupyter-widgets/controls",
       "_model_module_version": "1.5.0",
       "_model_name": "HBoxModel",
       "_view_count": null,
       "_view_module": "@jupyter-widgets/controls",
       "_view_module_version": "1.5.0",
       "_view_name": "HBoxView",
       "box_style": "",
       "children": [
        "IPY_MODEL_db8bb8dce7aa4598b022b2b965c8376d",
        "IPY_MODEL_6358216449dc42ffaad79b97007d3be7",
        "IPY_MODEL_67025d21fd164832aad9c83118d816cb"
       ],
       "layout": "IPY_MODEL_b376616b8c2548be982db683b1911c3a"
      }
     },
     "4b4cce6f1657440d909554f2bda1eedf": {
      "model_module": "@jupyter-widgets/base",
      "model_module_version": "1.2.0",
      "model_name": "LayoutModel",
      "state": {
       "_model_module": "@jupyter-widgets/base",
       "_model_module_version": "1.2.0",
       "_model_name": "LayoutModel",
       "_view_count": null,
       "_view_module": "@jupyter-widgets/base",
       "_view_module_version": "1.2.0",
       "_view_name": "LayoutView",
       "align_content": null,
       "align_items": null,
       "align_self": null,
       "border": null,
       "bottom": null,
       "display": null,
       "flex": null,
       "flex_flow": null,
       "grid_area": null,
       "grid_auto_columns": null,
       "grid_auto_flow": null,
       "grid_auto_rows": null,
       "grid_column": null,
       "grid_gap": null,
       "grid_row": null,
       "grid_template_areas": null,
       "grid_template_columns": null,
       "grid_template_rows": null,
       "height": null,
       "justify_content": null,
       "justify_items": null,
       "left": null,
       "margin": null,
       "max_height": null,
       "max_width": null,
       "min_height": null,
       "min_width": null,
       "object_fit": null,
       "object_position": null,
       "order": null,
       "overflow": null,
       "overflow_x": null,
       "overflow_y": null,
       "padding": null,
       "right": null,
       "top": null,
       "visibility": null,
       "width": null
      }
     },
     "52c68b8bb96a4edf8bfdd00c066191cc": {
      "model_module": "@jupyter-widgets/base",
      "model_module_version": "1.2.0",
      "model_name": "LayoutModel",
      "state": {
       "_model_module": "@jupyter-widgets/base",
       "_model_module_version": "1.2.0",
       "_model_name": "LayoutModel",
       "_view_count": null,
       "_view_module": "@jupyter-widgets/base",
       "_view_module_version": "1.2.0",
       "_view_name": "LayoutView",
       "align_content": null,
       "align_items": null,
       "align_self": null,
       "border": null,
       "bottom": null,
       "display": null,
       "flex": null,
       "flex_flow": null,
       "grid_area": null,
       "grid_auto_columns": null,
       "grid_auto_flow": null,
       "grid_auto_rows": null,
       "grid_column": null,
       "grid_gap": null,
       "grid_row": null,
       "grid_template_areas": null,
       "grid_template_columns": null,
       "grid_template_rows": null,
       "height": null,
       "justify_content": null,
       "justify_items": null,
       "left": null,
       "margin": null,
       "max_height": null,
       "max_width": null,
       "min_height": null,
       "min_width": null,
       "object_fit": null,
       "object_position": null,
       "order": null,
       "overflow": null,
       "overflow_x": null,
       "overflow_y": null,
       "padding": null,
       "right": null,
       "top": null,
       "visibility": null,
       "width": null
      }
     },
     "570aabfbd2c048dd9ac4ece93e5fa3f8": {
      "model_module": "@jupyter-widgets/controls",
      "model_module_version": "1.5.0",
      "model_name": "HBoxModel",
      "state": {
       "_dom_classes": [],
       "_model_module": "@jupyter-widgets/controls",
       "_model_module_version": "1.5.0",
       "_model_name": "HBoxModel",
       "_view_count": null,
       "_view_module": "@jupyter-widgets/controls",
       "_view_module_version": "1.5.0",
       "_view_name": "HBoxView",
       "box_style": "",
       "children": [
        "IPY_MODEL_e3c4afcf3c864e21b73d125f9fa24dc4",
        "IPY_MODEL_5cd7ba9b34694e75a8ae79fa7419d61b",
        "IPY_MODEL_617b2940326c4f8a8a13b109342e73f4"
       ],
       "layout": "IPY_MODEL_33b1c8a6a2104328bf5b47e084348e82"
      }
     },
     "583839f1dca043a59139f818176f89f2": {
      "model_module": "@jupyter-widgets/controls",
      "model_module_version": "1.5.0",
      "model_name": "DescriptionStyleModel",
      "state": {
       "_model_module": "@jupyter-widgets/controls",
       "_model_module_version": "1.5.0",
       "_model_name": "DescriptionStyleModel",
       "_view_count": null,
       "_view_module": "@jupyter-widgets/base",
       "_view_module_version": "1.2.0",
       "_view_name": "StyleView",
       "description_width": ""
      }
     },
     "5cd7ba9b34694e75a8ae79fa7419d61b": {
      "model_module": "@jupyter-widgets/controls",
      "model_module_version": "1.5.0",
      "model_name": "FloatProgressModel",
      "state": {
       "_dom_classes": [],
       "_model_module": "@jupyter-widgets/controls",
       "_model_module_version": "1.5.0",
       "_model_name": "FloatProgressModel",
       "_view_count": null,
       "_view_module": "@jupyter-widgets/controls",
       "_view_module_version": "1.5.0",
       "_view_name": "ProgressView",
       "bar_style": "success",
       "description": "",
       "description_tooltip": null,
       "layout": "IPY_MODEL_a4dd3a7515c84d24957fa90929513c9f",
       "max": 440473133.0,
       "min": 0.0,
       "orientation": "horizontal",
       "style": "IPY_MODEL_c67612befd32422791eac73b0610e70e",
       "value": 440473133.0
      }
     },
     "617b2940326c4f8a8a13b109342e73f4": {
      "model_module": "@jupyter-widgets/controls",
      "model_module_version": "1.5.0",
      "model_name": "HTMLModel",
      "state": {
       "_dom_classes": [],
       "_model_module": "@jupyter-widgets/controls",
       "_model_module_version": "1.5.0",
       "_model_name": "HTMLModel",
       "_view_count": null,
       "_view_module": "@jupyter-widgets/controls",
       "_view_module_version": "1.5.0",
       "_view_name": "HTMLView",
       "description": "",
       "description_tooltip": null,
       "layout": "IPY_MODEL_0f704af44b544c01a9e70d7be75a92e7",
       "placeholder": "​",
       "style": "IPY_MODEL_c61f87f86e5c488b9913b88c5559f6dd",
       "value": " 420M/420M [00:11&lt;00:00, 33.7MB/s]"
      }
     },
     "6328ca21400d43faae47a6f5b026b0c3": {
      "model_module": "@jupyter-widgets/base",
      "model_module_version": "1.2.0",
      "model_name": "LayoutModel",
      "state": {
       "_model_module": "@jupyter-widgets/base",
       "_model_module_version": "1.2.0",
       "_model_name": "LayoutModel",
       "_view_count": null,
       "_view_module": "@jupyter-widgets/base",
       "_view_module_version": "1.2.0",
       "_view_name": "LayoutView",
       "align_content": null,
       "align_items": null,
       "align_self": null,
       "border": null,
       "bottom": null,
       "display": null,
       "flex": null,
       "flex_flow": null,
       "grid_area": null,
       "grid_auto_columns": null,
       "grid_auto_flow": null,
       "grid_auto_rows": null,
       "grid_column": null,
       "grid_gap": null,
       "grid_row": null,
       "grid_template_areas": null,
       "grid_template_columns": null,
       "grid_template_rows": null,
       "height": null,
       "justify_content": null,
       "justify_items": null,
       "left": null,
       "margin": null,
       "max_height": null,
       "max_width": null,
       "min_height": null,
       "min_width": null,
       "object_fit": null,
       "object_position": null,
       "order": null,
       "overflow": null,
       "overflow_x": null,
       "overflow_y": null,
       "padding": null,
       "right": null,
       "top": null,
       "visibility": null,
       "width": null
      }
     },
     "6358216449dc42ffaad79b97007d3be7": {
      "model_module": "@jupyter-widgets/controls",
      "model_module_version": "1.5.0",
      "model_name": "FloatProgressModel",
      "state": {
       "_dom_classes": [],
       "_model_module": "@jupyter-widgets/controls",
       "_model_module_version": "1.5.0",
       "_model_name": "FloatProgressModel",
       "_view_count": null,
       "_view_module": "@jupyter-widgets/controls",
       "_view_module_version": "1.5.0",
       "_view_name": "ProgressView",
       "bar_style": "success",
       "description": "",
       "description_tooltip": null,
       "layout": "IPY_MODEL_52c68b8bb96a4edf8bfdd00c066191cc",
       "max": 570.0,
       "min": 0.0,
       "orientation": "horizontal",
       "style": "IPY_MODEL_ac06f7ecbba14025bd02c41eabfb7380",
       "value": 570.0
      }
     },
     "67025d21fd164832aad9c83118d816cb": {
      "model_module": "@jupyter-widgets/controls",
      "model_module_version": "1.5.0",
      "model_name": "HTMLModel",
      "state": {
       "_dom_classes": [],
       "_model_module": "@jupyter-widgets/controls",
       "_model_module_version": "1.5.0",
       "_model_name": "HTMLModel",
       "_view_count": null,
       "_view_module": "@jupyter-widgets/controls",
       "_view_module_version": "1.5.0",
       "_view_name": "HTMLView",
       "description": "",
       "description_tooltip": null,
       "layout": "IPY_MODEL_f73dddbd85b94fb899ec5878032ab50d",
       "placeholder": "​",
       "style": "IPY_MODEL_012e7a29dc974d9eac1f3a714dff641c",
       "value": " 570/570 [00:00&lt;00:00, 17.7kB/s]"
      }
     },
     "6e268f0a585d4ba08085f6048c96c2c2": {
      "model_module": "@jupyter-widgets/controls",
      "model_module_version": "1.5.0",
      "model_name": "HTMLModel",
      "state": {
       "_dom_classes": [],
       "_model_module": "@jupyter-widgets/controls",
       "_model_module_version": "1.5.0",
       "_model_name": "HTMLModel",
       "_view_count": null,
       "_view_module": "@jupyter-widgets/controls",
       "_view_module_version": "1.5.0",
       "_view_name": "HTMLView",
       "description": "",
       "description_tooltip": null,
       "layout": "IPY_MODEL_0be98f7bea56407abcbd9f4472f35640",
       "placeholder": "​",
       "style": "IPY_MODEL_9e690549b84340b0a6ac7af02a307b06",
       "value": "Downloading: 100%"
      }
     },
     "7405cecb0f0a4ec69a0ea6dd2b8a92b4": {
      "model_module": "@jupyter-widgets/controls",
      "model_module_version": "1.5.0",
      "model_name": "DescriptionStyleModel",
      "state": {
       "_model_module": "@jupyter-widgets/controls",
       "_model_module_version": "1.5.0",
       "_model_name": "DescriptionStyleModel",
       "_view_count": null,
       "_view_module": "@jupyter-widgets/base",
       "_view_module_version": "1.2.0",
       "_view_name": "StyleView",
       "description_width": ""
      }
     },
     "8e0ca9e59f0644d7921046db1fc2eeb3": {
      "model_module": "@jupyter-widgets/controls",
      "model_module_version": "1.5.0",
      "model_name": "ProgressStyleModel",
      "state": {
       "_model_module": "@jupyter-widgets/controls",
       "_model_module_version": "1.5.0",
       "_model_name": "ProgressStyleModel",
       "_view_count": null,
       "_view_module": "@jupyter-widgets/base",
       "_view_module_version": "1.2.0",
       "_view_name": "StyleView",
       "bar_color": null,
       "description_width": ""
      }
     },
     "9380919249354e46823a5ff4b16fbe56": {
      "model_module": "@jupyter-widgets/controls",
      "model_module_version": "1.5.0",
      "model_name": "DescriptionStyleModel",
      "state": {
       "_model_module": "@jupyter-widgets/controls",
       "_model_module_version": "1.5.0",
       "_model_name": "DescriptionStyleModel",
       "_view_count": null,
       "_view_module": "@jupyter-widgets/base",
       "_view_module_version": "1.2.0",
       "_view_name": "StyleView",
       "description_width": ""
      }
     },
     "962974f6fb8f41be902fc41f896af9bf": {
      "model_module": "@jupyter-widgets/base",
      "model_module_version": "1.2.0",
      "model_name": "LayoutModel",
      "state": {
       "_model_module": "@jupyter-widgets/base",
       "_model_module_version": "1.2.0",
       "_model_name": "LayoutModel",
       "_view_count": null,
       "_view_module": "@jupyter-widgets/base",
       "_view_module_version": "1.2.0",
       "_view_name": "LayoutView",
       "align_content": null,
       "align_items": null,
       "align_self": null,
       "border": null,
       "bottom": null,
       "display": null,
       "flex": null,
       "flex_flow": null,
       "grid_area": null,
       "grid_auto_columns": null,
       "grid_auto_flow": null,
       "grid_auto_rows": null,
       "grid_column": null,
       "grid_gap": null,
       "grid_row": null,
       "grid_template_areas": null,
       "grid_template_columns": null,
       "grid_template_rows": null,
       "height": null,
       "justify_content": null,
       "justify_items": null,
       "left": null,
       "margin": null,
       "max_height": null,
       "max_width": null,
       "min_height": null,
       "min_width": null,
       "object_fit": null,
       "object_position": null,
       "order": null,
       "overflow": null,
       "overflow_x": null,
       "overflow_y": null,
       "padding": null,
       "right": null,
       "top": null,
       "visibility": null,
       "width": null
      }
     },
     "97bb936d9e514267a1f7683ac73fee49": {
      "model_module": "@jupyter-widgets/controls",
      "model_module_version": "1.5.0",
      "model_name": "FloatProgressModel",
      "state": {
       "_dom_classes": [],
       "_model_module": "@jupyter-widgets/controls",
       "_model_module_version": "1.5.0",
       "_model_name": "FloatProgressModel",
       "_view_count": null,
       "_view_module": "@jupyter-widgets/controls",
       "_view_module_version": "1.5.0",
       "_view_name": "ProgressView",
       "bar_style": "success",
       "description": "",
       "description_tooltip": null,
       "layout": "IPY_MODEL_fa658fd93da8450c8c7348be32172aae",
       "max": 28.0,
       "min": 0.0,
       "orientation": "horizontal",
       "style": "IPY_MODEL_8e0ca9e59f0644d7921046db1fc2eeb3",
       "value": 28.0
      }
     },
     "9851074b7495413bb00687a40030b187": {
      "model_module": "@jupyter-widgets/controls",
      "model_module_version": "1.5.0",
      "model_name": "DescriptionStyleModel",
      "state": {
       "_model_module": "@jupyter-widgets/controls",
       "_model_module_version": "1.5.0",
       "_model_name": "DescriptionStyleModel",
       "_view_count": null,
       "_view_module": "@jupyter-widgets/base",
       "_view_module_version": "1.2.0",
       "_view_name": "StyleView",
       "description_width": ""
      }
     },
     "9e690549b84340b0a6ac7af02a307b06": {
      "model_module": "@jupyter-widgets/controls",
      "model_module_version": "1.5.0",
      "model_name": "DescriptionStyleModel",
      "state": {
       "_model_module": "@jupyter-widgets/controls",
       "_model_module_version": "1.5.0",
       "_model_name": "DescriptionStyleModel",
       "_view_count": null,
       "_view_module": "@jupyter-widgets/base",
       "_view_module_version": "1.2.0",
       "_view_name": "StyleView",
       "description_width": ""
      }
     },
     "a4b3287ea6b148cfb10d3a3a53c4aa1c": {
      "model_module": "@jupyter-widgets/controls",
      "model_module_version": "1.5.0",
      "model_name": "FloatProgressModel",
      "state": {
       "_dom_classes": [],
       "_model_module": "@jupyter-widgets/controls",
       "_model_module_version": "1.5.0",
       "_model_name": "FloatProgressModel",
       "_view_count": null,
       "_view_module": "@jupyter-widgets/controls",
       "_view_module_version": "1.5.0",
       "_view_name": "ProgressView",
       "bar_style": "success",
       "description": "",
       "description_tooltip": null,
       "layout": "IPY_MODEL_d8d1015a8fd74736b587f2643bea9277",
       "max": 231508.0,
       "min": 0.0,
       "orientation": "horizontal",
       "style": "IPY_MODEL_35cb3d63495a4ed2b8fd2ffc4597d9bf",
       "value": 231508.0
      }
     },
     "a4dd3a7515c84d24957fa90929513c9f": {
      "model_module": "@jupyter-widgets/base",
      "model_module_version": "1.2.0",
      "model_name": "LayoutModel",
      "state": {
       "_model_module": "@jupyter-widgets/base",
       "_model_module_version": "1.2.0",
       "_model_name": "LayoutModel",
       "_view_count": null,
       "_view_module": "@jupyter-widgets/base",
       "_view_module_version": "1.2.0",
       "_view_name": "LayoutView",
       "align_content": null,
       "align_items": null,
       "align_self": null,
       "border": null,
       "bottom": null,
       "display": null,
       "flex": null,
       "flex_flow": null,
       "grid_area": null,
       "grid_auto_columns": null,
       "grid_auto_flow": null,
       "grid_auto_rows": null,
       "grid_column": null,
       "grid_gap": null,
       "grid_row": null,
       "grid_template_areas": null,
       "grid_template_columns": null,
       "grid_template_rows": null,
       "height": null,
       "justify_content": null,
       "justify_items": null,
       "left": null,
       "margin": null,
       "max_height": null,
       "max_width": null,
       "min_height": null,
       "min_width": null,
       "object_fit": null,
       "object_position": null,
       "order": null,
       "overflow": null,
       "overflow_x": null,
       "overflow_y": null,
       "padding": null,
       "right": null,
       "top": null,
       "visibility": null,
       "width": null
      }
     },
     "ac06f7ecbba14025bd02c41eabfb7380": {
      "model_module": "@jupyter-widgets/controls",
      "model_module_version": "1.5.0",
      "model_name": "ProgressStyleModel",
      "state": {
       "_model_module": "@jupyter-widgets/controls",
       "_model_module_version": "1.5.0",
       "_model_name": "ProgressStyleModel",
       "_view_count": null,
       "_view_module": "@jupyter-widgets/base",
       "_view_module_version": "1.2.0",
       "_view_name": "StyleView",
       "bar_color": null,
       "description_width": ""
      }
     },
     "b376616b8c2548be982db683b1911c3a": {
      "model_module": "@jupyter-widgets/base",
      "model_module_version": "1.2.0",
      "model_name": "LayoutModel",
      "state": {
       "_model_module": "@jupyter-widgets/base",
       "_model_module_version": "1.2.0",
       "_model_name": "LayoutModel",
       "_view_count": null,
       "_view_module": "@jupyter-widgets/base",
       "_view_module_version": "1.2.0",
       "_view_name": "LayoutView",
       "align_content": null,
       "align_items": null,
       "align_self": null,
       "border": null,
       "bottom": null,
       "display": null,
       "flex": null,
       "flex_flow": null,
       "grid_area": null,
       "grid_auto_columns": null,
       "grid_auto_flow": null,
       "grid_auto_rows": null,
       "grid_column": null,
       "grid_gap": null,
       "grid_row": null,
       "grid_template_areas": null,
       "grid_template_columns": null,
       "grid_template_rows": null,
       "height": null,
       "justify_content": null,
       "justify_items": null,
       "left": null,
       "margin": null,
       "max_height": null,
       "max_width": null,
       "min_height": null,
       "min_width": null,
       "object_fit": null,
       "object_position": null,
       "order": null,
       "overflow": null,
       "overflow_x": null,
       "overflow_y": null,
       "padding": null,
       "right": null,
       "top": null,
       "visibility": null,
       "width": null
      }
     },
     "c2b030f391ac452195972bbc1fbd248d": {
      "model_module": "@jupyter-widgets/base",
      "model_module_version": "1.2.0",
      "model_name": "LayoutModel",
      "state": {
       "_model_module": "@jupyter-widgets/base",
       "_model_module_version": "1.2.0",
       "_model_name": "LayoutModel",
       "_view_count": null,
       "_view_module": "@jupyter-widgets/base",
       "_view_module_version": "1.2.0",
       "_view_name": "LayoutView",
       "align_content": null,
       "align_items": null,
       "align_self": null,
       "border": null,
       "bottom": null,
       "display": null,
       "flex": null,
       "flex_flow": null,
       "grid_area": null,
       "grid_auto_columns": null,
       "grid_auto_flow": null,
       "grid_auto_rows": null,
       "grid_column": null,
       "grid_gap": null,
       "grid_row": null,
       "grid_template_areas": null,
       "grid_template_columns": null,
       "grid_template_rows": null,
       "height": null,
       "justify_content": null,
       "justify_items": null,
       "left": null,
       "margin": null,
       "max_height": null,
       "max_width": null,
       "min_height": null,
       "min_width": null,
       "object_fit": null,
       "object_position": null,
       "order": null,
       "overflow": null,
       "overflow_x": null,
       "overflow_y": null,
       "padding": null,
       "right": null,
       "top": null,
       "visibility": null,
       "width": null
      }
     },
     "c61f87f86e5c488b9913b88c5559f6dd": {
      "model_module": "@jupyter-widgets/controls",
      "model_module_version": "1.5.0",
      "model_name": "DescriptionStyleModel",
      "state": {
       "_model_module": "@jupyter-widgets/controls",
       "_model_module_version": "1.5.0",
       "_model_name": "DescriptionStyleModel",
       "_view_count": null,
       "_view_module": "@jupyter-widgets/base",
       "_view_module_version": "1.2.0",
       "_view_name": "StyleView",
       "description_width": ""
      }
     },
     "c67612befd32422791eac73b0610e70e": {
      "model_module": "@jupyter-widgets/controls",
      "model_module_version": "1.5.0",
      "model_name": "ProgressStyleModel",
      "state": {
       "_model_module": "@jupyter-widgets/controls",
       "_model_module_version": "1.5.0",
       "_model_name": "ProgressStyleModel",
       "_view_count": null,
       "_view_module": "@jupyter-widgets/base",
       "_view_module_version": "1.2.0",
       "_view_name": "StyleView",
       "bar_color": null,
       "description_width": ""
      }
     },
     "d4db9885bd3649f592b6bf2ce1fbccf3": {
      "model_module": "@jupyter-widgets/controls",
      "model_module_version": "1.5.0",
      "model_name": "HBoxModel",
      "state": {
       "_dom_classes": [],
       "_model_module": "@jupyter-widgets/controls",
       "_model_module_version": "1.5.0",
       "_model_name": "HBoxModel",
       "_view_count": null,
       "_view_module": "@jupyter-widgets/controls",
       "_view_module_version": "1.5.0",
       "_view_name": "HBoxView",
       "box_style": "",
       "children": [
        "IPY_MODEL_2c5bd3ca893444d18d9d38cc7cb9a600",
        "IPY_MODEL_a4b3287ea6b148cfb10d3a3a53c4aa1c",
        "IPY_MODEL_e7d1558a26024a1ebbb52e5d158c2425"
       ],
       "layout": "IPY_MODEL_11fe32ea96444b158742497f05104f11"
      }
     },
     "d830228a3bc6442d9aa95cde34efc25a": {
      "model_module": "@jupyter-widgets/base",
      "model_module_version": "1.2.0",
      "model_name": "LayoutModel",
      "state": {
       "_model_module": "@jupyter-widgets/base",
       "_model_module_version": "1.2.0",
       "_model_name": "LayoutModel",
       "_view_count": null,
       "_view_module": "@jupyter-widgets/base",
       "_view_module_version": "1.2.0",
       "_view_name": "LayoutView",
       "align_content": null,
       "align_items": null,
       "align_self": null,
       "border": null,
       "bottom": null,
       "display": null,
       "flex": null,
       "flex_flow": null,
       "grid_area": null,
       "grid_auto_columns": null,
       "grid_auto_flow": null,
       "grid_auto_rows": null,
       "grid_column": null,
       "grid_gap": null,
       "grid_row": null,
       "grid_template_areas": null,
       "grid_template_columns": null,
       "grid_template_rows": null,
       "height": null,
       "justify_content": null,
       "justify_items": null,
       "left": null,
       "margin": null,
       "max_height": null,
       "max_width": null,
       "min_height": null,
       "min_width": null,
       "object_fit": null,
       "object_position": null,
       "order": null,
       "overflow": null,
       "overflow_x": null,
       "overflow_y": null,
       "padding": null,
       "right": null,
       "top": null,
       "visibility": null,
       "width": null
      }
     },
     "d8d1015a8fd74736b587f2643bea9277": {
      "model_module": "@jupyter-widgets/base",
      "model_module_version": "1.2.0",
      "model_name": "LayoutModel",
      "state": {
       "_model_module": "@jupyter-widgets/base",
       "_model_module_version": "1.2.0",
       "_model_name": "LayoutModel",
       "_view_count": null,
       "_view_module": "@jupyter-widgets/base",
       "_view_module_version": "1.2.0",
       "_view_name": "LayoutView",
       "align_content": null,
       "align_items": null,
       "align_self": null,
       "border": null,
       "bottom": null,
       "display": null,
       "flex": null,
       "flex_flow": null,
       "grid_area": null,
       "grid_auto_columns": null,
       "grid_auto_flow": null,
       "grid_auto_rows": null,
       "grid_column": null,
       "grid_gap": null,
       "grid_row": null,
       "grid_template_areas": null,
       "grid_template_columns": null,
       "grid_template_rows": null,
       "height": null,
       "justify_content": null,
       "justify_items": null,
       "left": null,
       "margin": null,
       "max_height": null,
       "max_width": null,
       "min_height": null,
       "min_width": null,
       "object_fit": null,
       "object_position": null,
       "order": null,
       "overflow": null,
       "overflow_x": null,
       "overflow_y": null,
       "padding": null,
       "right": null,
       "top": null,
       "visibility": null,
       "width": null
      }
     },
     "db8bb8dce7aa4598b022b2b965c8376d": {
      "model_module": "@jupyter-widgets/controls",
      "model_module_version": "1.5.0",
      "model_name": "HTMLModel",
      "state": {
       "_dom_classes": [],
       "_model_module": "@jupyter-widgets/controls",
       "_model_module_version": "1.5.0",
       "_model_name": "HTMLModel",
       "_view_count": null,
       "_view_module": "@jupyter-widgets/controls",
       "_view_module_version": "1.5.0",
       "_view_name": "HTMLView",
       "description": "",
       "description_tooltip": null,
       "layout": "IPY_MODEL_d830228a3bc6442d9aa95cde34efc25a",
       "placeholder": "​",
       "style": "IPY_MODEL_fd412395262e4ab7b71302b440679443",
       "value": "Downloading: 100%"
      }
     },
     "e3c4afcf3c864e21b73d125f9fa24dc4": {
      "model_module": "@jupyter-widgets/controls",
      "model_module_version": "1.5.0",
      "model_name": "HTMLModel",
      "state": {
       "_dom_classes": [],
       "_model_module": "@jupyter-widgets/controls",
       "_model_module_version": "1.5.0",
       "_model_name": "HTMLModel",
       "_view_count": null,
       "_view_module": "@jupyter-widgets/controls",
       "_view_module_version": "1.5.0",
       "_view_name": "HTMLView",
       "description": "",
       "description_tooltip": null,
       "layout": "IPY_MODEL_962974f6fb8f41be902fc41f896af9bf",
       "placeholder": "​",
       "style": "IPY_MODEL_7405cecb0f0a4ec69a0ea6dd2b8a92b4",
       "value": "Downloading: 100%"
      }
     },
     "e7d1558a26024a1ebbb52e5d158c2425": {
      "model_module": "@jupyter-widgets/controls",
      "model_module_version": "1.5.0",
      "model_name": "HTMLModel",
      "state": {
       "_dom_classes": [],
       "_model_module": "@jupyter-widgets/controls",
       "_model_module_version": "1.5.0",
       "_model_name": "HTMLModel",
       "_view_count": null,
       "_view_module": "@jupyter-widgets/controls",
       "_view_module_version": "1.5.0",
       "_view_name": "HTMLView",
       "description": "",
       "description_tooltip": null,
       "layout": "IPY_MODEL_6328ca21400d43faae47a6f5b026b0c3",
       "placeholder": "​",
       "style": "IPY_MODEL_9851074b7495413bb00687a40030b187",
       "value": " 226k/226k [00:00&lt;00:00, 5.35MB/s]"
      }
     },
     "ea80fd4d623246089e67f171d358fd7f": {
      "model_module": "@jupyter-widgets/base",
      "model_module_version": "1.2.0",
      "model_name": "LayoutModel",
      "state": {
       "_model_module": "@jupyter-widgets/base",
       "_model_module_version": "1.2.0",
       "_model_name": "LayoutModel",
       "_view_count": null,
       "_view_module": "@jupyter-widgets/base",
       "_view_module_version": "1.2.0",
       "_view_name": "LayoutView",
       "align_content": null,
       "align_items": null,
       "align_self": null,
       "border": null,
       "bottom": null,
       "display": null,
       "flex": null,
       "flex_flow": null,
       "grid_area": null,
       "grid_auto_columns": null,
       "grid_auto_flow": null,
       "grid_auto_rows": null,
       "grid_column": null,
       "grid_gap": null,
       "grid_row": null,
       "grid_template_areas": null,
       "grid_template_columns": null,
       "grid_template_rows": null,
       "height": null,
       "justify_content": null,
       "justify_items": null,
       "left": null,
       "margin": null,
       "max_height": null,
       "max_width": null,
       "min_height": null,
       "min_width": null,
       "object_fit": null,
       "object_position": null,
       "order": null,
       "overflow": null,
       "overflow_x": null,
       "overflow_y": null,
       "padding": null,
       "right": null,
       "top": null,
       "visibility": null,
       "width": null
      }
     },
     "ec280eaddaae4be2b78d9f9fc1445e13": {
      "model_module": "@jupyter-widgets/controls",
      "model_module_version": "1.5.0",
      "model_name": "HTMLModel",
      "state": {
       "_dom_classes": [],
       "_model_module": "@jupyter-widgets/controls",
       "_model_module_version": "1.5.0",
       "_model_name": "HTMLModel",
       "_view_count": null,
       "_view_module": "@jupyter-widgets/controls",
       "_view_module_version": "1.5.0",
       "_view_name": "HTMLView",
       "description": "",
       "description_tooltip": null,
       "layout": "IPY_MODEL_c2b030f391ac452195972bbc1fbd248d",
       "placeholder": "​",
       "style": "IPY_MODEL_583839f1dca043a59139f818176f89f2",
       "value": " 28.0/28.0 [00:00&lt;00:00, 898B/s]"
      }
     },
     "f73dddbd85b94fb899ec5878032ab50d": {
      "model_module": "@jupyter-widgets/base",
      "model_module_version": "1.2.0",
      "model_name": "LayoutModel",
      "state": {
       "_model_module": "@jupyter-widgets/base",
       "_model_module_version": "1.2.0",
       "_model_name": "LayoutModel",
       "_view_count": null,
       "_view_module": "@jupyter-widgets/base",
       "_view_module_version": "1.2.0",
       "_view_name": "LayoutView",
       "align_content": null,
       "align_items": null,
       "align_self": null,
       "border": null,
       "bottom": null,
       "display": null,
       "flex": null,
       "flex_flow": null,
       "grid_area": null,
       "grid_auto_columns": null,
       "grid_auto_flow": null,
       "grid_auto_rows": null,
       "grid_column": null,
       "grid_gap": null,
       "grid_row": null,
       "grid_template_areas": null,
       "grid_template_columns": null,
       "grid_template_rows": null,
       "height": null,
       "justify_content": null,
       "justify_items": null,
       "left": null,
       "margin": null,
       "max_height": null,
       "max_width": null,
       "min_height": null,
       "min_width": null,
       "object_fit": null,
       "object_position": null,
       "order": null,
       "overflow": null,
       "overflow_x": null,
       "overflow_y": null,
       "padding": null,
       "right": null,
       "top": null,
       "visibility": null,
       "width": null
      }
     },
     "fa658fd93da8450c8c7348be32172aae": {
      "model_module": "@jupyter-widgets/base",
      "model_module_version": "1.2.0",
      "model_name": "LayoutModel",
      "state": {
       "_model_module": "@jupyter-widgets/base",
       "_model_module_version": "1.2.0",
       "_model_name": "LayoutModel",
       "_view_count": null,
       "_view_module": "@jupyter-widgets/base",
       "_view_module_version": "1.2.0",
       "_view_name": "LayoutView",
       "align_content": null,
       "align_items": null,
       "align_self": null,
       "border": null,
       "bottom": null,
       "display": null,
       "flex": null,
       "flex_flow": null,
       "grid_area": null,
       "grid_auto_columns": null,
       "grid_auto_flow": null,
       "grid_auto_rows": null,
       "grid_column": null,
       "grid_gap": null,
       "grid_row": null,
       "grid_template_areas": null,
       "grid_template_columns": null,
       "grid_template_rows": null,
       "height": null,
       "justify_content": null,
       "justify_items": null,
       "left": null,
       "margin": null,
       "max_height": null,
       "max_width": null,
       "min_height": null,
       "min_width": null,
       "object_fit": null,
       "object_position": null,
       "order": null,
       "overflow": null,
       "overflow_x": null,
       "overflow_y": null,
       "padding": null,
       "right": null,
       "top": null,
       "visibility": null,
       "width": null
      }
     },
     "fd412395262e4ab7b71302b440679443": {
      "model_module": "@jupyter-widgets/controls",
      "model_module_version": "1.5.0",
      "model_name": "DescriptionStyleModel",
      "state": {
       "_model_module": "@jupyter-widgets/controls",
       "_model_module_version": "1.5.0",
       "_model_name": "DescriptionStyleModel",
       "_view_count": null,
       "_view_module": "@jupyter-widgets/base",
       "_view_module_version": "1.2.0",
       "_view_name": "StyleView",
       "description_width": ""
      }
     }
    },
    "version_major": 2,
    "version_minor": 0
   }
  }
 },
 "nbformat": 4,
 "nbformat_minor": 5
}
